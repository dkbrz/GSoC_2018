{
 "cells": [
  {
   "cell_type": "code",
   "execution_count": 1,
   "metadata": {},
   "outputs": [],
   "source": [
    "from tool.functions import *\n",
    "from tool.evaluation import *"
   ]
  },
  {
   "cell_type": "code",
   "execution_count": 2,
   "metadata": {},
   "outputs": [
    {
     "name": "stdout",
     "output_type": "stream",
     "text": [
      "Wall time: 806 ms\n",
      "Wall time: 553 ms\n",
      "Wall time: 854 ms\n",
      "Wall time: 1min\n",
      "Wall time: 5.91 s\n"
     ]
    }
   ],
   "source": [
    "lang1, lang2 = 'eng','spa'\n",
    "n = 10\n",
    "%time get_relevant_languages(lang1, lang2)\n",
    "%time load_file(lang1, lang2, n=n)\n",
    "%time change_encoding('{}-{}'.format(lang1,lang2))\n",
    "%time G = built_from_file('{}-{}'.format(lang1,lang2))\n",
    "%time l1, l2 = dictionaries(lang1, lang2)"
   ]
  },
  {
   "cell_type": "code",
   "execution_count": 5,
   "metadata": {},
   "outputs": [],
   "source": [
    "def generate_example(l1, G, lang2):\n",
    "    for i in l1:\n",
    "        if i in G:\n",
    "            ne = list(G.neighbors(i))\n",
    "            s = FilteredList(ne).lang(lang2)\n",
    "            if len(s) == 0:\n",
    "                yield i"
   ]
  },
  {
   "cell_type": "code",
   "execution_count": 16,
   "metadata": {},
   "outputs": [],
   "source": [
    "def search(G, word, target, cutoff=4, topn=5, n=20, metric='exp'):\n",
    "    candidates = possible_translations(G, word, target, cutoff=cutoff, n=n)\n",
    "    #print (candidates)\n",
    "    result = evaluation(G, word, candidates, mode = metric, cutoff=cutoff)\n",
    "    result = sorting(result, topn)\n",
    "    return result"
   ]
  },
  {
   "cell_type": "code",
   "execution_count": 29,
   "metadata": {},
   "outputs": [
    {
     "name": "stdout",
     "output_type": "stream",
     "text": [
      "eng$sorrow$[n] \n",
      "\t [(spa$pena$[n_n-f_n-f-sg], 0.5230783120738489), (spa$tristeza$[n_n-f_n-f-ND], 0.23759472290725359), (spa$lástima$[n_n-f_n-f-ND], 0.20991969764516827), (spa$vergüenza$[n_n-f_n-f-ND], 0.07221921488141791), (spa$prórroga$[n_n-f_n-f-sg], 0.052005373884161515)] \n",
      "\n",
      "eng$Higuera$[] \n",
      "\t [(spa$Higuera$[np-loc-f], 0.01831563888873418)] \n",
      "\n",
      "eng$Guardiola$[np-cog-sg] \n",
      "\t [(spa$Guardiola$[np_np-cog], 0.049787068367863944)] \n",
      "\n",
      "eng$Millicent$[np-ant_np-ant-f-sg] \n",
      "\t [(spa$Millicent$[np], 0.049787068367863944)] \n",
      "\n",
      "eng$Albania$[np-top_np_np-top-f] \n",
      "\t [(spa$Albania$[np_np-loc_np-loc-f], 0.11820987903223742), (spa$Albania$[np-top_np-top-f], 0.049787068367863944)] \n",
      "\n"
     ]
    }
   ],
   "source": [
    "for i in islice(generate_example(l1, G, lang2), 10):\n",
    "    result = search(G, i, lang2)\n",
    "    if result:\n",
    "        print (i, '\\n\\t', result, '\\n')"
   ]
  },
  {
   "cell_type": "code",
   "execution_count": null,
   "metadata": {},
   "outputs": [],
   "source": []
  }
 ],
 "metadata": {
  "kernelspec": {
   "display_name": "Python 3",
   "language": "python",
   "name": "python3"
  },
  "language_info": {
   "codemirror_mode": {
    "name": "ipython",
    "version": 3
   },
   "file_extension": ".py",
   "mimetype": "text/x-python",
   "name": "python",
   "nbconvert_exporter": "python",
   "pygments_lexer": "ipython3",
   "version": "3.6.5"
  }
 },
 "nbformat": 4,
 "nbformat_minor": 2
}
