{
 "cells": [
  {
   "cell_type": "code",
   "execution_count": 1,
   "metadata": {},
   "outputs": [
    {
     "name": "stdout",
     "output_type": "stream",
     "text": [
      "Wall time: 54.7 s\n",
      "Wall time: 5.01 s\n"
     ]
    }
   ],
   "source": [
    "from tool.func import *\n",
    "\n",
    "lang1, lang2 = 'eng','spa'\n",
    "n = 10\n",
    "%time G = built_from_file('{}-{}'.format(lang1,lang2))\n",
    "%time l1, l2 = dictionaries(lang1, lang2)"
   ]
  },
  {
   "cell_type": "code",
   "execution_count": 6,
   "metadata": {},
   "outputs": [],
   "source": [
    "def print_lemma_results(results, n=10):\n",
    "    for i in results:\n",
    "        print ('\\t\\t', i)\n",
    "        for j in results[i]:\n",
    "            print ('{}\\t{}'.format(j[0], j[1]))\n",
    "        print()"
   ]
  },
  {
   "cell_type": "code",
   "execution_count": 5,
   "metadata": {},
   "outputs": [
    {
     "data": {
      "text/plain": [
       "{eng$star$[vblex]: [(spa$protagonizar$[vblex], 0.4821836326607207),\n",
       "  (spa$jugar$[vblex_vblex-vbact], 0.2840371146351084),\n",
       "  (spa$presentar$[vblex], 0.11074869476740849),\n",
       "  (spa$constar$[vblex], 0.09727280076923756)],\n",
       " eng$star$[adj]: [(spa$estelar$[adj_adj-mf], 0.1268460281398451)],\n",
       " eng$star$[n_n-ND]: [(spa$estrella$[n-f_n_n-f-sg], 2.1957739681949104)]}"
      ]
     },
     "execution_count": 5,
     "metadata": {},
     "output_type": "execute_result"
    }
   ],
   "source": [
    "lemma_search (G, 'star', l1, 'spa', 4, topn=None)"
   ]
  },
  {
   "cell_type": "code",
   "execution_count": 8,
   "metadata": {},
   "outputs": [
    {
     "name": "stdout",
     "output_type": "stream",
     "text": [
      "\t\t eng$star$[vblex]\n",
      "spa$protagonizar$[vblex]\t0.4821836326607207\n",
      "spa$jugar$[vblex_vblex-vbact]\t0.2840371146351084\n",
      "spa$presentar$[vblex]\t0.11074869476740849\n",
      "spa$constar$[vblex]\t0.09727280076923756\n",
      "\n",
      "\t\t eng$star$[adj]\n",
      "spa$estelar$[adj_adj-mf]\t0.1268460281398451\n",
      "\n",
      "\t\t eng$star$[n_n-ND]\n",
      "spa$estrella$[n-f_n_n-f-sg]\t2.1957739681949104\n",
      "\n",
      "Wall time: 237 ms\n"
     ]
    }
   ],
   "source": [
    "%time print_lemma_results(lemma_search (G, 'star', l1, 'spa', 4, topn=None), n = 20)"
   ]
  },
  {
   "cell_type": "code",
   "execution_count": 15,
   "metadata": {},
   "outputs": [
    {
     "name": "stdout",
     "output_type": "stream",
     "text": [
      "\t\t spa$casa$[n-f-ND]\n",
      "eng$home$[n_n-sg]\t0.08379690677106663\n",
      "eng$house$[n-ND]\t0.049787068367863944\n",
      "eng$house$[n_n-sg]\t0.0404276819945128\n",
      "eng$publisher$[n_n-ND]\t0.03852947988599058\n",
      "eng$household$[n_n-ND]\t0.025053585887819647\n",
      "\n",
      "\t\t spa$casa$[n-f_n_n-f-sg]\n",
      "eng$house$[n_n-sg]\t1.438577234023077\n",
      "eng$home$[n_n-sg]\t1.330046844771966\n",
      "eng$household$[n_n-ND]\t0.5657242995846593\n",
      "eng$publisher$[n_n-ND]\t0.47930595343932697\n",
      "eng$cottage$[n]\t0.36665905656339626\n",
      "eng$publishing house$[n_n-sg]\t0.28476035190085186\n",
      "\n",
      "Wall time: 345 ms\n"
     ]
    }
   ],
   "source": [
    "%time print_lemma_results(lemma_search (G, 'casa', l2, 'eng', 4, topn=None), n = 20)"
   ]
  },
  {
   "cell_type": "code",
   "execution_count": 18,
   "metadata": {},
   "outputs": [
    {
     "name": "stdout",
     "output_type": "stream",
     "text": [
      "\t\t spa$chico$[n-m-ND]\n",
      "eng$girl$[n_n-ND]\t0.17812816475826315\n",
      "eng$boy$[n_n-ND]\t0.13358397513893056\n",
      "eng$lad$[n_n-ND]\t0.11074869476740849\n",
      "\n",
      "\t\t spa$chico$[n-f-sg]\n",
      "eng$boy$[n_n-ND]\t0.5209086002766186\n",
      "eng$girl$[n_n-ND]\t0.42919878166368775\n",
      "eng$lad$[n_n-ND]\t0.18002636686678536\n",
      "eng$child$[n_n-pl]\t0.10401074776832303\n",
      "eng$infant$[n_n-ND]\t0.1021125456598008\n",
      "\n",
      "\t\t spa$chico$[n_n-m_n-m-sg]\n",
      "eng$girl$[n_n-ND]\t2.988934345088928\n",
      "eng$boy$[n_n-ND]\t2.505448020464134\n",
      "eng$lad$[n_n-ND]\t1.3906883677637354\n",
      "\n",
      "\t\t spa$chico$[adj_adj-m-sg]\n",
      "eng$small$[adj-sint_adj]\t0.43783493077129537\n",
      "eng$little$[adj_adj-sint]\t0.21633754123647841\n",
      "eng$young$[adj-sint_adj]\t0.09505449525293999\n",
      "\n",
      "\t\t spa$chico$[n-GD]\n",
      "eng$boy$[n_n-ND]\t0.11264689687593071\n",
      "eng$lad$[n_n-ND]\t0.09505449525293999\n",
      "eng$girl$[n_n-ND]\t0.053903575992683736\n",
      "\n",
      "\t\t spa$chico$[n-m-pl]\n",
      "eng$boy$[n_n-ND]\t0.13770048276375035\n",
      "eng$child$[n_n-pl]\t0.1268460281398451\n",
      "eng$girl$[n_n-ND]\t0.07705895977198116\n",
      "eng$infant$[n_n-ND]\t0.05874332088324698\n",
      "\n",
      "\t\t spa$chico$[n-f_n-f-ND]\n",
      "eng$boy$[n_n-ND]\t1.1330752915891327\n",
      "eng$girl$[n_n-ND]\t0.750846651189136\n",
      "eng$lad$[n_n-ND]\t0.5687974665359603\n",
      "\n",
      "\t\t spa$chico$[n-f-pl]\n",
      "eng$daughter$[n_n-sg]\t0.031791532886905116\n",
      "eng$child$[n_n-pl]\t0.025053585887819647\n",
      "eng$son$[n_n-sg]\t0.01831563888873418\n",
      "\n",
      "Wall time: 462 ms\n"
     ]
    }
   ],
   "source": [
    "%time print_lemma_results(lemma_search (G, 'chico', l2, 'eng', 4, topn=None), n = 20)"
   ]
  },
  {
   "cell_type": "code",
   "execution_count": 8,
   "metadata": {},
   "outputs": [
    {
     "name": "stdout",
     "output_type": "stream",
     "text": [
      " cat a fi que [cnjadv] glg a fin de que [cnjadv]\n"
     ]
    },
    {
     "ename": "ValueError",
     "evalue": "not enough values to unpack (expected 3, got 0)",
     "output_type": "error",
     "traceback": [
      "\u001b[1;31m---------------------------------------------------------------------------\u001b[0m",
      "\u001b[1;31mValueError\u001b[0m                                Traceback (most recent call last)",
      "\u001b[1;32m<ipython-input-8-87531100154d>\u001b[0m in \u001b[0;36m<module>\u001b[1;34m()\u001b[0m\n\u001b[1;32m----> 1\u001b[1;33m \u001b[1;32mfor\u001b[0m \u001b[1;33m(\u001b[0m\u001b[0ma\u001b[0m\u001b[1;33m,\u001b[0m\u001b[0mb\u001b[0m\u001b[1;33m,\u001b[0m\u001b[0mc\u001b[0m\u001b[1;33m)\u001b[0m \u001b[1;32min\u001b[0m \u001b[0mparse_line\u001b[0m\u001b[1;33m(\u001b[0m\u001b[1;34m'     cat     a fi que        cnjadv  glg     a fin de que    cnjadv'\u001b[0m\u001b[1;33m)\u001b[0m\u001b[1;33m:\u001b[0m\u001b[1;33m\u001b[0m\u001b[0m\n\u001b[0m\u001b[0;32m      2\u001b[0m     \u001b[0mprint\u001b[0m \u001b[1;33m(\u001b[0m\u001b[0ma\u001b[0m\u001b[1;33m)\u001b[0m\u001b[1;33m\u001b[0m\u001b[0m\n",
      "\u001b[1;31mValueError\u001b[0m: not enough values to unpack (expected 3, got 0)"
     ]
    }
   ],
   "source": [
    "for (a,b,c) in parse_line('\tcat\ta fi que\tcnjadv\tglg\ta fin de que\tcnjadv'):\n",
    "    print (a)"
   ]
  }
 ],
 "metadata": {
  "kernelspec": {
   "display_name": "Python 3",
   "language": "python",
   "name": "python3"
  },
  "language_info": {
   "codemirror_mode": {
    "name": "ipython",
    "version": 3
   },
   "file_extension": ".py",
   "mimetype": "text/x-python",
   "name": "python",
   "nbconvert_exporter": "python",
   "pygments_lexer": "ipython3",
   "version": "3.6.5"
  }
 },
 "nbformat": 4,
 "nbformat_minor": 2
}
