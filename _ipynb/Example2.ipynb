{
 "cells": [
  {
   "cell_type": "code",
   "execution_count": 1,
   "metadata": {},
   "outputs": [],
   "source": [
    "from tool.functions import *\n",
    "from tool.evaluation import *"
   ]
  },
  {
   "cell_type": "markdown",
   "metadata": {},
   "source": [
    "# KAZ-TUR"
   ]
  },
  {
   "cell_type": "code",
   "execution_count": 2,
   "metadata": {},
   "outputs": [],
   "source": [
    "lang1, lang2 = 'kaz','tur'\n",
    "get_relevant_languages(lang1, lang2)"
   ]
  },
  {
   "cell_type": "markdown",
   "metadata": {},
   "source": [
    "Manually select languages from file (there are better options with eng, kir etc)"
   ]
  },
  {
   "cell_type": "code",
   "execution_count": 4,
   "metadata": {},
   "outputs": [
    {
     "data": {
      "image/png": "[encoded data removed]",
      "text/plain": [
       "<Figure size 432x288 with 1 Axes>"
      ]
     },
     "metadata": {},
     "output_type": "display_data"
    }
   ],
   "source": [
    "check_graph(lang1, lang2)"
   ]
  },
  {
   "cell_type": "code",
   "execution_count": 6,
   "metadata": {},
   "outputs": [
    {
     "name": "stdout",
     "output_type": "stream",
     "text": [
      "Wall time: 75 ms\n",
      "Wall time: 118 ms\n",
      "Wall time: 10.5 s\n",
      "Wall time: 1.32 s\n"
     ]
    }
   ],
   "source": [
    "%time load_file(lang1, lang2)\n",
    "%time change_encoding('{}-{}'.format(lang1,lang2))\n",
    "%time G = built_from_file('{}-{}'.format(lang1,lang2))\n",
    "%time l1, l2 = dictionaries(lang1, lang2)"
   ]
  },
  {
   "cell_type": "code",
   "execution_count": 7,
   "metadata": {},
   "outputs": [],
   "source": [
    "def generate_example(l1, G, lang2):\n",
    "    for i in l1:\n",
    "        if i in G:\n",
    "            ne = list(G.neighbors(i))\n",
    "            s = FilteredList(ne).lang(lang2)\n",
    "            if len(s) == 0:\n",
    "                yield i\n",
    "def search(G, word, target, cutoff=4, topn=5, n=20, metric='exp'):\n",
    "    candidates = possible_translations(G, word, target, cutoff=cutoff, n=n)\n",
    "    #print (candidates)\n",
    "    result = evaluation(G, word, candidates, mode = metric, cutoff=cutoff)\n",
    "    result = sorting(result, topn)\n",
    "    return result"
   ]
  },
  {
   "cell_type": "code",
   "execution_count": 12,
   "metadata": {},
   "outputs": [
    {
     "name": "stdout",
     "output_type": "stream",
     "text": [
      "kaz$мүмкіншілік$[n]\n",
      "\t tur$fırsat$[n_] \t 0.043369224776553826\n",
      "\t tur$imkan$[n_] \t 0.031791532886905116\n",
      "\t tur$kat$[n] \t 0.025053585887819647\n",
      "\t tur$fizibilite$[n_] \t 0.025053585887819647\n",
      "\t tur$imkân$[n] \t 0.025053585887819647\n",
      "kaz$қымқыр$[v-iv]\n",
      "\t tur$sıkıştır$[v-tv] \t 0.025053585887819647\n",
      "\t tur$kıs$[v-tv_v] \t 0.025053585887819647\n",
      "\t tur$sık$[v-tv__v] \t 0.025053585887819647\n",
      "kaz$жылжы$[v-iv]\n",
      "\t tur$bas$[v-iv] \t 0.025053585887819647\n",
      "\t tur$yürü$[v-iv_v] \t 0.025053585887819647\n",
      "\t tur$gez$[v-iv__v] \t 0.01831563888873418\n",
      "\t tur$gez$[v-tv] \t 0.006737946999085467\n",
      "\t tur$git$[v-iv_v] \t 0.006737946999085467\n",
      "kaz$қашырт$[v-tv]\n",
      "\t tur$sakla$[v-tv_v] \t 0.06326296236603487\n",
      "\t tur$gizle$[v-tv_v_v-tv-pass] \t 0.0202138409972564\n",
      "\t tur$kat$[v-tv__v] \t 0.0202138409972564\n",
      "\t tur$sok$[v-tv_v] \t 0.0202138409972564\n",
      "kaz$жалға бер$[v-tv]\n",
      "\t tur$ver$[v-tv_v] \t 0.025053585887819647\n",
      "\t tur$fenalaş$[v-iv] \t 0.01831563888873418\n",
      "\t tur$çık$[v-iv_v] \t 0.01831563888873418\n",
      "\t tur$fariğ ol$[v-tv] \t 0.01831563888873418\n",
      "\t tur$yönet$[v-tv_v] \t 0.01831563888873418\n",
      "kaz$аннотация$[n]\n",
      "\t tur$anlatma$[n] \t 0.006737946999085467\n",
      "\t tur$açıklama$[n_] \t 0.006737946999085467\n"
     ]
    }
   ],
   "source": [
    "for i in islice(generate_example(l1, G, lang2), 15):\n",
    "    result = search(G, i, lang2)\n",
    "    if result:\n",
    "        print (i)\n",
    "        for r in result:\n",
    "            print ('\\t', r[0], '\\t', r[1])"
   ]
  },
  {
   "cell_type": "markdown",
   "metadata": {},
   "source": [
    "# CHV-TAT"
   ]
  },
  {
   "cell_type": "code",
   "execution_count": 13,
   "metadata": {},
   "outputs": [],
   "source": [
    "lang1, lang2 = 'chv','tat'"
   ]
  },
  {
   "cell_type": "markdown",
   "metadata": {},
   "source": [
    "We use same languages so we don't have change configuration"
   ]
  },
  {
   "cell_type": "code",
   "execution_count": 17,
   "metadata": {},
   "outputs": [
    {
     "name": "stdout",
     "output_type": "stream",
     "text": [
      "Wall time: 80.7 ms\n",
      "Wall time: 113 ms\n",
      "Wall time: 9.93 s\n",
      "Wall time: 2.36 s\n"
     ]
    }
   ],
   "source": [
    "%time load_file(lang1, lang2)\n",
    "%time change_encoding('{}-{}'.format(lang1,lang2))\n",
    "%time G = built_from_file('{}-{}'.format(lang1,lang2))\n",
    "%time l1, l2 = dictionaries(lang1, lang2)"
   ]
  },
  {
   "cell_type": "code",
   "execution_count": 19,
   "metadata": {},
   "outputs": [
    {
     "name": "stdout",
     "output_type": "stream",
     "text": [
      "chv$кутамас$[adj]\n",
      "\t tat$кыска$[adj_adj-advl] \t 0.10179244225202547\n",
      "\t tat$тәбәнәк$[adj] \t 0.07326255555493671\n",
      "\t tat$түбән$[adj_adj-advl] \t 0.07326255555493671\n",
      "\t tat$көчсез$[adj] \t 0.013475893998170934\n",
      "\t tat$кечек$[adj_adj-advl] \t 0.013475893998170934\n",
      "chv$выставка$[n]\n",
      "\t tat$күргәзмә$[n] \t 0.07484065425568359\n",
      "chv$элек$[n]\n",
      "\t tat$гайбәт$[n] \t 0.08157860125476907\n",
      "\t tat$дан$[n] \t 0.025053585887819647\n",
      "\t tat$шөһрәт$[n] \t 0.01831563888873418\n",
      "chv$бастион$[n]\n",
      "\t tat$кала$[n_n-attr] \t 0.049787068367863944\n",
      "\t tat$кремль$[n] \t 0.049787068367863944\n",
      "\t tat$крепость$[n] \t 0.049787068367863944\n",
      "\t tat$сарай$[n] \t 0.01831563888873418\n",
      "chv$уявлани$[n]\n",
      "\t tat$бәйрәм$[n_n-attr] \t 0.025053585887819647\n",
      "\t tat$бәхет$[n] \t 0.01831563888873418\n",
      "\t tat$куаныч$[n] \t 0.01831563888873418\n",
      "\t tat$сәгадәт$[n] \t 0.01831563888873418\n",
      "\t tat$сәгадәть$[n] \t 0.01831563888873418\n",
      "chv$ир$[v-tv]\n",
      "\t tat$из$[v-tv] \t 0.06326296236603487\n",
      "\t tat$кимер$[v-tv] \t 0.006737946999085467\n",
      "\t tat$куш$[v-tv] \t 0.006737946999085467\n",
      "\t tat$арала$[v-tv] \t 0.006737946999085467\n",
      "\t tat$аннексиялә$[v-tv] \t 0.006737946999085467\n",
      "chv$кӑштӑркка$[adj]\n",
      "\t tat$каты$[adj_adj-advl] \t 0.23085677590816814\n",
      "\t tat$нык$[adj_adj-advl] \t 0.17885140202400662\n",
      "\t tat$ныклы$[adj_adj-advl] \t 0.13580228065522815\n",
      "\t tat$кискен$[adj_adj-advl] \t 0.08831654825385452\n",
      "\t tat$очлы$[adj_adj-advl] \t 0.061684863665288005\n"
     ]
    }
   ],
   "source": [
    "for i in islice(generate_example(l1, G, lang2), 15):\n",
    "    result = search(G, i, lang2)\n",
    "    if result:\n",
    "        print (i)\n",
    "        for r in result:\n",
    "            print ('\\t', r[0], '\\t', r[1])"
   ]
  }
 ],
 "metadata": {
  "kernelspec": {
   "display_name": "Python 3",
   "language": "python",
   "name": "python3"
  },
  "language_info": {
   "codemirror_mode": {
    "name": "ipython",
    "version": 3
   },
   "file_extension": ".py",
   "mimetype": "text/x-python",
   "name": "python",
   "nbconvert_exporter": "python",
   "pygments_lexer": "ipython3",
   "version": "3.6.5"
  }
 },
 "nbformat": 4,
 "nbformat_minor": 2
}
