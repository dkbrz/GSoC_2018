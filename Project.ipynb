{
 "cells": [
  {
   "cell_type": "markdown",
   "metadata": {},
   "source": [
    "# GSoC Coding challenge"
   ]
  },
  {
   "cell_type": "markdown",
   "metadata": {},
   "source": [
    "Current"
   ]
  },
  {
   "cell_type": "code",
   "execution_count": 1,
   "metadata": {
    "collapsed": false
   },
   "outputs": [],
   "source": [
    "import logging\n",
    "import sys\n",
    "\n",
    "logging.basicConfig(format='%(asctime)s | %(levelname)s : %(message)s',\n",
    "                     level=logging.INFO, stream=sys.stdout)"
   ]
  },
  {
   "cell_type": "code",
   "execution_count": 2,
   "metadata": {
    "collapsed": true
   },
   "outputs": [],
   "source": [
    "import json"
   ]
  },
  {
   "cell_type": "code",
   "execution_count": 48,
   "metadata": {
    "collapsed": true
   },
   "outputs": [],
   "source": [
    "import numpy as np"
   ]
  },
  {
   "cell_type": "code",
   "execution_count": 62,
   "metadata": {
    "collapsed": true
   },
   "outputs": [],
   "source": [
    "import re"
   ]
  },
  {
   "cell_type": "markdown",
   "metadata": {},
   "source": [
    "Future"
   ]
  },
  {
   "cell_type": "code",
   "execution_count": null,
   "metadata": {
    "collapsed": true
   },
   "outputs": [],
   "source": [
    "import warnings\n",
    "warnings.filterwarnings(\"ignore\")"
   ]
  },
  {
   "cell_type": "code",
   "execution_count": null,
   "metadata": {
    "collapsed": false
   },
   "outputs": [],
   "source": [
    "import networkx as nx\n",
    "import matplotlib.pyplot as plt"
   ]
  },
  {
   "cell_type": "code",
   "execution_count": 149,
   "metadata": {
    "collapsed": true
   },
   "outputs": [],
   "source": [
    "import xml.etree.ElementTree as ET\n",
    "import requests"
   ]
  },
  {
   "cell_type": "code",
   "execution_count": null,
   "metadata": {
    "collapsed": true
   },
   "outputs": [],
   "source": []
  },
  {
   "cell_type": "markdown",
   "metadata": {},
   "source": [
    "## Loading dictionaries"
   ]
  },
  {
   "cell_type": "markdown",
   "metadata": {},
   "source": [
    "### Git"
   ]
  },
  {
   "cell_type": "code",
   "execution_count": 2,
   "metadata": {
    "collapsed": true
   },
   "outputs": [],
   "source": [
    "import git"
   ]
  },
  {
   "cell_type": "code",
   "execution_count": 3,
   "metadata": {
    "collapsed": true
   },
   "outputs": [],
   "source": [
    "def clone_folder(name='apertium-trunk', target='./data/'):\n",
    "    repo = git.Repo.clone_from('https://github.com/apertium/'+name+'/', target)\n",
    "    for i in git.objects.submodule.root.RootModule(repo).list_items(repo):\n",
    "        git.Repo.clone_from('https://github.com/apertium/'+i.name, './data/'+i.name)\n",
    "        logging.info(i.name)"
   ]
  },
  {
   "cell_type": "code",
   "execution_count": 4,
   "metadata": {
    "collapsed": false
   },
   "outputs": [
    {
     "name": "stdout",
     "output_type": "stream",
     "text": [
      "2018-05-14 20:51:12,126 | INFO : apertium-en-gl\n",
      "2018-05-14 20:54:12,730 | INFO : apertium-eo-fr\n",
      "2018-05-14 20:54:17,434 | INFO : apertium-crh-tur\n",
      "2018-05-14 20:57:49,735 | INFO : apertium-hbs-slv\n",
      "2018-05-14 20:58:24,846 | INFO : apertium-swe-dan\n",
      "2018-05-14 21:21:52,622 | INFO : apertium-br-fr\n",
      "2018-05-14 21:23:38,604 | INFO : apertium-oc-ca\n",
      "2018-05-14 21:56:55,938 | INFO : apertium-sme-nob\n",
      "2018-05-14 21:59:23,435 | INFO : apertium-eo-ca\n",
      "2018-05-14 22:02:04,268 | INFO : apertium-eu-es\n",
      "2018-05-14 22:03:48,823 | INFO : apertium-srd-ita\n",
      "2018-05-14 22:06:30,437 | INFO : apertium-spa-ita\n",
      "2018-05-14 22:10:13,711 | INFO : apertium-eo-es\n",
      "2018-05-14 22:11:33,539 | INFO : apertium-rus-ukr\n",
      "2018-05-14 22:11:39,270 | INFO : apertium-pt-ca\n",
      "2018-05-14 22:16:13,588 | INFO : apertium-dan-nor\n",
      "2018-05-14 22:16:53,887 | INFO : apertium-oc-es\n",
      "2018-05-14 22:17:49,422 | INFO : apertium-bel-rus\n",
      "2018-05-14 22:26:17,121 | INFO : apertium-isl-eng\n",
      "2018-05-14 22:27:33,579 | INFO : apertium-hbs-eng\n",
      "2018-05-14 22:27:38,990 | INFO : apertium-pt-gl\n",
      "2018-05-14 22:29:18,974 | INFO : apertium-cat-srd\n",
      "2018-05-14 22:34:12,051 | INFO : apertium-es-ro\n",
      "2018-05-14 22:34:28,729 | INFO : apertium-spa-arg\n",
      "2018-05-14 22:35:48,344 | INFO : apertium-swe-nor\n",
      "2018-05-14 22:37:43,671 | INFO : apertium-hbs-mkd\n",
      "2018-05-14 22:42:49,729 | INFO : apertium-fr-es\n",
      "2018-05-14 22:49:34,808 | INFO : apertium-eo-en\n",
      "2018-05-14 22:49:59,044 | INFO : apertium-id-ms\n",
      "2018-05-14 23:10:30,867 | INFO : apertium-en-es\n",
      "2018-05-14 23:19:11,013 | INFO : apertium-eng-kaz\n",
      "2018-05-14 23:20:00,603 | INFO : apertium-kaz-tat\n",
      "2018-05-14 23:25:19,429 | INFO : apertium-eu-en\n",
      "2018-05-14 23:25:30,662 | INFO : apertium-fra-cat\n",
      "2018-05-14 23:25:35,961 | INFO : apertium-arg-cat\n",
      "2018-05-14 23:26:44,393 | INFO : apertium-mlt-ara\n",
      "2018-05-14 23:26:51,467 | INFO : apertium-urd-hin\n",
      "2018-05-14 23:46:47,978 | INFO : apertium-nno-nob\n",
      "2018-05-14 23:47:11,740 | INFO : apertium-spa-cat\n",
      "2018-05-14 23:48:48,110 | INFO : apertium-kaz-rus\n",
      "2018-05-14 23:48:58,333 | INFO : apertium-es-gl\n",
      "2018-05-14 23:49:31,567 | INFO : apertium-ca-it\n",
      "2018-05-14 23:50:18,367 | INFO : apertium-es-pt\n",
      "2018-05-14 23:50:45,866 | INFO : apertium-mkd-bul\n",
      "2018-05-14 23:51:56,117 | INFO : apertium-mkd-eng\n",
      "2018-05-14 23:52:52,968 | INFO : apertium-isl-swe\n",
      "2018-05-14 23:54:21,983 | INFO : apertium-spa-ast\n",
      "2018-05-14 23:55:39,963 | INFO : apertium-afr-nld\n",
      "2018-05-14 23:57:04,736 | INFO : apertium-cym-eng\n",
      "2018-05-14 23:57:31,271 | INFO : apertium-eng-cat\n"
     ]
    }
   ],
   "source": [
    "clone_folder()"
   ]
  },
  {
   "cell_type": "markdown",
   "metadata": {},
   "source": [
    "### PyGithub"
   ]
  },
  {
   "cell_type": "code",
   "execution_count": 3,
   "metadata": {
    "collapsed": true
   },
   "outputs": [],
   "source": [
    "from github import Github"
   ]
  },
  {
   "cell_type": "code",
   "execution_count": 4,
   "metadata": {
    "collapsed": true
   },
   "outputs": [],
   "source": [
    "with open ('secure.json') as f:\n",
    "    SECRET = json.loads(f.read())"
   ]
  },
  {
   "cell_type": "code",
   "execution_count": 7,
   "metadata": {
    "collapsed": true
   },
   "outputs": [],
   "source": [
    "github = Github(SECRET['USER'], SECRET['PASSWORD'])"
   ]
  },
  {
   "cell_type": "code",
   "execution_count": 19,
   "metadata": {
    "collapsed": false
   },
   "outputs": [],
   "source": [
    "user = github.get_user('apertium')"
   ]
  },
  {
   "cell_type": "code",
   "execution_count": 121,
   "metadata": {
    "collapsed": false
   },
   "outputs": [
    {
     "data": {
      "text/plain": [
       "'Apertium'"
      ]
     },
     "execution_count": 121,
     "metadata": {},
     "output_type": "execute_result"
    }
   ],
   "source": [
    "user.name"
   ]
  },
  {
   "cell_type": "code",
   "execution_count": 133,
   "metadata": {
    "collapsed": true
   },
   "outputs": [],
   "source": [
    "def repo_names(user):\n",
    "    for repo in user.get_repos():\n",
    "        if re.match('apertium-[a-z]{2,3}(_[a-zA-Z]{2,3})?-[a-z]{2,3}(_[a-zA-Z]{2,3})?', repo.name):\n",
    "            yield repo.name"
   ]
  },
  {
   "cell_type": "code",
   "execution_count": null,
   "metadata": {
    "collapsed": false
   },
   "outputs": [],
   "source": [
    "list(repo_names(user))"
   ]
  },
  {
   "cell_type": "code",
   "execution_count": 124,
   "metadata": {
    "collapsed": false
   },
   "outputs": [],
   "source": [
    "repo = github.get_repo('apertium/apertium-afr-nld')"
   ]
  },
  {
   "cell_type": "code",
   "execution_count": 128,
   "metadata": {
    "collapsed": true
   },
   "outputs": [],
   "source": [
    "def download(user):\n",
    "    for repo_name in repo_names(user):\n",
    "        bidix = bidix_url(github.get_repo(user.name+'/'+repo_name))\n",
    "        if not bidix:\n",
    "            print (repo_name)"
   ]
  },
  {
   "cell_type": "code",
   "execution_count": 141,
   "metadata": {
    "collapsed": true
   },
   "outputs": [],
   "source": [
    "def bidix_url(repo):\n",
    "    bidix = repo.name+'.'+repo.name.replace('apertium-','')+'.dix'\n",
    "    for i in repo.get_dir_contents('/'):\n",
    "        if re.match('apertium-.*?\\.[a-z]{2,3}(_[a-zA-Z]{2,3})?-[a-z]{2,3}(_[a-zA-Z]{2,3})?.dix', i.path):\n",
    "            return i.download_url"
   ]
  },
  {
   "cell_type": "code",
   "execution_count": 142,
   "metadata": {
    "collapsed": false
   },
   "outputs": [
    {
     "name": "stdout",
     "output_type": "stream",
     "text": [
      "apertium-en-lv\n",
      "apertium-est-nor\n",
      "apertium-ita-srd\n",
      "apertium-ky-en\n",
      "apertium-lex-tools\n",
      "apertium-on-github\n",
      "apertium-ru-cu\n",
      "apertium-sc-pt\n",
      "apertium-urd-pan\n"
     ]
    }
   ],
   "source": [
    "download(user)"
   ]
  },
  {
   "cell_type": "markdown",
   "metadata": {},
   "source": [
    "All these repos do not have bidixes except for the lat one. There are two of them. So that's strange."
   ]
  },
  {
   "cell_type": "code",
   "execution_count": 143,
   "metadata": {
    "collapsed": true
   },
   "outputs": [],
   "source": [
    "def download(user):\n",
    "    for repo_name in repo_names(user):\n",
    "        bidix = bidix_url(github.get_repo(user.name+'/'+repo_name))\n",
    "        print(bidix)\n",
    "        "
   ]
  },
  {
   "cell_type": "code",
   "execution_count": 144,
   "metadata": {
    "collapsed": false,
    "scrolled": false
   },
   "outputs": [
    {
     "name": "stdout",
     "output_type": "stream",
     "text": [
      "https://raw.githubusercontent.com/apertium/apertium-afr-nld/master/apertium-afr-nld.afr-nld.dix\n",
      "https://raw.githubusercontent.com/apertium/apertium-ara-heb/master/apertium-ara-heb.ara-heb.dix\n",
      "https://raw.githubusercontent.com/apertium/apertium-arg-cat/master/apertium-arg-cat.arg-cat.dix\n",
      "https://raw.githubusercontent.com/apertium/apertium-as-hi/master/apertium-as-hi.as-hi.dix\n",
      "https://raw.githubusercontent.com/apertium/apertium-asm-ben/master/apertium-asm-ben.asm-ben.dix\n",
      "https://raw.githubusercontent.com/apertium/apertium-asm-eng/master/apertium-asm-eng.asm-eng.dix\n",
      "https://raw.githubusercontent.com/apertium/apertium-ava-rus/master/apertium-ava-rus.ava-rus.dix\n",
      "https://raw.githubusercontent.com/apertium/apertium-bel-rus/master/apertium-bel-rus.bel-rus.dix\n",
      "https://raw.githubusercontent.com/apertium/apertium-bg-el/master/apertium-bg-el.bg-el.dix\n",
      "https://raw.githubusercontent.com/apertium/apertium-bg-en/master/apertium-bg-en.bg-en.dix\n",
      "https://raw.githubusercontent.com/apertium/apertium-bg-ru/master/apertium-bg-ru.bg-ru.dix\n",
      "https://raw.githubusercontent.com/apertium/apertium-bn-en/master/apertium-bn-en.bn-en.dix\n",
      "https://raw.githubusercontent.com/apertium/apertium-bn-hi/master/apertium-bn-hi.bn-hi.dix\n",
      "https://raw.githubusercontent.com/apertium/apertium-br-fr/master/apertium-br-fr.br-fr.dix\n",
      "https://raw.githubusercontent.com/apertium/apertium-bre-cym/master/apertium-bre-cym.bre-cym.dix\n",
      "https://raw.githubusercontent.com/apertium/apertium-bre-spa/master/apertium-bre-spa.bre-spa.dix\n",
      "https://raw.githubusercontent.com/apertium/apertium-bua-khk/master/apertium-bua-khk.bua-khk.dix\n",
      "https://raw.githubusercontent.com/apertium/apertium-byv-fra/master/apertium-byv-fra.byv-fra.dix\n",
      "https://raw.githubusercontent.com/apertium/apertium-ca-it/master/apertium-ca-it.ca-it.dix\n",
      "https://raw.githubusercontent.com/apertium/apertium-cat-cos/master/apertium-cat-cos.cat-cos.dix\n",
      "https://raw.githubusercontent.com/apertium/apertium-cat-glg/master/apertium-cat-glg.cat-glg.dix\n",
      "https://raw.githubusercontent.com/apertium/apertium-cat-ina/master/apertium-cat-ina.cat-ina.dix\n",
      "https://raw.githubusercontent.com/apertium/apertium-cat-srd/master/apertium-cat-srd.cat-srd.dix\n",
      "https://raw.githubusercontent.com/apertium/apertium-ces-ces/master/apertium-ces-ces.ces-ces_han.dix\n",
      "https://raw.githubusercontent.com/apertium/apertium-ces-hbs/master/apertium-ces-hbs.ces-hbs.dix\n",
      "https://raw.githubusercontent.com/apertium/apertium-ces-rus/master/apertium-ces-rus.ces-rus.dix\n",
      "https://raw.githubusercontent.com/apertium/apertium-ces-slk/master/apertium-ces-slk.ces-slk.dix\n",
      "https://raw.githubusercontent.com/apertium/apertium-chv-rus/master/apertium-chv-rus.chv-rus.dix\n",
      "https://raw.githubusercontent.com/apertium/apertium-chv-tat/master/apertium-chv-tat.chv-tat.dix\n",
      "https://raw.githubusercontent.com/apertium/apertium-chv-tur/master/apertium-chv-tur.chv-tur.dix\n",
      "https://raw.githubusercontent.com/apertium/apertium-ckb-eng/master/apertium-ckb-eng.ckb-eng.dix\n",
      "https://raw.githubusercontent.com/apertium/apertium-cos-ita/master/apertium-cos-ita.cos-ita.dix\n",
      "https://raw.githubusercontent.com/apertium/apertium-crh-tur/master/apertium-crh-tur.crh-tur.dix\n",
      "https://raw.githubusercontent.com/apertium/apertium-cs-sl/master/apertium-cs-sl.cs-sl.dix\n",
      "https://raw.githubusercontent.com/apertium/apertium-cy-es/master/apertium-cy-es.cy-es.dix\n",
      "https://raw.githubusercontent.com/apertium/apertium-cym-eng/master/apertium-cym-eng.cym-eng.dix\n",
      "https://raw.githubusercontent.com/apertium/apertium-dan-nor/master/apertium-dan-nor.dan-nor.dix\n",
      "https://raw.githubusercontent.com/apertium/apertium-deu-dan/master/apertium-deu-dan.deu-dan.dix\n",
      "https://raw.githubusercontent.com/apertium/apertium-deu-ina/master/apertium-deu-ina.deu-ina.dix\n",
      "https://raw.githubusercontent.com/apertium/apertium-deu-ltz/master/apertium-deu-ltz.deu-ltz.dix\n",
      "https://raw.githubusercontent.com/apertium/apertium-deu-nld/master/apertium-deu-nld.deu-nld.dix\n",
      "https://raw.githubusercontent.com/apertium/apertium-deu-swe/master/apertium-deu-swe.deu-swe.dix\n",
      "https://raw.githubusercontent.com/apertium/apertium-ell-eng/master/apertium-ell-eng.ell-eng.dix\n",
      "https://raw.githubusercontent.com/apertium/apertium-en-es/master/apertium-en-es.en-es.dix\n",
      "https://raw.githubusercontent.com/apertium/apertium-en-ga/master/apertium-en-ga.en-ga.dix\n",
      "https://raw.githubusercontent.com/apertium/apertium-en-gl/master/apertium-en-gl.en-gl.dix\n",
      "https://raw.githubusercontent.com/apertium/apertium-en-it/master/apertium-en-it.en-it.dix\n",
      "https://raw.githubusercontent.com/apertium/apertium-en-lt/master/apertium-en-lt.en-lt.dix\n",
      "None\n",
      "https://raw.githubusercontent.com/apertium/apertium-en-mt/master/apertium-en-mt.en-mt.dix\n",
      "https://raw.githubusercontent.com/apertium/apertium-en-nl/master/apertium-en-nl.en-nl.dix\n",
      "https://raw.githubusercontent.com/apertium/apertium-en-pl/master/apertium-en-pl.en-pl.dix\n",
      "https://raw.githubusercontent.com/apertium/apertium-en-pt/master/apertium-en-pt.en-pt.dix\n",
      "https://raw.githubusercontent.com/apertium/apertium-en-sq/master/apertium-en-sq.en-sq.dix\n",
      "https://raw.githubusercontent.com/apertium/apertium-eng-afr/master/apertium-eng-afr.eng-afr.dix\n",
      "https://raw.githubusercontent.com/apertium/apertium-eng-cat/master/apertium-eng-cat.eng-cat.dix\n",
      "https://raw.githubusercontent.com/apertium/apertium-eng-deu/master/apertium-eng-deu.eng-deu.dix\n",
      "https://raw.githubusercontent.com/apertium/apertium-eng-hin/master/apertium-eng-hin.eng-hin.dix\n",
      "https://raw.githubusercontent.com/apertium/apertium-eng-ina/master/apertium-eng-ina.eng-ina.dix\n",
      "https://raw.githubusercontent.com/apertium/apertium-eng-ita/master/apertium-eng-ita.eng-ita.dix\n",
      "https://raw.githubusercontent.com/apertium/apertium-eng-kaz/master/apertium-eng-kaz.eng-kaz.dix\n",
      "https://raw.githubusercontent.com/apertium/apertium-eng-lvs/master/apertium-eng-lvs.eng-lvs.dix\n",
      "https://raw.githubusercontent.com/apertium/apertium-eng-pes/master/apertium-eng-pes.eng-pes.dix\n",
      "https://raw.githubusercontent.com/apertium/apertium-eng-sco/master/apertium-eng-sco.eng-sco.dix\n",
      "https://raw.githubusercontent.com/apertium/apertium-eng-srn/master/apertium-eng-srn.eng-srn.dix\n",
      "https://raw.githubusercontent.com/apertium/apertium-eng-tel/master/apertium-eng-tel.eng-tel.dix\n",
      "https://raw.githubusercontent.com/apertium/apertium-eo-be/master/apertium-eo-be.eo-be.dix\n",
      "https://raw.githubusercontent.com/apertium/apertium-eo-bg/master/apertium-eo-bg.eo-bg.dix\n",
      "https://raw.githubusercontent.com/apertium/apertium-eo-br/master/apertium-eo-br.eo-br.dix\n",
      "https://raw.githubusercontent.com/apertium/apertium-eo-ca/master/apertium-eo-ca.eo-ca.dix\n",
      "https://raw.githubusercontent.com/apertium/apertium-eo-cs/master/apertium-eo-cs.eo-cs.dix\n",
      "https://raw.githubusercontent.com/apertium/apertium-eo-de/master/apertium-eo-de.eo-de.dix\n",
      "https://raw.githubusercontent.com/apertium/apertium-eo-el/master/apertium-eo-el.eo-el.dix\n",
      "https://raw.githubusercontent.com/apertium/apertium-eo-en/master/apertium-eo-en.eo-en.dix\n",
      "https://raw.githubusercontent.com/apertium/apertium-eo-es/master/apertium-eo-es.eo-es.dix\n",
      "https://raw.githubusercontent.com/apertium/apertium-eo-fa/master/apertium-eo-fa.eo-fa.dix\n",
      "https://raw.githubusercontent.com/apertium/apertium-eo-fi/master/apertium-eo-fi.eo-fi.dix\n",
      "https://raw.githubusercontent.com/apertium/apertium-eo-fr/master/apertium-eo-fr.eo-fr.dix\n",
      "https://raw.githubusercontent.com/apertium/apertium-eo-he/master/apertium-eo-he.eo-he.dix\n",
      "https://raw.githubusercontent.com/apertium/apertium-eo-hu/master/apertium-eo-hu.eo-hu.dix\n",
      "https://raw.githubusercontent.com/apertium/apertium-eo-it/master/apertium-eo-it.eo-it.dix\n",
      "https://raw.githubusercontent.com/apertium/apertium-eo-ne/master/apertium-eo-ne.eo-ne.dix\n",
      "https://raw.githubusercontent.com/apertium/apertium-eo-nl/master/apertium-eo-nl.eo-nl.dix\n",
      "https://raw.githubusercontent.com/apertium/apertium-eo-pl/master/apertium-eo-pl.eo-pl.dix\n",
      "https://raw.githubusercontent.com/apertium/apertium-eo-pt/master/apertium-eo-pt.eo-pt.dix\n",
      "https://raw.githubusercontent.com/apertium/apertium-eo-ru/master/apertium-epo-rus.epo-rus.dix\n",
      "https://raw.githubusercontent.com/apertium/apertium-eo-sk/master/apertium-eo-sk.eo-sk.dix\n",
      "https://raw.githubusercontent.com/apertium/apertium-eo-sv/master/apertium-eo-sv.eo-sv.dix\n",
      "https://raw.githubusercontent.com/apertium/apertium-eo-tr/master/apertium-eo-tr.eo-tr.dix\n",
      "https://raw.githubusercontent.com/apertium/apertium-epo-fra/master/apertium-epo-fra.epo-fra.dix\n",
      "https://raw.githubusercontent.com/apertium/apertium-es-cs/master/apertium-es-cs.es-cs.dix\n",
      "https://raw.githubusercontent.com/apertium/apertium-es-gl/master/apertium-es-gl.es-gl.dix\n",
      "https://raw.githubusercontent.com/apertium/apertium-es-ia/master/apertium-es-ia.es-ia.dix\n",
      "https://raw.githubusercontent.com/apertium/apertium-es-pt/master/apertium-es-pt.es-pt.dix\n",
      "https://raw.githubusercontent.com/apertium/apertium-es-ro/master/apertium-es-ro.es-ro.dix\n",
      "https://raw.githubusercontent.com/apertium/apertium-es-ssp/master/apertium-es-ssp.es-ssp.dix\n",
      "None\n",
      "https://raw.githubusercontent.com/apertium/apertium-eu-en/master/apertium-eu-en.eu-en.dix\n",
      "https://raw.githubusercontent.com/apertium/apertium-eu-es/master/apertium-eu-es.eu-es.dix\n",
      "https://raw.githubusercontent.com/apertium/apertium-eu-eu_bis/master/apertium-eu-eu_bis.eu-eu_bis.dix\n",
      "https://raw.githubusercontent.com/apertium/apertium-eu-fr/master/apertium-eu-fr.eu-fr.dix\n",
      "https://raw.githubusercontent.com/apertium/apertium-eu-hu/master/apertium-eu-hu.eu-hu.dix\n",
      "https://raw.githubusercontent.com/apertium/apertium-eus-fin/master/apertium-eus-fin.eus-fin.dix\n",
      "https://raw.githubusercontent.com/apertium/apertium-eus-sme/master/apertium-eus-sme.eus-sme.dix\n",
      "https://raw.githubusercontent.com/apertium/apertium-fao-dan/master/apertium-fao-dan.fao-dan.dix\n",
      "https://raw.githubusercontent.com/apertium/apertium-fao-isl/master/apertium-fao-isl.fao-isl.dix\n",
      "https://raw.githubusercontent.com/apertium/apertium-fao-nor/master/apertium-fao-nor.fao-nor.dix\n",
      "https://raw.githubusercontent.com/apertium/apertium-fin-ces/master/apertium-fin-ces.fin-ces.dix\n",
      "https://raw.githubusercontent.com/apertium/apertium-fin-deu/master/apertium-fin-deu.fin-deu.dix\n",
      "https://raw.githubusercontent.com/apertium/apertium-fin-eng/master/apertium-fin-eng.fin-eng.dix\n",
      "https://raw.githubusercontent.com/apertium/apertium-fin-est/master/apertium-fin-est.fin-est.dix\n",
      "https://raw.githubusercontent.com/apertium/apertium-fin-fkv/master/apertium-fin-fkv.fin-fkv.dix\n",
      "https://raw.githubusercontent.com/apertium/apertium-fin-fra/master/apertium-fin-fra.fin-fra.dix\n",
      "https://raw.githubusercontent.com/apertium/apertium-fin-gle/master/apertium-fin-gle.fin-gle.dix\n",
      "https://raw.githubusercontent.com/apertium/apertium-fin-hbs/master/apertium-fin-hbs.fin-hbs.dix\n",
      "https://raw.githubusercontent.com/apertium/apertium-fin-hun/master/apertium-fin-hun.fin-hun.dix\n",
      "https://raw.githubusercontent.com/apertium/apertium-fin-isl/master/apertium-fin-isl.fin-isl.dix\n",
      "https://raw.githubusercontent.com/apertium/apertium-fin-ita/master/apertium-fin-ita.fin-ita.dix\n",
      "https://raw.githubusercontent.com/apertium/apertium-fin-kaz/master/apertium-fin-kaz.fin-kaz.dix\n",
      "https://raw.githubusercontent.com/apertium/apertium-fin-krl/master/apertium-fin-krl.fin-krl.dix\n",
      "https://raw.githubusercontent.com/apertium/apertium-fin-olo/master/apertium-fin-olo.fin-olo.dix\n",
      "https://raw.githubusercontent.com/apertium/apertium-fin-spa/master/apertium-fin-spa.fin-spa.dix\n",
      "https://raw.githubusercontent.com/apertium/apertium-fin-swe/master/apertium-fin-swe.fin-swe.dix\n",
      "https://raw.githubusercontent.com/apertium/apertium-fin-udm/master/apertium-fin-udm.fin-udm.dix\n",
      "https://raw.githubusercontent.com/apertium/apertium-fr-es/master/apertium-fr-es.fr-es.dix\n",
      "https://raw.githubusercontent.com/apertium/apertium-fr-it/master/apertium-fr-it.fr-it.dix\n",
      "https://raw.githubusercontent.com/apertium/apertium-fr-nl/master/apertium-fr-nl.fr-nl.dix\n",
      "https://raw.githubusercontent.com/apertium/apertium-fra-cat/master/apertium-fra-cat.fra-cat.dix\n",
      "https://raw.githubusercontent.com/apertium/apertium-fra-eng/master/apertium-fra-eng.fra-eng.dix\n",
      "https://raw.githubusercontent.com/apertium/apertium-fra-ina/master/apertium-fra-ina.fra-ina.dix\n",
      "https://raw.githubusercontent.com/apertium/apertium-fra-ita/master/apertium-fra-ita.fra-ita.dix\n",
      "https://raw.githubusercontent.com/apertium/apertium-fra-por/master/apertium-fra-por.fra-por.dix\n",
      "https://raw.githubusercontent.com/apertium/apertium-fra-ron/master/apertium-fra-ron.fra-ron.dix\n",
      "https://raw.githubusercontent.com/apertium/apertium-ga-gd/master/apertium-ga-gd.ga-gd.dix\n",
      "https://raw.githubusercontent.com/apertium/apertium-ga-gv/master/apertium-ga-gv.ga-gv.dix\n",
      "https://raw.githubusercontent.com/apertium/apertium-gle-eng/master/apertium-gle-eng.gle-eng.dix\n",
      "https://raw.githubusercontent.com/apertium/apertium-grn-spa/master/apertium-grn-spa.grn-spa.dix\n",
      "https://raw.githubusercontent.com/apertium/apertium-guc-spa/master/apertium-guc-spa.guc-spa.dix\n",
      "https://raw.githubusercontent.com/apertium/apertium-guj-hin/master/apertium-guj-hin.guj-hin.dix\n",
      "https://raw.githubusercontent.com/apertium/apertium-haw-eng/master/apertium-haw-eng.haw-eng.dix\n",
      "https://raw.githubusercontent.com/apertium/apertium-hbs-eng/master/apertium-hbs-eng.hbs-eng.dix\n",
      "https://raw.githubusercontent.com/apertium/apertium-hbs-mkd/master/apertium-hbs-mkd.hbs-mkd.dix\n",
      "https://raw.githubusercontent.com/apertium/apertium-hbs-rus/master/apertium-hbs-rus.hbs-rus.dix\n",
      "https://raw.githubusercontent.com/apertium/apertium-hbs-slv/master/apertium-hbs-slv.hbs-slv.dix\n",
      "https://raw.githubusercontent.com/apertium/apertium-hbs_HR-hbs_SR/master/apertium-hbs.hbs_HR-hbs_SR.dix\n",
      "https://raw.githubusercontent.com/apertium/apertium-hin-pan/master/apertium-hin-pan.hin-pan.dix\n",
      "https://raw.githubusercontent.com/apertium/apertium-ht-en/master/apertium-ht-en.ht-en.dix\n",
      "https://raw.githubusercontent.com/apertium/apertium-hun-eng/master/apertium-hun-eng.hun-eng.dix\n",
      "https://raw.githubusercontent.com/apertium/apertium-hye-eng/master/apertium-hye-eng.hye-eng.dix\n",
      "https://raw.githubusercontent.com/apertium/apertium-id-ms/master/apertium-id-ms.id-ms.dix\n",
      "https://raw.githubusercontent.com/apertium/apertium-ina-spa/master/apertium-ina-spa.ina-spa.dix\n",
      "https://raw.githubusercontent.com/apertium/apertium-isl-eng/master/apertium-isl-eng.isl-eng.dix\n",
      "https://raw.githubusercontent.com/apertium/apertium-isl-rus/master/apertium-isl-rus.isl-rus.dix\n",
      "https://raw.githubusercontent.com/apertium/apertium-isl-swe/master/apertium-isl-swe.isl-swe.dix\n",
      "https://raw.githubusercontent.com/apertium/apertium-it-pt/master/apertium-it-pt.it-pt.dix\n",
      "https://raw.githubusercontent.com/apertium/apertium-ita-ita/master/apertium-ita-ita.ita-ita.dix\n",
      "https://raw.githubusercontent.com/apertium/apertium-ita-nor/master/apertium-ita-nor.ita-nor.dix\n",
      "None\n",
      "https://raw.githubusercontent.com/apertium/apertium-kan-mar/master/apertium-kan-mar.kan-mar.dix\n",
      "https://raw.githubusercontent.com/apertium/apertium-kaz-kaa/master/apertium-kaz-kaa.kaz-kaa.dix\n",
      "https://raw.githubusercontent.com/apertium/apertium-kaz-kir/master/apertium-kaz-kir.kaz-kir.dix\n",
      "https://raw.githubusercontent.com/apertium/apertium-kaz-kum/master/apertium-kaz-kum.kaz-kum.dix\n",
      "https://raw.githubusercontent.com/apertium/apertium-kaz-rus/master/apertium-kaz-rus.kaz-rus.dix\n",
      "https://raw.githubusercontent.com/apertium/apertium-kaz-sah/master/apertium-kaz-sah.kaz-sah.dix\n",
      "https://raw.githubusercontent.com/apertium/apertium-kaz-tat/master/apertium-kaz-tat.kaz-tat.dix\n",
      "https://raw.githubusercontent.com/apertium/apertium-kaz-tur/master/apertium-kaz-tur.kaz-tur.dix\n",
      "https://raw.githubusercontent.com/apertium/apertium-kaz-tyv/master/apertium-kaz-tyv.kaz-tyv.dix\n",
      "https://raw.githubusercontent.com/apertium/apertium-kaz-uig/master/apertium-kaz-uig.kaz-uig.dix\n",
      "https://raw.githubusercontent.com/apertium/apertium-khk-kaz/master/apertium-khk-kaz.khk-kaz.dix\n",
      "https://raw.githubusercontent.com/apertium/apertium-kir-uzb/master/apertium-kir-uzb.kir-uzb.dix\n",
      "https://raw.githubusercontent.com/apertium/apertium-kmr-eng/master/apertium-kmr-eng.kmr-eng.dix\n",
      "https://raw.githubusercontent.com/apertium/apertium-kpv-fin/master/apertium-kpv-fin.kpv-fin.dix\n",
      "https://raw.githubusercontent.com/apertium/apertium-kpv-mhr/master/apertium-kpv-mhr.kpv-mhr.dix\n",
      "https://raw.githubusercontent.com/apertium/apertium-krl-olo/master/apertium-krl-olo.krl-olo.dix\n",
      "https://raw.githubusercontent.com/apertium/apertium-kv-ru/master/apertium-kv-ru.kv-ru.dix\n",
      "None\n",
      "https://raw.githubusercontent.com/apertium/apertium-la-en/master/apertium-la-en.la-en.dix\n",
      "https://raw.githubusercontent.com/apertium/apertium-la-es/master/apertium-la-es.la-es.dix\n",
      "https://raw.githubusercontent.com/apertium/apertium-la-it/master/apertium-la-it.la-it.dix\n",
      "https://raw.githubusercontent.com/apertium/apertium-lat-eng/master/apertium-lat-eng.lat-eng.dix\n",
      "None\n",
      "https://raw.githubusercontent.com/apertium/apertium-liv-fin/master/apertium-liv-fin.liv-fin.dix\n",
      "https://raw.githubusercontent.com/apertium/apertium-lt-lv/master/apertium-lt-lv.lt-lv.dix\n",
      "https://raw.githubusercontent.com/apertium/apertium-lv-lg/master/apertium-lv-lg.lv-lg.dix\n",
      "https://raw.githubusercontent.com/apertium/apertium-mal-eng/master/apertium-mal-eng.mal-eng.dix\n",
      "https://raw.githubusercontent.com/apertium/apertium-mar-eng/master/apertium-mar-eng.mar-eng.dix\n",
      "https://raw.githubusercontent.com/apertium/apertium-mar-hin/master/apertium-mar-hin.mar-hin.dix\n",
      "https://raw.githubusercontent.com/apertium/apertium-mfe-en/master/apertium-mfe-en.mfe-en.dix\n",
      "https://raw.githubusercontent.com/apertium/apertium-mkd-bul/master/apertium-mkd-bul.mkd-bul.dix\n",
      "https://raw.githubusercontent.com/apertium/apertium-mkd-eng/master/apertium-mkd-eng.mkd-eng.dix\n",
      "https://raw.githubusercontent.com/apertium/apertium-mkd-sqi/master/apertium-mkd-sqi.mkd-sqi.dix\n",
      "https://raw.githubusercontent.com/apertium/apertium-mlt-ara/master/apertium-mlt-ara.mlt-ara.dix\n",
      "https://raw.githubusercontent.com/apertium/apertium-mlt-heb/master/apertium-mlt-heb.mlt-heb.dix\n",
      "https://raw.githubusercontent.com/apertium/apertium-mlt-spa/master/apertium-mlt-spa.mlt-spa.dix\n",
      "https://raw.githubusercontent.com/apertium/apertium-mrj-fin/master/apertium-mrj-fin.mrj-fin.dix\n",
      "https://raw.githubusercontent.com/apertium/apertium-myv-fin/master/apertium-myv-fin.myv-fin.dix\n",
      "https://raw.githubusercontent.com/apertium/apertium-myv-mdf/master/apertium-myv-mdf.myv-mdf.dix\n",
      "https://raw.githubusercontent.com/apertium/apertium-ne-en/master/apertium-ne-en.ne-en.dix\n",
      "https://raw.githubusercontent.com/apertium/apertium-nld-fry/master/apertium-nld-fry.nld-fry.dix\n",
      "https://raw.githubusercontent.com/apertium/apertium-nno-nob/master/apertium-nno-nob.nno-nob.dix\n",
      "https://raw.githubusercontent.com/apertium/apertium-nog-kaz/master/apertium-nog-kaz.nog-kaz.dix\n",
      "https://raw.githubusercontent.com/apertium/apertium-nor-eng/master/apertium-nor-eng.nor-eng.dix\n",
      "https://raw.githubusercontent.com/apertium/apertium-oc-ca/master/apertium-oc-ca.oc-ca.dix\n",
      "https://raw.githubusercontent.com/apertium/apertium-oc-es/master/apertium-oc-es.oc-es.dix\n",
      "https://raw.githubusercontent.com/apertium/apertium-oci-cat/master/apertium-oci-cat.oci-cat.dix\n",
      "https://raw.githubusercontent.com/apertium/apertium-oci-fra/master/apertium-oci-fra.oci-fra.dix\n",
      "https://raw.githubusercontent.com/apertium/apertium-oci-spa/master/apertium-oci-spa.oci-spa.dix\n",
      "https://raw.githubusercontent.com/apertium/apertium-olo-fin/master/apertium-olo-fin.olo-fin.dix\n",
      "None\n",
      "https://raw.githubusercontent.com/apertium/apertium-pes-eng/master/apertium-pes-eng.pes-eng.dix\n",
      "https://raw.githubusercontent.com/apertium/apertium-pes-glk/master/apertium-pes-glk.pes-glk.dix\n",
      "https://raw.githubusercontent.com/apertium/apertium-pl-csb/master/apertium-pl-csb.pl-csb.dix\n",
      "https://raw.githubusercontent.com/apertium/apertium-pl-dsb/master/apertium-pl-dsb.pl-dsb.dix\n",
      "https://raw.githubusercontent.com/apertium/apertium-pl-eo/master/apertium-pl-eo.pl-eo.dix\n",
      "https://raw.githubusercontent.com/apertium/apertium-pl-hsb/master/apertium-pl-hsb.pl-hsb.dix\n",
      "https://raw.githubusercontent.com/apertium/apertium-pl-lt/master/apertium-pl-lt.pl-lt.dix\n",
      "https://raw.githubusercontent.com/apertium/apertium-pl-lv/master/apertium-pl-lv.pl-lv.dix\n",
      "https://raw.githubusercontent.com/apertium/apertium-pl-sk/master/apertium-pl-sk.pl-sk.dix\n",
      "https://raw.githubusercontent.com/apertium/apertium-pol-ces/master/apertium-pol-ces.pol-ces.dix\n",
      "https://raw.githubusercontent.com/apertium/apertium-pol-hbs/master/apertium-pol-hbs.pol-hbs.dix\n",
      "https://raw.githubusercontent.com/apertium/apertium-pol-rus/master/apertium-pol-rus.pol-rus.dix\n",
      "https://raw.githubusercontent.com/apertium/apertium-pol-ukr/master/apertium-pol-ukr.pol-ukr.dix\n",
      "https://raw.githubusercontent.com/apertium/apertium-por-cat/master/apertium-por-cat.por-cat.dix\n",
      "https://raw.githubusercontent.com/apertium/apertium-por-ina/master/apertium-por-ina.por-ina.dix\n",
      "https://raw.githubusercontent.com/apertium/apertium-pt-ca/master/apertium-pt-ca.pt-ca.dix\n",
      "https://raw.githubusercontent.com/apertium/apertium-pt-gl/master/apertium-pt-gl.pt-gl.dix\n",
      "https://raw.githubusercontent.com/apertium/apertium-quz-spa/master/apertium-quz-spa.quz-spa.dix\n",
      "https://raw.githubusercontent.com/apertium/apertium-ro-it/master/apertium-ro-it.ro-it.dix\n",
      "https://raw.githubusercontent.com/apertium/apertium-ron-cat/master/apertium-ron-cat.ron-cat.dix\n",
      "https://raw.githubusercontent.com/apertium/apertium-ron-ina/master/apertium-ron-ina.ron-ina.dix\n",
      "https://raw.githubusercontent.com/apertium/apertium-ron-rup/master/apertium-ron-rup.ron-rup.dix\n",
      "None\n",
      "https://raw.githubusercontent.com/apertium/apertium-rus-eng/master/apertium-ru-en.ru-en.dix\n",
      "https://raw.githubusercontent.com/apertium/apertium-rus-ukr/master/apertium-rus-ukr.rus-ukr.dix\n",
      "https://raw.githubusercontent.com/apertium/apertium-sah-eng/master/apertium-sah-eng.sah-eng.dix\n",
      "None\n",
      "https://raw.githubusercontent.com/apertium/apertium-scn-spa/master/apertium-scn-spa.scn-spa.dix\n",
      "https://raw.githubusercontent.com/apertium/apertium-si-en/master/apertium-si-en.si-en.dix\n",
      "https://raw.githubusercontent.com/apertium/apertium-sjo-eng/master/apertium-sjo-eng.sjo-eng.dix\n",
      "https://raw.githubusercontent.com/apertium/apertium-sl-mk/master/apertium-sl-mk.sl-mk.dix\n",
      "https://raw.githubusercontent.com/apertium/apertium-slv-ita/master/apertium-slv-ita.slv-ita.dix\n",
      "https://raw.githubusercontent.com/apertium/apertium-slv-pol/master/apertium-slv-pol.slv-pol.dix\n",
      "https://raw.githubusercontent.com/apertium/apertium-slv-spa/master/apertium-sl-es.sl-es.dix\n",
      "https://raw.githubusercontent.com/apertium/apertium-sma-nob/master/apertium-sma-nob.sma-nob.dix\n",
      "https://raw.githubusercontent.com/apertium/apertium-sme-deu/master/apertium-sme-deu.sme-deu.dix\n",
      "https://raw.githubusercontent.com/apertium/apertium-sme-est/master/apertium-sme-est.sme-est.dix\n",
      "https://raw.githubusercontent.com/apertium/apertium-sme-fin/master/apertium-sme-fin.sme-fin.dix\n",
      "https://raw.githubusercontent.com/apertium/apertium-sme-nob/master/apertium-sme-nob.sme-nob.dix\n",
      "https://raw.githubusercontent.com/apertium/apertium-sme-sma/master/apertium-sme-sma.sme-sma.dix\n",
      "https://raw.githubusercontent.com/apertium/apertium-sme-smj/master/apertium-sme-smj.sme-smj.dix\n",
      "https://raw.githubusercontent.com/apertium/apertium-sme-smn/master/apertium-sme-smn.sme-smn.dix\n",
      "https://raw.githubusercontent.com/apertium/apertium-sme-spa/master/apertium-sme-spa.sme-spa.dix\n",
      "https://raw.githubusercontent.com/apertium/apertium-smj-nob/master/apertium-smj-nob.smj-nob.dix\n",
      "https://raw.githubusercontent.com/apertium/apertium-snd-hin/master/apertium-snd-hin.snd-hin.dix\n",
      "https://raw.githubusercontent.com/apertium/apertium-spa-arg/master/apertium-spa-arg.spa-arg.dix\n",
      "https://raw.githubusercontent.com/apertium/apertium-spa-ast/master/apertium-spa-ast.spa-ast.dix\n",
      "https://raw.githubusercontent.com/apertium/apertium-spa-cat/master/apertium-spa-cat.spa-cat.dix\n",
      "https://raw.githubusercontent.com/apertium/apertium-spa-cos/master/apertium-spa-cos.spa-cos.dix\n",
      "https://raw.githubusercontent.com/apertium/apertium-spa-deu/master/apertium-spa-deu.spa-deu.dix\n",
      "https://raw.githubusercontent.com/apertium/apertium-spa-ita/master/apertium-spa-ita.spa-ita.dix\n",
      "https://raw.githubusercontent.com/apertium/apertium-spa-pol/master/apertium-spa-pol.spa-pol.dix\n",
      "https://raw.githubusercontent.com/apertium/apertium-spa-qve/master/apertium-qve-spa.qve-spa.dix\n",
      "https://raw.githubusercontent.com/apertium/apertium-srd-ita/master/apertium-srd-ita.srd-ita.dix\n",
      "https://raw.githubusercontent.com/apertium/apertium-sw-rn/master/apertium-sw-rn.sw-rn.dix\n",
      "https://raw.githubusercontent.com/apertium/apertium-swa-eng/master/apertium-swa-eng.swa-eng.dix\n",
      "https://raw.githubusercontent.com/apertium/apertium-swe-dan/master/apertium-swe-dan.swe-dan.dix\n",
      "https://raw.githubusercontent.com/apertium/apertium-swe-eng/master/apertium-swe-eng.swe-eng.dix\n",
      "https://raw.githubusercontent.com/apertium/apertium-swe-nor/master/apertium-swe-nor.swe-nor.dix\n",
      "https://raw.githubusercontent.com/apertium/apertium-tat-bak/master/apertium-tat-bak.tat-bak.dix\n",
      "https://raw.githubusercontent.com/apertium/apertium-tat-eng/master/apertium-tat-eng.tat-eng.dix\n",
      "https://raw.githubusercontent.com/apertium/apertium-tat-kir/master/apertium-tt-ky.tt-ky.dix\n",
      "https://raw.githubusercontent.com/apertium/apertium-tat-rus/master/apertium-tat-rus.tat-rus.dix\n",
      "https://raw.githubusercontent.com/apertium/apertium-tel-mar/master/apertium-tel-mar.tel-mar.dix\n",
      "https://raw.githubusercontent.com/apertium/apertium-tet-por/master/apertium-tet-por.tet-por.dix\n",
      "https://raw.githubusercontent.com/apertium/apertium-tgk-pes/master/apertium-tgk-pes.tgk-pes.dix\n",
      "https://raw.githubusercontent.com/apertium/apertium-tgl-ceb/master/apertium-tgl-ceb.tgl-ceb.dix\n",
      "https://raw.githubusercontent.com/apertium/apertium-tha-eng/master/apertium-tha-eng.tha-eng.dix\n",
      "https://raw.githubusercontent.com/apertium/apertium-tha-lao/master/apertium-tha-lao.tha-lao.dix\n",
      "https://raw.githubusercontent.com/apertium/apertium-tlh-swe/master/apertium-tlh-swe.tlh-swe.dix\n",
      "https://raw.githubusercontent.com/apertium/apertium-tr-en/master/apertium-tr-en.tr-en.dix\n",
      "https://raw.githubusercontent.com/apertium/apertium-tuk-tur/master/apertium-tuk-tur.tuk-tur.dix\n",
      "https://raw.githubusercontent.com/apertium/apertium-tur-aze/master/apertium-tur-aze.tur-aze.dix\n",
      "https://raw.githubusercontent.com/apertium/apertium-tur-fin/master/apertium-tur-fin.tur-fin.dix\n",
      "https://raw.githubusercontent.com/apertium/apertium-tur-kir/master/apertium-tur-kir.tur-kir.dix\n",
      "https://raw.githubusercontent.com/apertium/apertium-tur-tat/master/apertium-tur-tat.tur-tat.dix\n",
      "https://raw.githubusercontent.com/apertium/apertium-tur-uzb/master/apertium-tur-uzb.tur-uzb.dix\n",
      "https://raw.githubusercontent.com/apertium/apertium-udm-kpv/master/apertium-udm-kpv.udm-kpv.dix\n",
      "https://raw.githubusercontent.com/apertium/apertium-udm-rus/master/apertium-udm-rus.udm-rus.dix\n",
      "https://raw.githubusercontent.com/apertium/apertium-uig-tur/master/apertium-uig-tur.uig-tur.dix\n",
      "https://raw.githubusercontent.com/apertium/apertium-urd-hin/master/apertium-urd-hin.urd-hin.dix\n",
      "None\n",
      "https://raw.githubusercontent.com/apertium/apertium-urd-snd/master/apertium-urd-snd.urd-snd.dix\n",
      "https://raw.githubusercontent.com/apertium/apertium-uzb-kaa/master/apertium-uzb-kaa.uzb-kaa.dix\n",
      "https://raw.githubusercontent.com/apertium/apertium-vi-en/master/apertium-vi-en.vi-en.dix\n",
      "https://raw.githubusercontent.com/apertium/apertium-vro-est/master/apertium-vro-est.vro-est.dix\n",
      "https://raw.githubusercontent.com/apertium/apertium-zho-spa/master/apertium-zho-spa.zho-spa.dix\n",
      "https://raw.githubusercontent.com/apertium/apertium-zh_CN-zh_TW/master/apertium-zh_CN-zh_TW.zh_CN-zh_TW.dix\n",
      "https://raw.githubusercontent.com/apertium/apertium-zu-xh/master/apertium-zu-xh.zu-xh.dix\n",
      "https://raw.githubusercontent.com/apertium/apertium-zul-ssw/master/apertium-zul-ssw.zul-ssw.dix\n"
     ]
    }
   ],
   "source": [
    "download(user)"
   ]
  },
  {
   "cell_type": "code",
   "execution_count": 145,
   "metadata": {
    "collapsed": true
   },
   "outputs": [],
   "source": [
    "def tree(url):\n",
    "    response = requests.get(url)\n",
    "    return ET.fromstring(response.content)"
   ]
  },
  {
   "cell_type": "code",
   "execution_count": null,
   "metadata": {
    "collapsed": true
   },
   "outputs": [],
   "source": []
  },
  {
   "cell_type": "code",
   "execution_count": 172,
   "metadata": {
    "collapsed": false
   },
   "outputs": [
    {
     "name": "stdout",
     "output_type": "stream",
     "text": [
      "Wall time: 29.3 s\n"
     ]
    }
   ],
   "source": [
    "%time w = list(repo_names(user))"
   ]
  },
  {
   "cell_type": "code",
   "execution_count": 174,
   "metadata": {
    "collapsed": false
   },
   "outputs": [
    {
     "name": "stdout",
     "output_type": "stream",
     "text": [
      "Wall time: 1.59 s\n"
     ]
    },
    {
     "data": {
      "text/plain": [
       "'https://raw.githubusercontent.com/apertium/apertium-afr-nld/master/apertium-afr-nld.afr-nld.dix'"
      ]
     },
     "execution_count": 174,
     "metadata": {},
     "output_type": "execute_result"
    }
   ],
   "source": [
    "%time bidix_url(github.get_repo(user.name+'/'+w[0]))"
   ]
  },
  {
   "cell_type": "code",
   "execution_count": 167,
   "metadata": {
    "collapsed": true
   },
   "outputs": [],
   "source": [
    "def download():\n",
    "    for repo_name in repo_names(user):\n",
    "        url = bidix_url(github.get_repo(user.name+'/'+repo_name))\n",
    "        if url:\n",
    "            lang = re.findall('\\.([a-zA-Z_]{2,7})-([a-zA-Z_]{2,7})\\.dix$', url)\n",
    "            l1, l2 = lang[0][0], lang[0][1]\n",
    "            try:\n",
    "                t = tree(url)\n",
    "            except:\n",
    "                print(l1, l2)"
   ]
  },
  {
   "cell_type": "code",
   "execution_count": 168,
   "metadata": {
    "collapsed": false
   },
   "outputs": [
    {
     "name": "stdout",
     "output_type": "stream",
     "text": [
      "eo bg\n",
      "eo fa\n",
      "eo pl\n",
      "fin fra\n",
      "pl lv\n",
      "sah eng\n",
      "Wall time: 12min 6s\n"
     ]
    }
   ],
   "source": [
    "%time download()"
   ]
  },
  {
   "cell_type": "markdown",
   "metadata": {},
   "source": [
    "## Language codes"
   ]
  },
  {
   "cell_type": "code",
   "execution_count": 17,
   "metadata": {
    "collapsed": true
   },
   "outputs": [],
   "source": [
    "from numpy import nan"
   ]
  },
  {
   "cell_type": "code",
   "execution_count": 1,
   "metadata": {
    "collapsed": false
   },
   "outputs": [],
   "source": [
    "import pandas as pd"
   ]
  },
  {
   "cell_type": "code",
   "execution_count": 43,
   "metadata": {
    "collapsed": false
   },
   "outputs": [],
   "source": [
    "lang_codes = pd.read_csv('./files/language-codes-full_csv.csv', na_values = 0)\n",
    "lang_codes = lang_codes[['alpha3-b','alpha2']]\n",
    "lang_codes = lang_codes.dropna()"
   ]
  },
  {
   "cell_type": "code",
   "execution_count": 44,
   "metadata": {
    "collapsed": false
   },
   "outputs": [
    {
     "data": {
      "text/html": [
       "<div>\n",
       "<table border=\"1\" class=\"dataframe\">\n",
       "  <thead>\n",
       "    <tr style=\"text-align: right;\">\n",
       "      <th></th>\n",
       "      <th>alpha3-b</th>\n",
       "      <th>alpha2</th>\n",
       "    </tr>\n",
       "  </thead>\n",
       "  <tbody>\n",
       "    <tr>\n",
       "      <th>0</th>\n",
       "      <td>aar</td>\n",
       "      <td>aa</td>\n",
       "    </tr>\n",
       "    <tr>\n",
       "      <th>1</th>\n",
       "      <td>abk</td>\n",
       "      <td>ab</td>\n",
       "    </tr>\n",
       "    <tr>\n",
       "      <th>8</th>\n",
       "      <td>afr</td>\n",
       "      <td>af</td>\n",
       "    </tr>\n",
       "    <tr>\n",
       "      <th>10</th>\n",
       "      <td>aka</td>\n",
       "      <td>ak</td>\n",
       "    </tr>\n",
       "    <tr>\n",
       "      <th>12</th>\n",
       "      <td>alb</td>\n",
       "      <td>sq</td>\n",
       "    </tr>\n",
       "  </tbody>\n",
       "</table>\n",
       "</div>"
      ],
      "text/plain": [
       "   alpha3-b alpha2\n",
       "0       aar     aa\n",
       "1       abk     ab\n",
       "8       afr     af\n",
       "10      aka     ak\n",
       "12      alb     sq"
      ]
     },
     "execution_count": 44,
     "metadata": {},
     "output_type": "execute_result"
    }
   ],
   "source": [
    "lang_codes.head()"
   ]
  },
  {
   "cell_type": "code",
   "execution_count": 50,
   "metadata": {
    "collapsed": false
   },
   "outputs": [],
   "source": [
    "lang_codes = {i[1]:i[0] for i in np.array(lang_codes)}"
   ]
  },
  {
   "cell_type": "code",
   "execution_count": 54,
   "metadata": {
    "collapsed": false
   },
   "outputs": [],
   "source": [
    "with open ('./files/lang_codes.json', 'w') as f:\n",
    "    json.dump(lang_codes, f)"
   ]
  },
  {
   "cell_type": "code",
   "execution_count": null,
   "metadata": {
    "collapsed": false
   },
   "outputs": [],
   "source": [
    "with open ('./files/lang_codes.json', 'w') as f:\n",
    "    lang_codes = json.loads(f)"
   ]
  },
  {
   "cell_type": "code",
   "execution_count": null,
   "metadata": {
    "collapsed": true
   },
   "outputs": [],
   "source": [
    "def l(lang):\n",
    "    if len(lang)==2:\n",
    "        if lang in lang_codes:\n",
    "            return lang_codes[lang]\n",
    "        else:\n",
    "            return lang\n",
    "    else:\n",
    "        return lang"
   ]
  },
  {
   "cell_type": "markdown",
   "metadata": {},
   "source": [
    "## Object classes"
   ]
  },
  {
   "cell_type": "markdown",
   "metadata": {},
   "source": [
    "** Word **\n",
    "\n",
    "- lemma : lemma\n",
    "- lang : language\n",
    "- pos : part of speech"
   ]
  },
  {
   "cell_type": "code",
   "execution_count": null,
   "metadata": {
    "collapsed": true
   },
   "outputs": [],
   "source": [
    "class Word:\n",
    "    def __init__(self, lemma, lang, pos, add=[]):\n",
    "        self.lemma = lemma\n",
    "        self.lang = lang\n",
    "        self.pos = pos\n",
    "        self.add = add\n",
    "    \n",
    "    def __str__(self):\n",
    "        return (str(self.lang)+'_'+str(self.lemma)+'_'+str(self.pos))+'_'+str('-'.join(self.add))\n",
    "    \n",
    "    __repr__ = __str__\n",
    "    \n",
    "    def __eq__(self, other):\n",
    "        return self.lemma == other.lemma and self.lang == other.lang and self.pos == other.pos\n",
    "    \n",
    "    def __hash__(self):\n",
    "        return hash(str(self))"
   ]
  },
  {
   "cell_type": "code",
   "execution_count": null,
   "metadata": {
    "collapsed": true
   },
   "outputs": [],
   "source": [
    "#"
   ]
  },
  {
   "cell_type": "code",
   "execution_count": null,
   "metadata": {
    "collapsed": true
   },
   "outputs": [],
   "source": [
    "def parse_and_add(file, lang1, lang2, G):\n",
    "    "
   ]
  }
 ],
 "metadata": {
  "kernelspec": {
   "display_name": "Python 3",
   "language": "python",
   "name": "python3"
  },
  "language_info": {
   "codemirror_mode": {
    "name": "ipython",
    "version": 3
   },
   "file_extension": ".py",
   "mimetype": "text/x-python",
   "name": "python",
   "nbconvert_exporter": "python",
   "pygments_lexer": "ipython3",
   "version": "3.6.5"
  }
 },
 "nbformat": 4,
 "nbformat_minor": 2
}
