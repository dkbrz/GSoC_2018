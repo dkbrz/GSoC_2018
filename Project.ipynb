{
 "cells": [
  {
   "cell_type": "markdown",
   "metadata": {},
   "source": [
    "# GSoC Coding challenge"
   ]
  },
  {
   "cell_type": "markdown",
   "metadata": {},
   "source": [
    "Current"
   ]
  },
  {
   "cell_type": "code",
   "execution_count": 1,
   "metadata": {
    "collapsed": false
   },
   "outputs": [],
   "source": [
    "import logging\n",
    "import sys\n",
    "\n",
    "logging.basicConfig(format='%(asctime)s | %(levelname)s : %(message)s',\n",
    "                     level=logging.INFO, stream=sys.stdout)"
   ]
  },
  {
   "cell_type": "code",
   "execution_count": 46,
   "metadata": {
    "collapsed": true
   },
   "outputs": [],
   "source": [
    "import json"
   ]
  },
  {
   "cell_type": "code",
   "execution_count": 48,
   "metadata": {
    "collapsed": true
   },
   "outputs": [],
   "source": [
    "import numpy as np"
   ]
  },
  {
   "cell_type": "markdown",
   "metadata": {},
   "source": [
    "Future"
   ]
  },
  {
   "cell_type": "code",
   "execution_count": null,
   "metadata": {
    "collapsed": true
   },
   "outputs": [],
   "source": [
    "import warnings\n",
    "warnings.filterwarnings(\"ignore\")"
   ]
  },
  {
   "cell_type": "code",
   "execution_count": null,
   "metadata": {
    "collapsed": false
   },
   "outputs": [],
   "source": [
    "import networkx as nx\n",
    "import matplotlib.pyplot as plt"
   ]
  },
  {
   "cell_type": "code",
   "execution_count": null,
   "metadata": {
    "collapsed": true
   },
   "outputs": [],
   "source": [
    "import xml.etree.ElementTree as ET\n",
    "import requests"
   ]
  },
  {
   "cell_type": "code",
   "execution_count": null,
   "metadata": {
    "collapsed": true
   },
   "outputs": [],
   "source": []
  },
  {
   "cell_type": "markdown",
   "metadata": {},
   "source": [
    "## Loading dictionaries"
   ]
  },
  {
   "cell_type": "markdown",
   "metadata": {},
   "source": [
    "### Git"
   ]
  },
  {
   "cell_type": "code",
   "execution_count": 2,
   "metadata": {
    "collapsed": true
   },
   "outputs": [],
   "source": [
    "import git"
   ]
  },
  {
   "cell_type": "code",
   "execution_count": 3,
   "metadata": {
    "collapsed": true
   },
   "outputs": [],
   "source": [
    "def clone_folder(name='apertium-trunk', target='./data/'):\n",
    "    repo = git.Repo.clone_from('https://github.com/apertium/'+name+'/', target)\n",
    "    for i in git.objects.submodule.root.RootModule(repo).list_items(repo):\n",
    "        git.Repo.clone_from('https://github.com/apertium/'+i.name, './data/'+i.name)\n",
    "        logging.info(i.name)"
   ]
  },
  {
   "cell_type": "code",
   "execution_count": null,
   "metadata": {
    "collapsed": false
   },
   "outputs": [
    {
     "name": "stdout",
     "output_type": "stream",
     "text": [
      "2018-05-14 20:51:12,126 | INFO : apertium-en-gl\n",
      "2018-05-14 20:54:12,730 | INFO : apertium-eo-fr\n",
      "2018-05-14 20:54:17,434 | INFO : apertium-crh-tur\n",
      "2018-05-14 20:57:49,735 | INFO : apertium-hbs-slv\n",
      "2018-05-14 20:58:24,846 | INFO : apertium-swe-dan\n",
      "2018-05-14 21:21:52,622 | INFO : apertium-br-fr\n",
      "2018-05-14 21:23:38,604 | INFO : apertium-oc-ca\n",
      "2018-05-14 21:56:55,938 | INFO : apertium-sme-nob\n",
      "2018-05-14 21:59:23,435 | INFO : apertium-eo-ca\n",
      "2018-05-14 22:02:04,268 | INFO : apertium-eu-es\n",
      "2018-05-14 22:03:48,823 | INFO : apertium-srd-ita\n",
      "2018-05-14 22:06:30,437 | INFO : apertium-spa-ita\n",
      "2018-05-14 22:10:13,711 | INFO : apertium-eo-es\n",
      "2018-05-14 22:11:33,539 | INFO : apertium-rus-ukr\n",
      "2018-05-14 22:11:39,270 | INFO : apertium-pt-ca\n",
      "2018-05-14 22:16:13,588 | INFO : apertium-dan-nor\n",
      "2018-05-14 22:16:53,887 | INFO : apertium-oc-es\n",
      "2018-05-14 22:17:49,422 | INFO : apertium-bel-rus\n",
      "2018-05-14 22:26:17,121 | INFO : apertium-isl-eng\n",
      "2018-05-14 22:27:33,579 | INFO : apertium-hbs-eng\n",
      "2018-05-14 22:27:38,990 | INFO : apertium-pt-gl\n",
      "2018-05-14 22:29:18,974 | INFO : apertium-cat-srd\n",
      "2018-05-14 22:34:12,051 | INFO : apertium-es-ro\n",
      "2018-05-14 22:34:28,729 | INFO : apertium-spa-arg\n",
      "2018-05-14 22:35:48,344 | INFO : apertium-swe-nor\n",
      "2018-05-14 22:37:43,671 | INFO : apertium-hbs-mkd\n",
      "2018-05-14 22:42:49,729 | INFO : apertium-fr-es\n",
      "2018-05-14 22:49:34,808 | INFO : apertium-eo-en\n",
      "2018-05-14 22:49:59,044 | INFO : apertium-id-ms\n",
      "2018-05-14 23:10:30,867 | INFO : apertium-en-es\n",
      "2018-05-14 23:19:11,013 | INFO : apertium-eng-kaz\n",
      "2018-05-14 23:20:00,603 | INFO : apertium-kaz-tat\n",
      "2018-05-14 23:25:19,429 | INFO : apertium-eu-en\n",
      "2018-05-14 23:25:30,662 | INFO : apertium-fra-cat\n",
      "2018-05-14 23:25:35,961 | INFO : apertium-arg-cat\n",
      "2018-05-14 23:26:44,393 | INFO : apertium-mlt-ara\n",
      "2018-05-14 23:26:51,467 | INFO : apertium-urd-hin\n",
      "2018-05-14 23:46:47,978 | INFO : apertium-nno-nob\n",
      "2018-05-14 23:47:11,740 | INFO : apertium-spa-cat\n",
      "2018-05-14 23:48:48,110 | INFO : apertium-kaz-rus\n",
      "2018-05-14 23:48:58,333 | INFO : apertium-es-gl\n",
      "2018-05-14 23:49:31,567 | INFO : apertium-ca-it\n",
      "2018-05-14 23:50:18,367 | INFO : apertium-es-pt\n",
      "2018-05-14 23:50:45,866 | INFO : apertium-mkd-bul\n",
      "2018-05-14 23:51:56,117 | INFO : apertium-mkd-eng\n",
      "2018-05-14 23:52:52,968 | INFO : apertium-isl-swe\n",
      "2018-05-14 23:54:21,983 | INFO : apertium-spa-ast\n",
      "2018-05-14 23:55:39,963 | INFO : apertium-afr-nld\n",
      "2018-05-14 23:57:04,736 | INFO : apertium-cym-eng\n"
     ]
    }
   ],
   "source": [
    "clone_folder()"
   ]
  },
  {
   "cell_type": "markdown",
   "metadata": {},
   "source": [
    "### PyGithub"
   ]
  },
  {
   "cell_type": "code",
   "execution_count": null,
   "metadata": {
    "collapsed": true
   },
   "outputs": [],
   "source": [
    "from github import Github"
   ]
  },
  {
   "cell_type": "code",
   "execution_count": null,
   "metadata": {
    "collapsed": true
   },
   "outputs": [],
   "source": [
    "with open ('secure.json') as f:\n",
    "    SECRET = json.loads(f.read())"
   ]
  },
  {
   "cell_type": "code",
   "execution_count": null,
   "metadata": {
    "collapsed": true
   },
   "outputs": [],
   "source": [
    "g = Github(SECRET['USER'], SECRET['PASSWORD'])"
   ]
  },
  {
   "cell_type": "markdown",
   "metadata": {},
   "source": [
    "[Downloading file](https://sookocheff.com/post/tools/downloading-directories-of-code-from-github-using-the-github-api/)"
   ]
  },
  {
   "cell_type": "markdown",
   "metadata": {},
   "source": [
    "[Docs](https://media.readthedocs.org/pdf/pygithub/stable/pygithub.pdf)"
   ]
  },
  {
   "cell_type": "markdown",
   "metadata": {},
   "source": [
    "## Language codes"
   ]
  },
  {
   "cell_type": "code",
   "execution_count": 17,
   "metadata": {
    "collapsed": true
   },
   "outputs": [],
   "source": [
    "from numpy import nan"
   ]
  },
  {
   "cell_type": "code",
   "execution_count": 1,
   "metadata": {
    "collapsed": false
   },
   "outputs": [],
   "source": [
    "import pandas as pd"
   ]
  },
  {
   "cell_type": "code",
   "execution_count": 43,
   "metadata": {
    "collapsed": false
   },
   "outputs": [],
   "source": [
    "lang_codes = pd.read_csv('./files/language-codes-full_csv.csv', na_values = 0)\n",
    "lang_codes = lang_codes[['alpha3-b','alpha2']]\n",
    "lang_codes = lang_codes.dropna()"
   ]
  },
  {
   "cell_type": "code",
   "execution_count": 44,
   "metadata": {
    "collapsed": false
   },
   "outputs": [
    {
     "data": {
      "text/html": [
       "<div>\n",
       "<table border=\"1\" class=\"dataframe\">\n",
       "  <thead>\n",
       "    <tr style=\"text-align: right;\">\n",
       "      <th></th>\n",
       "      <th>alpha3-b</th>\n",
       "      <th>alpha2</th>\n",
       "    </tr>\n",
       "  </thead>\n",
       "  <tbody>\n",
       "    <tr>\n",
       "      <th>0</th>\n",
       "      <td>aar</td>\n",
       "      <td>aa</td>\n",
       "    </tr>\n",
       "    <tr>\n",
       "      <th>1</th>\n",
       "      <td>abk</td>\n",
       "      <td>ab</td>\n",
       "    </tr>\n",
       "    <tr>\n",
       "      <th>8</th>\n",
       "      <td>afr</td>\n",
       "      <td>af</td>\n",
       "    </tr>\n",
       "    <tr>\n",
       "      <th>10</th>\n",
       "      <td>aka</td>\n",
       "      <td>ak</td>\n",
       "    </tr>\n",
       "    <tr>\n",
       "      <th>12</th>\n",
       "      <td>alb</td>\n",
       "      <td>sq</td>\n",
       "    </tr>\n",
       "  </tbody>\n",
       "</table>\n",
       "</div>"
      ],
      "text/plain": [
       "   alpha3-b alpha2\n",
       "0       aar     aa\n",
       "1       abk     ab\n",
       "8       afr     af\n",
       "10      aka     ak\n",
       "12      alb     sq"
      ]
     },
     "execution_count": 44,
     "metadata": {},
     "output_type": "execute_result"
    }
   ],
   "source": [
    "lang_codes.head()"
   ]
  },
  {
   "cell_type": "code",
   "execution_count": 50,
   "metadata": {
    "collapsed": false
   },
   "outputs": [],
   "source": [
    "lang_codes = {i[1]:i[0] for i in np.array(lang_codes)}"
   ]
  },
  {
   "cell_type": "code",
   "execution_count": 54,
   "metadata": {
    "collapsed": false
   },
   "outputs": [],
   "source": [
    "with open ('./files/lang_codes.json', 'w') as f:\n",
    "    json.dump(lang_codes, f)"
   ]
  },
  {
   "cell_type": "code",
   "execution_count": null,
   "metadata": {
    "collapsed": false
   },
   "outputs": [],
   "source": [
    "with open ('./files/lang_codes.json', 'w') as f:\n",
    "    lang_codes = json.loads(f)"
   ]
  },
  {
   "cell_type": "code",
   "execution_count": null,
   "metadata": {
    "collapsed": true
   },
   "outputs": [],
   "source": [
    "def l(lang):\n",
    "    if len(lang)==2:\n",
    "        if lang in lang_codes:\n",
    "            return lang_codes[lang]\n",
    "        else:\n",
    "            return lang\n",
    "    else:\n",
    "        return lang"
   ]
  },
  {
   "cell_type": "markdown",
   "metadata": {},
   "source": [
    "## Object classes"
   ]
  },
  {
   "cell_type": "markdown",
   "metadata": {},
   "source": [
    "** Word **\n",
    "\n",
    "- lemma : lemma\n",
    "- lang : language\n",
    "- pos : part of speech"
   ]
  },
  {
   "cell_type": "code",
   "execution_count": null,
   "metadata": {
    "collapsed": true
   },
   "outputs": [],
   "source": [
    "class Word:\n",
    "    def __init__(self, lemma, lang, pos, add=[]):\n",
    "        self.lemma = lemma\n",
    "        self.lang = lang\n",
    "        self.pos = pos\n",
    "        self.add = add\n",
    "    \n",
    "    def __str__(self):\n",
    "        return (str(self.lang)+'_'+str(self.lemma)+'_'+str(self.pos))+'_'+str('-'.join(self.add))\n",
    "    \n",
    "    __repr__ = __str__\n",
    "    \n",
    "    def __eq__(self, other):\n",
    "        return self.lemma == other.lemma and self.lang == other.lang and self.pos == other.pos\n",
    "    \n",
    "    def __hash__(self):\n",
    "        return hash(str(self))"
   ]
  },
  {
   "cell_type": "code",
   "execution_count": null,
   "metadata": {
    "collapsed": true
   },
   "outputs": [],
   "source": [
    "class Bidix():\n",
    "    def __init__(self, lang1, lang2, file):\n",
    "        self.lang1 = l(lang1)\n",
    "        self.lang2 = l(lang2)\n",
    "        self.file = file       "
   ]
  },
  {
   "cell_type": "code",
   "execution_count": null,
   "metadata": {
    "collapsed": true
   },
   "outputs": [],
   "source": []
  },
  {
   "cell_type": "code",
   "execution_count": null,
   "metadata": {
    "collapsed": true
   },
   "outputs": [],
   "source": [
    "def parse_and_add(file, lang1, lang2, G):\n",
    "    "
   ]
  }
 ],
 "metadata": {
  "kernelspec": {
   "display_name": "Python 3",
   "language": "python",
   "name": "python3"
  },
  "language_info": {
   "codemirror_mode": {
    "name": "ipython",
    "version": 3
   },
   "file_extension": ".py",
   "mimetype": "text/x-python",
   "name": "python",
   "nbconvert_exporter": "python",
   "pygments_lexer": "ipython3",
   "version": "3.6.5"
  }
 },
 "nbformat": 4,
 "nbformat_minor": 2
}
