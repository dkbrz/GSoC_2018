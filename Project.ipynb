{
 "cells": [
  {
   "cell_type": "markdown",
   "metadata": {},
   "source": [
    "# GSoC Coding challenge"
   ]
  },
  {
   "cell_type": "markdown",
   "metadata": {},
   "source": [
    "Current"
   ]
  },
  {
   "cell_type": "code",
   "execution_count": 1,
   "metadata": {
    "collapsed": false
   },
   "outputs": [],
   "source": [
    "import logging\n",
    "import sys\n",
    "\n",
    "logging.basicConfig(format='%(asctime)s | %(levelname)s : %(message)s',\n",
    "                     level=logging.INFO, stream=sys.stdout)"
   ]
  },
  {
   "cell_type": "code",
   "execution_count": 2,
   "metadata": {
    "collapsed": true
   },
   "outputs": [],
   "source": [
    "import json"
   ]
  },
  {
   "cell_type": "code",
   "execution_count": 48,
   "metadata": {
    "collapsed": true
   },
   "outputs": [],
   "source": [
    "import numpy as np"
   ]
  },
  {
   "cell_type": "markdown",
   "metadata": {},
   "source": [
    "Future"
   ]
  },
  {
   "cell_type": "code",
   "execution_count": null,
   "metadata": {
    "collapsed": true
   },
   "outputs": [],
   "source": [
    "import warnings\n",
    "warnings.filterwarnings(\"ignore\")"
   ]
  },
  {
   "cell_type": "code",
   "execution_count": null,
   "metadata": {
    "collapsed": false
   },
   "outputs": [],
   "source": [
    "import networkx as nx\n",
    "import matplotlib.pyplot as plt"
   ]
  },
  {
   "cell_type": "code",
   "execution_count": null,
   "metadata": {
    "collapsed": true
   },
   "outputs": [],
   "source": [
    "import xml.etree.ElementTree as ET\n",
    "import requests"
   ]
  },
  {
   "cell_type": "code",
   "execution_count": null,
   "metadata": {
    "collapsed": true
   },
   "outputs": [],
   "source": []
  },
  {
   "cell_type": "markdown",
   "metadata": {},
   "source": [
    "## Loading dictionaries"
   ]
  },
  {
   "cell_type": "markdown",
   "metadata": {},
   "source": [
    "### Git"
   ]
  },
  {
   "cell_type": "code",
   "execution_count": 2,
   "metadata": {
    "collapsed": true
   },
   "outputs": [],
   "source": [
    "import git"
   ]
  },
  {
   "cell_type": "code",
   "execution_count": 3,
   "metadata": {
    "collapsed": true
   },
   "outputs": [],
   "source": [
    "def clone_folder(name='apertium-trunk', target='./data/'):\n",
    "    repo = git.Repo.clone_from('https://github.com/apertium/'+name+'/', target)\n",
    "    for i in git.objects.submodule.root.RootModule(repo).list_items(repo):\n",
    "        git.Repo.clone_from('https://github.com/apertium/'+i.name, './data/'+i.name)\n",
    "        logging.info(i.name)"
   ]
  },
  {
   "cell_type": "code",
   "execution_count": 4,
   "metadata": {
    "collapsed": false
   },
   "outputs": [
    {
     "name": "stdout",
     "output_type": "stream",
     "text": [
      "2018-05-14 20:51:12,126 | INFO : apertium-en-gl\n",
      "2018-05-14 20:54:12,730 | INFO : apertium-eo-fr\n",
      "2018-05-14 20:54:17,434 | INFO : apertium-crh-tur\n",
      "2018-05-14 20:57:49,735 | INFO : apertium-hbs-slv\n",
      "2018-05-14 20:58:24,846 | INFO : apertium-swe-dan\n",
      "2018-05-14 21:21:52,622 | INFO : apertium-br-fr\n",
      "2018-05-14 21:23:38,604 | INFO : apertium-oc-ca\n",
      "2018-05-14 21:56:55,938 | INFO : apertium-sme-nob\n",
      "2018-05-14 21:59:23,435 | INFO : apertium-eo-ca\n",
      "2018-05-14 22:02:04,268 | INFO : apertium-eu-es\n",
      "2018-05-14 22:03:48,823 | INFO : apertium-srd-ita\n",
      "2018-05-14 22:06:30,437 | INFO : apertium-spa-ita\n",
      "2018-05-14 22:10:13,711 | INFO : apertium-eo-es\n",
      "2018-05-14 22:11:33,539 | INFO : apertium-rus-ukr\n",
      "2018-05-14 22:11:39,270 | INFO : apertium-pt-ca\n",
      "2018-05-14 22:16:13,588 | INFO : apertium-dan-nor\n",
      "2018-05-14 22:16:53,887 | INFO : apertium-oc-es\n",
      "2018-05-14 22:17:49,422 | INFO : apertium-bel-rus\n",
      "2018-05-14 22:26:17,121 | INFO : apertium-isl-eng\n",
      "2018-05-14 22:27:33,579 | INFO : apertium-hbs-eng\n",
      "2018-05-14 22:27:38,990 | INFO : apertium-pt-gl\n",
      "2018-05-14 22:29:18,974 | INFO : apertium-cat-srd\n",
      "2018-05-14 22:34:12,051 | INFO : apertium-es-ro\n",
      "2018-05-14 22:34:28,729 | INFO : apertium-spa-arg\n",
      "2018-05-14 22:35:48,344 | INFO : apertium-swe-nor\n",
      "2018-05-14 22:37:43,671 | INFO : apertium-hbs-mkd\n",
      "2018-05-14 22:42:49,729 | INFO : apertium-fr-es\n",
      "2018-05-14 22:49:34,808 | INFO : apertium-eo-en\n",
      "2018-05-14 22:49:59,044 | INFO : apertium-id-ms\n",
      "2018-05-14 23:10:30,867 | INFO : apertium-en-es\n",
      "2018-05-14 23:19:11,013 | INFO : apertium-eng-kaz\n",
      "2018-05-14 23:20:00,603 | INFO : apertium-kaz-tat\n",
      "2018-05-14 23:25:19,429 | INFO : apertium-eu-en\n",
      "2018-05-14 23:25:30,662 | INFO : apertium-fra-cat\n",
      "2018-05-14 23:25:35,961 | INFO : apertium-arg-cat\n",
      "2018-05-14 23:26:44,393 | INFO : apertium-mlt-ara\n",
      "2018-05-14 23:26:51,467 | INFO : apertium-urd-hin\n",
      "2018-05-14 23:46:47,978 | INFO : apertium-nno-nob\n",
      "2018-05-14 23:47:11,740 | INFO : apertium-spa-cat\n",
      "2018-05-14 23:48:48,110 | INFO : apertium-kaz-rus\n",
      "2018-05-14 23:48:58,333 | INFO : apertium-es-gl\n",
      "2018-05-14 23:49:31,567 | INFO : apertium-ca-it\n",
      "2018-05-14 23:50:18,367 | INFO : apertium-es-pt\n",
      "2018-05-14 23:50:45,866 | INFO : apertium-mkd-bul\n",
      "2018-05-14 23:51:56,117 | INFO : apertium-mkd-eng\n",
      "2018-05-14 23:52:52,968 | INFO : apertium-isl-swe\n",
      "2018-05-14 23:54:21,983 | INFO : apertium-spa-ast\n",
      "2018-05-14 23:55:39,963 | INFO : apertium-afr-nld\n",
      "2018-05-14 23:57:04,736 | INFO : apertium-cym-eng\n",
      "2018-05-14 23:57:31,271 | INFO : apertium-eng-cat\n"
     ]
    }
   ],
   "source": [
    "clone_folder()"
   ]
  },
  {
   "cell_type": "markdown",
   "metadata": {},
   "source": [
    "### PyGithub"
   ]
  },
  {
   "cell_type": "code",
   "execution_count": 3,
   "metadata": {
    "collapsed": true
   },
   "outputs": [],
   "source": [
    "from github import Github"
   ]
  },
  {
   "cell_type": "code",
   "execution_count": 4,
   "metadata": {
    "collapsed": true
   },
   "outputs": [],
   "source": [
    "with open ('secure.json') as f:\n",
    "    SECRET = json.loads(f.read())"
   ]
  },
  {
   "cell_type": "code",
   "execution_count": 7,
   "metadata": {
    "collapsed": true
   },
   "outputs": [],
   "source": [
    "github = Github(SECRET['USER'], SECRET['PASSWORD'])"
   ]
  },
  {
   "cell_type": "code",
   "execution_count": 19,
   "metadata": {
    "collapsed": false
   },
   "outputs": [],
   "source": [
    "user = github.get_user('apertium')"
   ]
  },
  {
   "cell_type": "code",
   "execution_count": 26,
   "metadata": {
    "collapsed": false
   },
   "outputs": [
    {
     "name": "stdout",
     "output_type": "stream",
     "text": [
      "apertium\n",
      "apertium-afr\n",
      "apertium-afr-nld\n",
      "apertium-ain\n",
      "apertium-all\n",
      "apertium-alt\n",
      "apertium-android\n",
      "apertium-apy\n",
      "apertium-ara\n",
      "apertium-ara-heb\n"
     ]
    }
   ],
   "source": [
    "for repo in user.get_repos()[:10]:\n",
    "    print(repo.name)\n",
    "    repo.contents_url"
   ]
  },
  {
   "cell_type": "code",
   "execution_count": 41,
   "metadata": {
    "collapsed": true
   },
   "outputs": [],
   "source": [
    "repo = user.get_repos()[2]"
   ]
  },
  {
   "cell_type": "code",
   "execution_count": 42,
   "metadata": {
    "collapsed": false
   },
   "outputs": [
    {
     "data": {
      "text/plain": [
       "'https://api.github.com/repos/apertium/apertium-afr-nld'"
      ]
     },
     "execution_count": 42,
     "metadata": {},
     "output_type": "execute_result"
    }
   ],
   "source": [
    "repo.url"
   ]
  },
  {
   "cell_type": "code",
   "execution_count": 57,
   "metadata": {
    "collapsed": false
   },
   "outputs": [
    {
     "data": {
      "text/plain": [
       "[GitTreeElement(sha=\"7be6878346341d03f733be30ca2805c81662cb39\", path=\".gitattributes\"),\n",
       " GitTreeElement(sha=\"b26e6821de27616a9cb4224372d83565dbe0d374\", path=\".gitignore\"),\n",
       " GitTreeElement(sha=\"e69de29bb2d1d6434b8b29ae775ad8c2e48c5391\", path=\"ACKNOWLEDGEMENTS\"),\n",
       " GitTreeElement(sha=\"27e2c4c3cd30e938f534b5952af75c9feeeb9753\", path=\"AUTHORS\"),\n",
       " GitTreeElement(sha=\"623b6258a134210f0b0ada106fdaab7f0370d9c5\", path=\"COPYING\"),\n",
       " GitTreeElement(sha=\"65fb1d69e6422605d68853cb348aecd69ccbce06\", path=\"ChangeLog\"),\n",
       " GitTreeElement(sha=\"48d2973f44bb225374e67e2d534f73e5edb96c7d\", path=\"Makefile.am\"),\n",
       " GitTreeElement(sha=\"65fb1d69e6422605d68853cb348aecd69ccbce06\", path=\"NEWS\"),\n",
       " GitTreeElement(sha=\"172d391eb7d48413da2a87641143ff96b1a3437a\", path=\"README\"),\n",
       " GitTreeElement(sha=\"100b93820ade4c16225673b4ca62bb3ade63c313\", path=\"README.md\"),\n",
       " GitTreeElement(sha=\"e69de29bb2d1d6434b8b29ae775ad8c2e48c5391\", path=\"TODO\"),\n",
       " GitTreeElement(sha=\"b806f7aca80774083567d7879281f75d8dce130d\", path=\"afr-nld-unsupervised.make\"),\n",
       " GitTreeElement(sha=\"e1f653ffdb74c35b5b71895f40201c21d87dbdbd\", path=\"afr-nld.prob\"),\n",
       " GitTreeElement(sha=\"8286853f6729d5157b81fba54e2a3b1bc67f2240\", path=\"apertium-afr-nld.afr-nld.dix\"),\n",
       " GitTreeElement(sha=\"ed87de4b6701c1b8ff6040a9e8d92e8489ee2693\", path=\"apertium-afr-nld.afr-nld.t1x\"),\n",
       " GitTreeElement(sha=\"02f2dccea9306fcd6ed3aae0c2dcac2fbf9f24ef\", path=\"apertium-afr-nld.afr-nld.t2x\"),\n",
       " GitTreeElement(sha=\"06c5d03f505ff4b313a86ea13e834e14c21a4896\", path=\"apertium-afr-nld.afr-nld.t3x\"),\n",
       " GitTreeElement(sha=\"8b6b1156e32aafe4406af05692b223e3d31512f1\", path=\"apertium-afr-nld.afr.acx\"),\n",
       " GitTreeElement(sha=\"f8932cebe4adcb1b337672928d2f79b906258f9b\", path=\"apertium-afr-nld.afr.dix\"),\n",
       " GitTreeElement(sha=\"63b8563f3fcd5ef1da24b7a5427d3c8eb83eb9f5\", path=\"apertium-afr-nld.afr.tsx\"),\n",
       " GitTreeElement(sha=\"0c4c48ec1cca71aed57c22e2baab9e94252e8386\", path=\"apertium-afr-nld.nld-afr.t1x\"),\n",
       " GitTreeElement(sha=\"7f87603bb8845341412b45f3013e9194e1846bb2\", path=\"apertium-afr-nld.nld-afr.t2x\"),\n",
       " GitTreeElement(sha=\"00fbdb412b385019e82d4e761f4b522560936693\", path=\"apertium-afr-nld.nld-afr.t3x\"),\n",
       " GitTreeElement(sha=\"8b6b1156e32aafe4406af05692b223e3d31512f1\", path=\"apertium-afr-nld.nld.acx\"),\n",
       " GitTreeElement(sha=\"68cd844081befa7cc4f2648ff20bf5d8e604689f\", path=\"apertium-afr-nld.nld.dix\"),\n",
       " GitTreeElement(sha=\"1a462c121a571bf9fca5db9c527ac05f22aeed62\", path=\"apertium-afr-nld.nld.dix.full\"),\n",
       " GitTreeElement(sha=\"3b364d12487225a8eca14a58a1cdbe96a730bb61\", path=\"apertium-afr-nld.nld.tsx\"),\n",
       " GitTreeElement(sha=\"2cbd010d75c766f02fa21742520b12379eef3fcc\", path=\"apertium-afr-nld.post-afr.dix\"),\n",
       " GitTreeElement(sha=\"ba0135be884a575358efae7988536f7f2c31ca70\", path=\"apertium-afr-nld.post-nld.dix\"),\n",
       " GitTreeElement(sha=\"68c13b15694d9c3335fb86fc8ab92f09dbf9fe7e\", path=\"apertium-afr-nld.post-nld.t1x\"),\n",
       " GitTreeElement(sha=\"d53fe691b628d0480718885cd37ac4abc4509334\", path=\"autogen.sh\"),\n",
       " GitTreeElement(sha=\"aa71e3c594d34aa1e51fafbe17d5903965dde37b\", path=\"configure.ac\"),\n",
       " GitTreeElement(sha=\"c2a1b490c9480f4f871b419199a1d578e095a5d8\", path=\"dev\"),\n",
       " GitTreeElement(sha=\"0da032329b128249996d65e6110cde55beb8c93f\", path=\"modes.xml\"),\n",
       " GitTreeElement(sha=\"4fcb8f05e0c2b94afb6607617eefc2b3f1dd38b9\", path=\"nld-afr-unsupervised.make\"),\n",
       " GitTreeElement(sha=\"ad9132f05d4e52f6f8073734568111717667467d\", path=\"nld-afr.prob\"),\n",
       " GitTreeElement(sha=\"36e04ca156b712ecd5ea7c3f95a45e8369417e52\", path=\"nld\"),\n",
       " GitTreeElement(sha=\"19540f920f7700f49dc1161982ebb13dae73fad6\", path=\"paper\"),\n",
       " GitTreeElement(sha=\"b0974881bc350dd23fe6c74eeda651659ce236e6\", path=\"pending-tests.sh\"),\n",
       " GitTreeElement(sha=\"6fb247ab9b929a5aa4aa0a87dfe03722959abf0f\", path=\"regression-tests.sh\"),\n",
       " GitTreeElement(sha=\"d46de96678ebe895dd92f219d76676cc0112231e\", path=\"wiki-tests.sh\")]"
      ]
     },
     "execution_count": 57,
     "metadata": {},
     "output_type": "execute_result"
    }
   ],
   "source": [
    "repo.get_git_tree('master').tree"
   ]
  },
  {
   "cell_type": "code",
   "execution_count": null,
   "metadata": {
    "collapsed": true
   },
   "outputs": [],
   "source": []
  },
  {
   "cell_type": "code",
   "execution_count": 47,
   "metadata": {
    "collapsed": false
   },
   "outputs": [
    {
     "ename": "AttributeError",
     "evalue": "'Repository' object has no attribute 'get_files'",
     "output_type": "error",
     "traceback": [
      "\u001b[1;31m---------------------------------------------------------------------------\u001b[0m",
      "\u001b[1;31mAttributeError\u001b[0m                            Traceback (most recent call last)",
      "\u001b[1;32m<ipython-input-47-1a6e3006ecfd>\u001b[0m in \u001b[0;36m<module>\u001b[1;34m()\u001b[0m\n\u001b[1;32m----> 1\u001b[1;33m \u001b[0mrepo\u001b[0m\u001b[1;33m.\u001b[0m\u001b[0mget_files\u001b[0m\u001b[1;33m(\u001b[0m\u001b[1;33m)\u001b[0m\u001b[1;33m(\u001b[0m\u001b[1;34m'apertium-afr-nld.afr-nld.dix'\u001b[0m\u001b[1;33m)\u001b[0m\u001b[1;33m.\u001b[0m\u001b[0mcontent\u001b[0m\u001b[1;33m\u001b[0m\u001b[0m\n\u001b[0m",
      "\u001b[1;31mAttributeError\u001b[0m: 'Repository' object has no attribute 'get_files'"
     ]
    }
   ],
   "source": [
    "repo.get_files()('apertium-afr-nld.afr-nld.dix')"
   ]
  },
  {
   "cell_type": "code",
   "execution_count": 14,
   "metadata": {
    "collapsed": false
   },
   "outputs": [
    {
     "ename": "UnknownObjectException",
     "evalue": "404 {'message': 'Not Found', 'documentation_url': 'https://developer.github.com/v3'}",
     "output_type": "error",
     "traceback": [
      "\u001b[1;31m---------------------------------------------------------------------------\u001b[0m",
      "\u001b[1;31mUnknownObjectException\u001b[0m                    Traceback (most recent call last)",
      "\u001b[1;32m<ipython-input-14-548f7acfe530>\u001b[0m in \u001b[0;36m<module>\u001b[1;34m()\u001b[0m\n\u001b[1;32m----> 1\u001b[1;33m \u001b[0mrepository\u001b[0m \u001b[1;33m=\u001b[0m \u001b[0muser\u001b[0m\u001b[1;33m.\u001b[0m\u001b[0mget_repo\u001b[0m\u001b[1;33m(\u001b[0m\u001b[1;34m'/dkbrz/GSoC_2018/'\u001b[0m\u001b[1;33m)\u001b[0m\u001b[1;33m\u001b[0m\u001b[0m\n\u001b[0m",
      "\u001b[1;32m~\\Anaconda3\\lib\\site-packages\\github\\AuthenticatedUser.py\u001b[0m in \u001b[0;36mget_repo\u001b[1;34m(self, name)\u001b[0m\n\u001b[0;32m    888\u001b[0m         headers, data = self._requester.requestJsonAndCheck(\n\u001b[0;32m    889\u001b[0m             \u001b[1;34m\"GET\"\u001b[0m\u001b[1;33m,\u001b[0m\u001b[1;33m\u001b[0m\u001b[0m\n\u001b[1;32m--> 890\u001b[1;33m             \u001b[1;34m\"/repos/\"\u001b[0m \u001b[1;33m+\u001b[0m \u001b[0mself\u001b[0m\u001b[1;33m.\u001b[0m\u001b[0mlogin\u001b[0m \u001b[1;33m+\u001b[0m \u001b[1;34m\"/\"\u001b[0m \u001b[1;33m+\u001b[0m \u001b[0mname\u001b[0m\u001b[1;33m\u001b[0m\u001b[0m\n\u001b[0m\u001b[0;32m    891\u001b[0m         )\n\u001b[0;32m    892\u001b[0m         \u001b[1;32mreturn\u001b[0m \u001b[0mgithub\u001b[0m\u001b[1;33m.\u001b[0m\u001b[0mRepository\u001b[0m\u001b[1;33m.\u001b[0m\u001b[0mRepository\u001b[0m\u001b[1;33m(\u001b[0m\u001b[0mself\u001b[0m\u001b[1;33m.\u001b[0m\u001b[0m_requester\u001b[0m\u001b[1;33m,\u001b[0m \u001b[0mheaders\u001b[0m\u001b[1;33m,\u001b[0m \u001b[0mdata\u001b[0m\u001b[1;33m,\u001b[0m \u001b[0mcompleted\u001b[0m\u001b[1;33m=\u001b[0m\u001b[1;32mTrue\u001b[0m\u001b[1;33m)\u001b[0m\u001b[1;33m\u001b[0m\u001b[0m\n",
      "\u001b[1;32m~\\Anaconda3\\lib\\site-packages\\github\\Requester.py\u001b[0m in \u001b[0;36mrequestJsonAndCheck\u001b[1;34m(self, verb, url, parameters, headers, input, cnx)\u001b[0m\n\u001b[0;32m    183\u001b[0m \u001b[1;33m\u001b[0m\u001b[0m\n\u001b[0;32m    184\u001b[0m     \u001b[1;32mdef\u001b[0m \u001b[0mrequestJsonAndCheck\u001b[0m\u001b[1;33m(\u001b[0m\u001b[0mself\u001b[0m\u001b[1;33m,\u001b[0m \u001b[0mverb\u001b[0m\u001b[1;33m,\u001b[0m \u001b[0murl\u001b[0m\u001b[1;33m,\u001b[0m \u001b[0mparameters\u001b[0m\u001b[1;33m=\u001b[0m\u001b[1;32mNone\u001b[0m\u001b[1;33m,\u001b[0m \u001b[0mheaders\u001b[0m\u001b[1;33m=\u001b[0m\u001b[1;32mNone\u001b[0m\u001b[1;33m,\u001b[0m \u001b[0minput\u001b[0m\u001b[1;33m=\u001b[0m\u001b[1;32mNone\u001b[0m\u001b[1;33m,\u001b[0m \u001b[0mcnx\u001b[0m\u001b[1;33m=\u001b[0m\u001b[1;32mNone\u001b[0m\u001b[1;33m)\u001b[0m\u001b[1;33m:\u001b[0m\u001b[1;33m\u001b[0m\u001b[0m\n\u001b[1;32m--> 185\u001b[1;33m         \u001b[1;32mreturn\u001b[0m \u001b[0mself\u001b[0m\u001b[1;33m.\u001b[0m\u001b[0m__check\u001b[0m\u001b[1;33m(\u001b[0m\u001b[1;33m*\u001b[0m\u001b[0mself\u001b[0m\u001b[1;33m.\u001b[0m\u001b[0mrequestJson\u001b[0m\u001b[1;33m(\u001b[0m\u001b[0mverb\u001b[0m\u001b[1;33m,\u001b[0m \u001b[0murl\u001b[0m\u001b[1;33m,\u001b[0m \u001b[0mparameters\u001b[0m\u001b[1;33m,\u001b[0m \u001b[0mheaders\u001b[0m\u001b[1;33m,\u001b[0m \u001b[0minput\u001b[0m\u001b[1;33m,\u001b[0m \u001b[0mcnx\u001b[0m\u001b[1;33m)\u001b[0m\u001b[1;33m)\u001b[0m\u001b[1;33m\u001b[0m\u001b[0m\n\u001b[0m\u001b[0;32m    186\u001b[0m \u001b[1;33m\u001b[0m\u001b[0m\n\u001b[0;32m    187\u001b[0m     \u001b[1;32mdef\u001b[0m \u001b[0mrequestMultipartAndCheck\u001b[0m\u001b[1;33m(\u001b[0m\u001b[0mself\u001b[0m\u001b[1;33m,\u001b[0m \u001b[0mverb\u001b[0m\u001b[1;33m,\u001b[0m \u001b[0murl\u001b[0m\u001b[1;33m,\u001b[0m \u001b[0mparameters\u001b[0m\u001b[1;33m=\u001b[0m\u001b[1;32mNone\u001b[0m\u001b[1;33m,\u001b[0m \u001b[0mheaders\u001b[0m\u001b[1;33m=\u001b[0m\u001b[1;32mNone\u001b[0m\u001b[1;33m,\u001b[0m \u001b[0minput\u001b[0m\u001b[1;33m=\u001b[0m\u001b[1;32mNone\u001b[0m\u001b[1;33m)\u001b[0m\u001b[1;33m:\u001b[0m\u001b[1;33m\u001b[0m\u001b[0m\n",
      "\u001b[1;32m~\\Anaconda3\\lib\\site-packages\\github\\Requester.py\u001b[0m in \u001b[0;36m__check\u001b[1;34m(self, status, responseHeaders, output)\u001b[0m\n\u001b[0;32m    196\u001b[0m         \u001b[0moutput\u001b[0m \u001b[1;33m=\u001b[0m \u001b[0mself\u001b[0m\u001b[1;33m.\u001b[0m\u001b[0m__structuredFromJson\u001b[0m\u001b[1;33m(\u001b[0m\u001b[0moutput\u001b[0m\u001b[1;33m)\u001b[0m\u001b[1;33m\u001b[0m\u001b[0m\n\u001b[0;32m    197\u001b[0m         \u001b[1;32mif\u001b[0m \u001b[0mstatus\u001b[0m \u001b[1;33m>=\u001b[0m \u001b[1;36m400\u001b[0m\u001b[1;33m:\u001b[0m\u001b[1;33m\u001b[0m\u001b[0m\n\u001b[1;32m--> 198\u001b[1;33m             \u001b[1;32mraise\u001b[0m \u001b[0mself\u001b[0m\u001b[1;33m.\u001b[0m\u001b[0m__createException\u001b[0m\u001b[1;33m(\u001b[0m\u001b[0mstatus\u001b[0m\u001b[1;33m,\u001b[0m \u001b[0mresponseHeaders\u001b[0m\u001b[1;33m,\u001b[0m \u001b[0moutput\u001b[0m\u001b[1;33m)\u001b[0m\u001b[1;33m\u001b[0m\u001b[0m\n\u001b[0m\u001b[0;32m    199\u001b[0m         \u001b[1;32mreturn\u001b[0m \u001b[0mresponseHeaders\u001b[0m\u001b[1;33m,\u001b[0m \u001b[0moutput\u001b[0m\u001b[1;33m\u001b[0m\u001b[0m\n\u001b[0;32m    200\u001b[0m \u001b[1;33m\u001b[0m\u001b[0m\n",
      "\u001b[1;31mUnknownObjectException\u001b[0m: 404 {'message': 'Not Found', 'documentation_url': 'https://developer.github.com/v3'}"
     ]
    }
   ],
   "source": [
    "repository = user.get_repo('/dkbrz/GSoC_2018/')"
   ]
  },
  {
   "cell_type": "markdown",
   "metadata": {},
   "source": [
    "[Downloading file](https://sookocheff.com/post/tools/downloading-directories-of-code-from-github-using-the-github-api/)"
   ]
  },
  {
   "cell_type": "markdown",
   "metadata": {},
   "source": [
    "[Docs](https://media.readthedocs.org/pdf/pygithub/stable/pygithub.pdf)"
   ]
  },
  {
   "cell_type": "markdown",
   "metadata": {},
   "source": [
    "## Language codes"
   ]
  },
  {
   "cell_type": "code",
   "execution_count": 17,
   "metadata": {
    "collapsed": true
   },
   "outputs": [],
   "source": [
    "from numpy import nan"
   ]
  },
  {
   "cell_type": "code",
   "execution_count": 1,
   "metadata": {
    "collapsed": false
   },
   "outputs": [],
   "source": [
    "import pandas as pd"
   ]
  },
  {
   "cell_type": "code",
   "execution_count": 43,
   "metadata": {
    "collapsed": false
   },
   "outputs": [],
   "source": [
    "lang_codes = pd.read_csv('./files/language-codes-full_csv.csv', na_values = 0)\n",
    "lang_codes = lang_codes[['alpha3-b','alpha2']]\n",
    "lang_codes = lang_codes.dropna()"
   ]
  },
  {
   "cell_type": "code",
   "execution_count": 44,
   "metadata": {
    "collapsed": false
   },
   "outputs": [
    {
     "data": {
      "text/html": [
       "<div>\n",
       "<table border=\"1\" class=\"dataframe\">\n",
       "  <thead>\n",
       "    <tr style=\"text-align: right;\">\n",
       "      <th></th>\n",
       "      <th>alpha3-b</th>\n",
       "      <th>alpha2</th>\n",
       "    </tr>\n",
       "  </thead>\n",
       "  <tbody>\n",
       "    <tr>\n",
       "      <th>0</th>\n",
       "      <td>aar</td>\n",
       "      <td>aa</td>\n",
       "    </tr>\n",
       "    <tr>\n",
       "      <th>1</th>\n",
       "      <td>abk</td>\n",
       "      <td>ab</td>\n",
       "    </tr>\n",
       "    <tr>\n",
       "      <th>8</th>\n",
       "      <td>afr</td>\n",
       "      <td>af</td>\n",
       "    </tr>\n",
       "    <tr>\n",
       "      <th>10</th>\n",
       "      <td>aka</td>\n",
       "      <td>ak</td>\n",
       "    </tr>\n",
       "    <tr>\n",
       "      <th>12</th>\n",
       "      <td>alb</td>\n",
       "      <td>sq</td>\n",
       "    </tr>\n",
       "  </tbody>\n",
       "</table>\n",
       "</div>"
      ],
      "text/plain": [
       "   alpha3-b alpha2\n",
       "0       aar     aa\n",
       "1       abk     ab\n",
       "8       afr     af\n",
       "10      aka     ak\n",
       "12      alb     sq"
      ]
     },
     "execution_count": 44,
     "metadata": {},
     "output_type": "execute_result"
    }
   ],
   "source": [
    "lang_codes.head()"
   ]
  },
  {
   "cell_type": "code",
   "execution_count": 50,
   "metadata": {
    "collapsed": false
   },
   "outputs": [],
   "source": [
    "lang_codes = {i[1]:i[0] for i in np.array(lang_codes)}"
   ]
  },
  {
   "cell_type": "code",
   "execution_count": 54,
   "metadata": {
    "collapsed": false
   },
   "outputs": [],
   "source": [
    "with open ('./files/lang_codes.json', 'w') as f:\n",
    "    json.dump(lang_codes, f)"
   ]
  },
  {
   "cell_type": "code",
   "execution_count": null,
   "metadata": {
    "collapsed": false
   },
   "outputs": [],
   "source": [
    "with open ('./files/lang_codes.json', 'w') as f:\n",
    "    lang_codes = json.loads(f)"
   ]
  },
  {
   "cell_type": "code",
   "execution_count": null,
   "metadata": {
    "collapsed": true
   },
   "outputs": [],
   "source": [
    "def l(lang):\n",
    "    if len(lang)==2:\n",
    "        if lang in lang_codes:\n",
    "            return lang_codes[lang]\n",
    "        else:\n",
    "            return lang\n",
    "    else:\n",
    "        return lang"
   ]
  },
  {
   "cell_type": "markdown",
   "metadata": {},
   "source": [
    "## Object classes"
   ]
  },
  {
   "cell_type": "markdown",
   "metadata": {},
   "source": [
    "** Word **\n",
    "\n",
    "- lemma : lemma\n",
    "- lang : language\n",
    "- pos : part of speech"
   ]
  },
  {
   "cell_type": "code",
   "execution_count": null,
   "metadata": {
    "collapsed": true
   },
   "outputs": [],
   "source": [
    "class Word:\n",
    "    def __init__(self, lemma, lang, pos, add=[]):\n",
    "        self.lemma = lemma\n",
    "        self.lang = lang\n",
    "        self.pos = pos\n",
    "        self.add = add\n",
    "    \n",
    "    def __str__(self):\n",
    "        return (str(self.lang)+'_'+str(self.lemma)+'_'+str(self.pos))+'_'+str('-'.join(self.add))\n",
    "    \n",
    "    __repr__ = __str__\n",
    "    \n",
    "    def __eq__(self, other):\n",
    "        return self.lemma == other.lemma and self.lang == other.lang and self.pos == other.pos\n",
    "    \n",
    "    def __hash__(self):\n",
    "        return hash(str(self))"
   ]
  },
  {
   "cell_type": "code",
   "execution_count": null,
   "metadata": {
    "collapsed": true
   },
   "outputs": [],
   "source": [
    "class Bidix():\n",
    "    def __init__(self, lang1, lang2, file):\n",
    "        self.lang1 = l(lang1)\n",
    "        self.lang2 = l(lang2)\n",
    "        self.file = file       "
   ]
  },
  {
   "cell_type": "code",
   "execution_count": null,
   "metadata": {
    "collapsed": true
   },
   "outputs": [],
   "source": []
  },
  {
   "cell_type": "code",
   "execution_count": null,
   "metadata": {
    "collapsed": true
   },
   "outputs": [],
   "source": [
    "def parse_and_add(file, lang1, lang2, G):\n",
    "    "
   ]
  }
 ],
 "metadata": {
  "kernelspec": {
   "display_name": "Python 3",
   "language": "python",
   "name": "python3"
  },
  "language_info": {
   "codemirror_mode": {
    "name": "ipython",
    "version": 3
   },
   "file_extension": ".py",
   "mimetype": "text/x-python",
   "name": "python",
   "nbconvert_exporter": "python",
   "pygments_lexer": "ipython3",
   "version": "3.6.5"
  }
 },
 "nbformat": 4,
 "nbformat_minor": 2
}
