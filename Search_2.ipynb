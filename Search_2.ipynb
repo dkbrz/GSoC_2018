{
 "cells": [
  {
   "cell_type": "code",
   "execution_count": 1,
   "metadata": {},
   "outputs": [],
   "source": [
    "from tool.functions import *\n",
    "from tool.eval2 import *"
   ]
  },
  {
   "cell_type": "code",
   "execution_count": 2,
   "metadata": {},
   "outputs": [],
   "source": [
    "def get_weight():\n",
    "    weights = {}\n",
    "    with open('./files/stats.csv', 'r', encoding = 'utf-8') as inp:\n",
    "        for line in inp:\n",
    "            data = line.split()\n",
    "            weights[data[0]+'-'+data[1]] = 1/log10(10 + float(data[2]) + 0.5 * float(data[3]))\n",
    "            weights[data[1]+'-'+data[0]] = 1/log10(10 + float(data[2]) + 0.5 * float(data[4]))\n",
    "    return weights"
   ]
  },
  {
   "cell_type": "code",
   "execution_count": 26,
   "metadata": {},
   "outputs": [],
   "source": [
    "def weighted_path_length(path):\n",
    "    global weights\n",
    "    length = 0\n",
    "    for key, value in enumerate(path[1:]):\n",
    "        length += weights[path[key].lang+'-'+value.lang]\n",
    "    #print (length)\n",
    "    return exp(-length)"
   ]
  },
  {
   "cell_type": "code",
   "execution_count": 4,
   "metadata": {},
   "outputs": [],
   "source": [
    "def metric(G, word, translation, cutoff, mode='exp'):\n",
    "    coef = 0\n",
    "    if mode in ('exp', 'len'):\n",
    "        t = Counter([len(i) for i in nx.all_simple_paths(G, word, translation, cutoff=cutoff)])\n",
    "        if mode == 'exp': \n",
    "            for i in t: \n",
    "                coef += exp(-i)*t[i]\n",
    "            return coef\n",
    "        if mode == 'len':\n",
    "            for i in t: \n",
    "                coef += t[i]*i\n",
    "            return coef\n",
    "    if mode in ('exp-len'):\n",
    "        for path in nx.all_simple_paths(G, word, translation, cutoff=5):\n",
    "            coef += weighted_path_length(path)"
   ]
  },
  {
   "cell_type": "code",
   "execution_count": 5,
   "metadata": {},
   "outputs": [],
   "source": [
    "weights = get_weight()"
   ]
  },
  {
   "cell_type": "code",
   "execution_count": 6,
   "metadata": {},
   "outputs": [
    {
     "data": {
      "text/plain": [
       "[('vie-eng', 0.6450662562255824),\n",
       " ('eng-vie', 0.6910095361682882),\n",
       " ('vro-est', 0.44885585875131156),\n",
       " ('est-vro', 0.44885585875131156),\n",
       " ('zho-spa', 0.24110064881289556),\n",
       " ('spa-zho', 0.2411024458388548),\n",
       " ('zul-ssw', 0.9266284080291267),\n",
       " ('ssw-zul', 0.9266284080291267),\n",
       " ('zul-xho', 0.8725028695491559),\n",
       " ('xho-zul', 0.8725028695491559)]"
      ]
     },
     "execution_count": 6,
     "metadata": {},
     "output_type": "execute_result"
    }
   ],
   "source": [
    "list(weights.items())[-10:]"
   ]
  },
  {
   "cell_type": "code",
   "execution_count": 11,
   "metadata": {},
   "outputs": [
    {
     "name": "stdout",
     "output_type": "stream",
     "text": [
      "Wall time: 694 ms\n",
      "Wall time: 728 ms\n",
      "Wall time: 712 ms\n",
      "Wall time: 1min 24s\n",
      "Wall time: 6.37 s\n"
     ]
    }
   ],
   "source": [
    "lang1, lang2, n = 'eng','spa', 10\n",
    "%time get_relevant_languages(lang1, lang2)\n",
    "%time load_file(lang1, lang2, n=n)\n",
    "%time change_encoding('{}-{}'.format(lang1,lang2))\n",
    "%time G = built_from_file('{}-{}'.format(lang1,lang2))\n",
    "%time l1, l2 = dictionaries(lang1, lang2)"
   ]
  },
  {
   "cell_type": "code",
   "execution_count": 15,
   "metadata": {},
   "outputs": [
    {
     "data": {
      "text/plain": [
       "<function __main__.metric(G, word, translation, cutoff, mode='exp')>"
      ]
     },
     "execution_count": 15,
     "metadata": {},
     "output_type": "execute_result"
    }
   ],
   "source": [
    "metric"
   ]
  },
  {
   "cell_type": "code",
   "execution_count": null,
   "metadata": {},
   "outputs": [],
   "source": [
    "%time print_lemma_results(lemma_search (G, 'star', l1, 'spa', 4, 40), n = 5)"
   ]
  },
  {
   "cell_type": "code",
   "execution_count": 3,
   "metadata": {},
   "outputs": [],
   "source": [
    "lang1, lang2, n = 'eng','spa', 10"
   ]
  },
  {
   "cell_type": "code",
   "execution_count": 4,
   "metadata": {},
   "outputs": [
    {
     "data": {
      "application/vnd.jupyter.widget-view+json": {
       "model_id": "09895e8d8254464f9c38c0c31e8c078a",
       "version_major": 2,
       "version_minor": 0
      },
      "text/plain": [
       "HBox(children=(IntProgress(value=0, max=3), HTML(value='')))"
      ]
     },
     "metadata": {},
     "output_type": "display_data"
    },
    {
     "name": "stdout",
     "output_type": "stream",
     "text": [
      "Precision : 0.9574759945130316, recall : 0.698, f1-score : 0.8074031231925969\n",
      "Precision : 0.9486166007905138, recall : 0.72, f1-score : 0.8186469584991471\n",
      "Precision : 0.9504021447721179, recall : 0.709, f1-score : 0.8121420389461625\n",
      "\n",
      "Wall time: 7min 4s\n"
     ]
    }
   ],
   "source": [
    "%time eval_loop(lang1, lang2, n=10, cutoff=4, n_iter=3, topn=5)#, metric='exp-len')"
   ]
  },
  {
   "cell_type": "code",
   "execution_count": 12,
   "metadata": {},
   "outputs": [
    {
     "name": "stdout",
     "output_type": "stream",
     "text": [
      "Wall time: 918 ms\n"
     ]
    }
   ],
   "source": [
    "%time s = get_evaluation_pairs(G, l1, lang2, n=1000)"
   ]
  },
  {
   "cell_type": "code",
   "execution_count": 13,
   "metadata": {},
   "outputs": [
    {
     "data": {
      "text/plain": [
       "(eng$treasure$[n_n-ND], spa$tesoro$[n_n-m_n-m-ND])"
      ]
     },
     "execution_count": 13,
     "metadata": {},
     "output_type": "execute_result"
    }
   ],
   "source": [
    "u, v = s[0][0], s[0][1]\n",
    "u,v"
   ]
  },
  {
   "cell_type": "code",
   "execution_count": 27,
   "metadata": {},
   "outputs": [],
   "source": [
    "coef = 0\n",
    "for path in nx.all_simple_paths(G, u, v, cutoff=5):\n",
    "    coef += weighted_path_length(path)"
   ]
  },
  {
   "cell_type": "code",
   "execution_count": 25,
   "metadata": {},
   "outputs": [
    {
     "data": {
      "text/plain": [
       "40.8094240253911"
      ]
     },
     "execution_count": 25,
     "metadata": {},
     "output_type": "execute_result"
    }
   ],
   "source": [
    "coef"
   ]
  }
 ],
 "metadata": {
  "kernelspec": {
   "display_name": "Python 3",
   "language": "python",
   "name": "python3"
  },
  "language_info": {
   "codemirror_mode": {
    "name": "ipython",
    "version": 3
   },
   "file_extension": ".py",
   "mimetype": "text/x-python",
   "name": "python",
   "nbconvert_exporter": "python",
   "pygments_lexer": "ipython3",
   "version": "3.6.5"
  }
 },
 "nbformat": 4,
 "nbformat_minor": 2
}
