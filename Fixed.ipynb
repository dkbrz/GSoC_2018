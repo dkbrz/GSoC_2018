{
 "cells": [
  {
   "cell_type": "code",
   "execution_count": 2,
   "metadata": {},
   "outputs": [],
   "source": [
    "from tool.functions import *\n",
    "from tool.evaluation import *"
   ]
  },
  {
   "cell_type": "code",
   "execution_count": 2,
   "metadata": {},
   "outputs": [
    {
     "name": "stdout",
     "output_type": "stream",
     "text": [
      "2018-07-12 10:41:20,467 | INFO : Start\n",
      "2018-07-12 10:52:31,314 | INFO : Finish\n",
      "Wall time: 11min 12s\n"
     ]
    }
   ],
   "source": [
    "%time download_all_bidixes()"
   ]
  },
  {
   "cell_type": "code",
   "execution_count": 3,
   "metadata": {},
   "outputs": [],
   "source": [
    "rename = {'epo-bul':'bul-epo', 'epo-pes':'pes-epo', 'epo-pol':'pol-epo', 'epo-bel':'bel-epo','epo-bre':'bre-epo',\n",
    "          'epo-ces':'ces-epo','epo-deu':'deu-epo', 'epo-ell':'ell-epo','epo-fin':'fin-epo','spa-qve':'qve-spa',\n",
    "          'hun-eng':'eng-hun'}\n",
    "\n",
    "for root, dirs, files in os.walk ('./dictionaries/'):\n",
    "    for fl in files :\n",
    "        nm = fl.replace('.dix','')\n",
    "        if nm in rename:\n",
    "            try:\n",
    "                os.rename (root+'/'+fl, root+'/'+rename[nm]+'.dix')\n",
    "            except:\n",
    "                print (fl)\n",
    "\n",
    "remove = ['ces-ces.dix','ita-ita.dix', 'eus-eu_bis.dix','hbs_HR-hbs_SR.dix','zh_CN-zh_TW.dix']\n",
    "for i in remove:\n",
    "    os.remove('./dictionaries/'+i)"
   ]
  },
  {
   "cell_type": "code",
   "execution_count": 5,
   "metadata": {},
   "outputs": [
    {
     "name": "stdout",
     "output_type": "stream",
     "text": [
      "2018-07-12 11:09:22,634 | INFO : started\n",
      "2018-07-12 11:12:53,886 | INFO : finished\n",
      "Wall time: 3min 31s\n"
     ]
    }
   ],
   "source": [
    "%time monodix()"
   ]
  },
  {
   "cell_type": "code",
   "execution_count": 6,
   "metadata": {},
   "outputs": [
    {
     "data": {
      "application/vnd.jupyter.widget-view+json": {
       "model_id": "86565b131d4a43708ad9b7a698e9972c",
       "version_major": 2,
       "version_minor": 0
      },
      "text/plain": [
       "HBox(children=(IntProgress(value=0, max=279), HTML(value='')))"
      ]
     },
     "metadata": {},
     "output_type": "display_data"
    },
    {
     "name": "stdout",
     "output_type": "stream",
     "text": [
      "\n",
      "Wall time: 1h 30min 2s\n"
     ]
    }
   ],
   "source": [
    "%time preprocessing()"
   ]
  },
  {
   "cell_type": "code",
   "execution_count": 1,
   "metadata": {},
   "outputs": [],
   "source": [
    "import os\n",
    "import xml.etree.ElementTree as ET"
   ]
  },
  {
   "cell_type": "code",
   "execution_count": 45,
   "metadata": {},
   "outputs": [
    {
     "data": {
      "text/plain": [
       "<xml.etree.ElementTree.ElementTree at 0x1964edb4080>"
      ]
     },
     "execution_count": 45,
     "metadata": {},
     "output_type": "execute_result"
    }
   ],
   "source": [
    "ET.parse('C:/Users/Glaz/Documents/GitHub/apertium-sah-eng/apertium-sah-eng.sah-eng.dix')"
   ]
  },
  {
   "cell_type": "code",
   "execution_count": 13,
   "metadata": {},
   "outputs": [
    {
     "name": "stdout",
     "output_type": "stream",
     "text": [
      "vr\t arg-cat.dix 6\n",
      "vr\t dan-nor.dix 9944\n",
      "vr\t eng-cat.dix 495\n",
      "vl\t eng-cat.dix 80\n",
      "error:\t epo-bul.dix\n",
      "error:\t epo-fas.dix\n",
      "error:\t epo-pol.dix\n",
      "vr\t fao-nor.dix 2254\n",
      "error:\t fin-fra.dix\n",
      "vr\t fra-cat.dix 3\n",
      "vr\t fra-por.dix 550\n",
      "vr\t ita-nor.dix 696\n",
      "vl\t nor-eng.dix 140\n",
      "error:\t pol-lav.dix\n",
      "error:\t sah-eng.dix\n",
      "vr\t spa-cat.dix 997\n",
      "vr\t swe-nor.dix 7394\n",
      "vr\t swe-nor.dix 9350\n"
     ]
    }
   ],
   "source": [
    "for root, dirs, files in os.walk ('./dictionaries/'):\n",
    "    for fl in files :\n",
    "        try:\n",
    "            tree = ET.parse(root+'/'+fl)\n",
    "            for section in tree.findall('section'):\n",
    "                vr = section.findall(\".//*[@vr]\")\n",
    "                if vr: print ('vr\\t', fl, len(vr))\n",
    "                vl = section.findall(\".//*[@vl]\")\n",
    "                if vl: print ('vl\\t', fl, len(vl))\n",
    "        except:\n",
    "            print ('error:\\t',fl)"
   ]
  },
  {
   "cell_type": "code",
   "execution_count": null,
   "metadata": {},
   "outputs": [],
   "source": [
    "variants = {'nor'['nno','nob'], 'cat':['val']}"
   ]
  },
  {
   "cell_type": "code",
   "execution_count": 19,
   "metadata": {},
   "outputs": [
    {
     "name": "stdout",
     "output_type": "stream",
     "text": [
      "!\n",
      "!\n",
      "!\n",
      "!\n",
      "!\n",
      "!\n",
      "!\n",
      "!\n",
      "!\n",
      "!\n",
      "!\n",
      "!\n",
      "!\n",
      "!\n",
      "!\n",
      "!\n",
      "!\n",
      "!\n",
      "!\n",
      "!\n",
      "error:\t epo-bul.dix\n",
      "error:\t epo-fas.dix\n",
      "error:\t epo-pol.dix\n",
      "error:\t fin-fra.dix\n",
      "error:\t pol-lav.dix\n",
      "error:\t sah-eng.dix\n"
     ]
    }
   ],
   "source": [
    "for root, dirs, files in os.walk ('./dictionaries/'):\n",
    "    for fl in files :\n",
    "        try:\n",
    "            tree = ET.parse(root+'/'+fl)\n",
    "            for section in tree.findall('section'):\n",
    "                vr = section.findall(\".//*[@vr]\")\n",
    "                for i in vr:\n",
    "                    if 'vl' in i.attrib:\n",
    "                        print ('!')\n",
    "        except:\n",
    "            print ('error:\\t',fl)"
   ]
  }
 ],
 "metadata": {
  "kernelspec": {
   "display_name": "Python 3",
   "language": "python",
   "name": "python3"
  },
  "language_info": {
   "codemirror_mode": {
    "name": "ipython",
    "version": 3
   },
   "file_extension": ".py",
   "mimetype": "text/x-python",
   "name": "python",
   "nbconvert_exporter": "python",
   "pygments_lexer": "ipython3",
   "version": "3.6.5"
  }
 },
 "nbformat": 4,
 "nbformat_minor": 2
}
