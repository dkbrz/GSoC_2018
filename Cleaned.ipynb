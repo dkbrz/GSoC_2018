{
 "cells": [
  {
   "cell_type": "code",
   "execution_count": 1,
   "metadata": {},
   "outputs": [],
   "source": [
    "from tool.functions import *"
   ]
  },
  {
   "cell_type": "code",
   "execution_count": null,
   "metadata": {},
   "outputs": [],
   "source": []
  },
  {
   "cell_type": "code",
   "execution_count": 2,
   "metadata": {},
   "outputs": [
    {
     "name": "stdout",
     "output_type": "stream",
     "text": [
      "2018-06-11 22:02:17,226 | INFO : Start\n",
      "2018-06-11 22:13:57,475 | INFO : Finish\n"
     ]
    }
   ],
   "source": [
    "download_all_bidixes()"
   ]
  },
  {
   "cell_type": "markdown",
   "metadata": {},
   "source": [
    "For now I delete ces-ces, ita-ita, eus-eu_bis, hbs_HR-hbs_SR, zh_CN-zh_TW"
   ]
  },
  {
   "cell_type": "code",
   "execution_count": 2,
   "metadata": {},
   "outputs": [
    {
     "name": "stdout",
     "output_type": "stream",
     "text": [
      "2018-06-12 16:41:10,577 | INFO : started\n",
      "2018-06-12 16:44:19,892 | INFO : finished\n",
      "Wall time: 3min 9s\n"
     ]
    }
   ],
   "source": [
    "%time monodix()"
   ]
  },
  {
   "cell_type": "code",
   "execution_count": 1,
   "metadata": {},
   "outputs": [],
   "source": [
    "from tool.functions import get_relevant_languages"
   ]
  },
  {
   "cell_type": "code",
   "execution_count": 2,
   "metadata": {},
   "outputs": [
    {
     "name": "stdout",
     "output_type": "stream",
     "text": [
      "Wall time: 44 ms\n"
     ]
    }
   ],
   "source": [
    "%time get_relevant_languages('spa', 'eng')"
   ]
  },
  {
   "cell_type": "code",
   "execution_count": 1,
   "metadata": {},
   "outputs": [],
   "source": [
    "from tool.functions import load_file, change_encoding, built_from_file"
   ]
  },
  {
   "cell_type": "code",
   "execution_count": 2,
   "metadata": {},
   "outputs": [
    {
     "name": "stdout",
     "output_type": "stream",
     "text": [
      "2018-06-11 22:32:06,560 | INFO : cat-ita started\n",
      "2018-06-11 22:32:39,285 | INFO : eng-cat started\n",
      "2018-06-11 22:37:19,892 | INFO : eng-ita started\n",
      "2018-06-11 22:38:54,490 | INFO : eng-spa started\n",
      "2018-06-11 22:41:22,105 | INFO : fra-cat started\n",
      "2018-06-11 22:45:20,731 | INFO : fra-eng started\n",
      "2018-06-11 22:46:16,861 | INFO : fra-ita started\n",
      "2018-06-11 22:46:48,962 | INFO : fra-spa started\n",
      "2018-06-11 22:48:43,558 | INFO : spa-cat started\n",
      "2018-06-11 22:53:54,753 | INFO : spa-ita started\n",
      "Wall time: 22min 55s\n"
     ]
    }
   ],
   "source": [
    "%time load_file('spa', 'eng')"
   ]
  },
  {
   "cell_type": "code",
   "execution_count": 3,
   "metadata": {},
   "outputs": [
    {
     "name": "stdout",
     "output_type": "stream",
     "text": [
      "Wall time: 296 ms\n"
     ]
    }
   ],
   "source": [
    "%time change_encoding('spa-eng')"
   ]
  },
  {
   "cell_type": "code",
   "execution_count": 77,
   "metadata": {},
   "outputs": [
    {
     "name": "stdout",
     "output_type": "stream",
     "text": [
      "Wall time: 26.8 s\n"
     ]
    }
   ],
   "source": [
    "%time G = built_from_file('spa-eng')"
   ]
  },
  {
   "cell_type": "code",
   "execution_count": 5,
   "metadata": {},
   "outputs": [
    {
     "data": {
      "text/plain": [
       "538634"
      ]
     },
     "execution_count": 5,
     "metadata": {},
     "output_type": "execute_result"
    }
   ],
   "source": [
    "len(G.edges())"
   ]
  },
  {
   "cell_type": "code",
   "execution_count": 6,
   "metadata": {},
   "outputs": [
    {
     "data": {
      "text/plain": [
       "285935"
      ]
     },
     "execution_count": 6,
     "metadata": {},
     "output_type": "execute_result"
    }
   ],
   "source": [
    "len(G.nodes())"
   ]
  },
  {
   "cell_type": "markdown",
   "metadata": {},
   "source": [
    "** Compress data (tags) **"
   ]
  },
  {
   "cell_type": "code",
   "execution_count": 66,
   "metadata": {},
   "outputs": [],
   "source": [
    "def compress_file(filename):\n",
    "    with open (filename, 'r', encoding='utf-8') as f:\n",
    "        with open (filename+'-short', 'w', encoding='utf-8') as outp:\n",
    "            for side, word1, word2 in nodes_from_file(filename):\n",
    "                string = str(side) + '\\t' + compress(word1).write(mode='bi') + '\\t' + compress(word2).write(mode='bi') + '\\n'\n",
    "                outp.write(string)        "
   ]
  },
  {
   "cell_type": "code",
   "execution_count": 67,
   "metadata": {},
   "outputs": [
    {
     "name": "stdout",
     "output_type": "stream",
     "text": [
      "Wall time: 5.69 s\n"
     ]
    }
   ],
   "source": [
    "%time compress_file('spa-eng')"
   ]
  },
  {
   "cell_type": "code",
   "execution_count": 65,
   "metadata": {},
   "outputs": [],
   "source": [
    "def compress(word):\n",
    "    s = list(sorted(word.s, key=len))\n",
    "    length = len(s[0]) - 1\n",
    "    if length == -1: print('Alarm!\\t', word)\n",
    "    s2 = []\n",
    "    for key, value in enumerate(s[-1]):\n",
    "        if key > length: s2.append('('+value+')')\n",
    "        else: s2.append(value)\n",
    "    word.s = [Tags(s2)]\n",
    "    return word"
   ]
  },
  {
   "cell_type": "code",
   "execution_count": 68,
   "metadata": {},
   "outputs": [],
   "source": [
    "word = Word('capital','spa',[Tags(['n','f']), Tags('n'), Tags(['n','f','sg'])])"
   ]
  },
  {
   "cell_type": "code",
   "execution_count": 69,
   "metadata": {},
   "outputs": [
    {
     "data": {
      "text/plain": [
       "spa$capital$[n-(f)-(sg)]"
      ]
     },
     "execution_count": 69,
     "metadata": {},
     "output_type": "execute_result"
    }
   ],
   "source": [
    "compress(word)"
   ]
  },
  {
   "cell_type": "markdown",
   "metadata": {},
   "source": [
    "Compression turned out to be not efficient"
   ]
  },
  {
   "cell_type": "markdown",
   "metadata": {},
   "source": [
    "** Search **"
   ]
  },
  {
   "cell_type": "markdown",
   "metadata": {},
   "source": [
    "https://networkx.github.io/documentation/networkx-2.1/_modules/networkx/algorithms/shortest_paths/unweighted.html#single_source_shortest_path"
   ]
  },
  {
   "cell_type": "code",
   "execution_count": 114,
   "metadata": {},
   "outputs": [],
   "source": [
    "from itertools import islice"
   ]
  },
  {
   "cell_type": "code",
   "execution_count": 119,
   "metadata": {},
   "outputs": [],
   "source": [
    "def _single_shortest_path_length(adj, firstlevel, cutoff, lang):\n",
    "    \"\"\" Variant of NetworkX function _single_shortest_path_length\"\"\"\n",
    "    seen = {}                  # level (number of hops) when seen in BFS\n",
    "    level = 0                  # the current level\n",
    "    nextlevel = firstlevel     # dict of nodes to check at next level\n",
    "\n",
    "    while nextlevel and cutoff >= level:\n",
    "        thislevel = nextlevel  # advance to next level\n",
    "        nextlevel = {}         # and start a new list (fringe)\n",
    "        for v in thislevel:\n",
    "            if v not in seen:\n",
    "                seen[v] = level  # set the level of vertex v\n",
    "                #if v.lang != lang:\n",
    "                nextlevel.update(adj[v])  # add neighbors of v\n",
    "                if v.lang == lang:\n",
    "                    #yield (v, level)\n",
    "                    yield v\n",
    "        level += 1\n",
    "    del seen\n",
    "\n",
    "def possible_translations(G, source, lang, cutoff=None):\n",
    "    \"\"\" Variant of NetworkX function single_source_shortest_path_length\"\"\"\n",
    "    if source not in G: raise nx.NodeNotFound('Source {} is not in G'.format(source))\n",
    "    if cutoff is None: cutoff = float('inf')\n",
    "    nextlevel = {source: 1}\n",
    "    return list(islice(_single_shortest_path_length(G.adj, nextlevel, cutoff, lang), 30))"
   ]
  },
  {
   "cell_type": "code",
   "execution_count": 121,
   "metadata": {},
   "outputs": [
    {
     "name": "stdout",
     "output_type": "stream",
     "text": [
      "4.08 ms ± 156 µs per loop (mean ± std. dev. of 7 runs, 100 loops each)\n"
     ]
    }
   ],
   "source": [
    "%timeit s = possible_translations(G, Word('be','eng',[Tags(['vblex']),Tags(['vblex','pp'])]), 'spa', cutoff=40)"
   ]
  },
  {
   "cell_type": "code",
   "execution_count": 124,
   "metadata": {},
   "outputs": [
    {
     "data": {
      "text/plain": [
       "30"
      ]
     },
     "execution_count": 124,
     "metadata": {},
     "output_type": "execute_result"
    }
   ],
   "source": [
    "len(possible_translations(G, Word('be','eng',[Tags(['vblex']),Tags(['vblex','pp'])]), 'spa', cutoff=40))"
   ]
  },
  {
   "cell_type": "code",
   "execution_count": 96,
   "metadata": {},
   "outputs": [
    {
     "name": "stdout",
     "output_type": "stream",
     "text": [
      "390 ms ± 45.5 ms per loop (mean ± std. dev. of 7 runs, 1 loop each)\n"
     ]
    }
   ],
   "source": [
    "%timeit s = nx.single_source_shortest_path_length(G, Word('be','eng',[Tags(['vblex']),Tags(['vblex','pp'])]),cutoff=40)"
   ]
  },
  {
   "cell_type": "code",
   "execution_count": null,
   "metadata": {},
   "outputs": [],
   "source": []
  }
 ],
 "metadata": {
  "kernelspec": {
   "display_name": "Python 3",
   "language": "python",
   "name": "python3"
  },
  "language_info": {
   "codemirror_mode": {
    "name": "ipython",
    "version": 3
   },
   "file_extension": ".py",
   "mimetype": "text/x-python",
   "name": "python",
   "nbconvert_exporter": "python",
   "pygments_lexer": "ipython3",
   "version": "3.6.5"
  }
 },
 "nbformat": 4,
 "nbformat_minor": 2
}
