{
 "cells": [
  {
   "cell_type": "markdown",
   "metadata": {},
   "source": [
    "import all functions from file"
   ]
  },
  {
   "cell_type": "code",
   "execution_count": 1,
   "metadata": {},
   "outputs": [],
   "source": [
    "from tool.functions import *"
   ]
  },
  {
   "cell_type": "code",
   "execution_count": 2,
   "metadata": {},
   "outputs": [
    {
     "name": "stdout",
     "output_type": "stream",
     "text": [
      "2018-06-11 22:02:17,226 | INFO : Start\n",
      "2018-06-11 22:13:57,475 | INFO : Finish\n"
     ]
    }
   ],
   "source": [
    "download_all_bidixes()"
   ]
  },
  {
   "cell_type": "markdown",
   "metadata": {},
   "source": [
    "For now I delete ces-ces, ita-ita, eus-eu_bis, hbs_HR-hbs_SR, zh_CN-zh_TW"
   ]
  },
  {
   "cell_type": "code",
   "execution_count": 2,
   "metadata": {},
   "outputs": [
    {
     "name": "stdout",
     "output_type": "stream",
     "text": [
      "2018-06-12 16:41:10,577 | INFO : started\n",
      "2018-06-12 16:44:19,892 | INFO : finished\n",
      "Wall time: 3min 9s\n"
     ]
    }
   ],
   "source": [
    "%time monodix()"
   ]
  },
  {
   "cell_type": "code",
   "execution_count": 2,
   "metadata": {},
   "outputs": [
    {
     "name": "stdout",
     "output_type": "stream",
     "text": [
      "Wall time: 44 ms\n"
     ]
    }
   ],
   "source": [
    "%time get_relevant_languages('spa', 'eng')"
   ]
  },
  {
   "cell_type": "code",
   "execution_count": 1,
   "metadata": {},
   "outputs": [],
   "source": [
    "from tool.functions import load_file, change_encoding, built_from_file"
   ]
  },
  {
   "cell_type": "code",
   "execution_count": 2,
   "metadata": {},
   "outputs": [
    {
     "name": "stdout",
     "output_type": "stream",
     "text": [
      "2018-06-11 22:32:06,560 | INFO : cat-ita started\n",
      "2018-06-11 22:32:39,285 | INFO : eng-cat started\n",
      "2018-06-11 22:37:19,892 | INFO : eng-ita started\n",
      "2018-06-11 22:38:54,490 | INFO : eng-spa started\n",
      "2018-06-11 22:41:22,105 | INFO : fra-cat started\n",
      "2018-06-11 22:45:20,731 | INFO : fra-eng started\n",
      "2018-06-11 22:46:16,861 | INFO : fra-ita started\n",
      "2018-06-11 22:46:48,962 | INFO : fra-spa started\n",
      "2018-06-11 22:48:43,558 | INFO : spa-cat started\n",
      "2018-06-11 22:53:54,753 | INFO : spa-ita started\n",
      "Wall time: 22min 55s\n"
     ]
    }
   ],
   "source": [
    "%time load_file('spa', 'eng')"
   ]
  },
  {
   "cell_type": "code",
   "execution_count": 3,
   "metadata": {},
   "outputs": [
    {
     "name": "stdout",
     "output_type": "stream",
     "text": [
      "Wall time: 296 ms\n"
     ]
    }
   ],
   "source": [
    "%time change_encoding('spa-eng')"
   ]
  },
  {
   "cell_type": "code",
   "execution_count": 2,
   "metadata": {},
   "outputs": [
    {
     "name": "stdout",
     "output_type": "stream",
     "text": [
      "Wall time: 26.9 s\n",
      "Wall time: 6.02 s\n"
     ]
    },
    {
     "data": {
      "text/plain": [
       "'Edges: 538634  Nodes: 285935'"
      ]
     },
     "execution_count": 2,
     "metadata": {},
     "output_type": "execute_result"
    }
   ],
   "source": [
    "%time G = built_from_file('spa-eng')\n",
    "%time l1, l2 = dictionaries('spa', 'eng')\n",
    "'Edges: {}  Nodes: {}'.format(len(G.edges()),len(G.nodes()))"
   ]
  },
  {
   "cell_type": "markdown",
   "metadata": {},
   "source": [
    "** Search **"
   ]
  },
  {
   "cell_type": "code",
   "execution_count": 69,
   "metadata": {},
   "outputs": [
    {
     "name": "stdout",
     "output_type": "stream",
     "text": [
      "2.56 ms ± 156 µs per loop (mean ± std. dev. of 7 runs, 100 loops each)\n",
      "352 ms ± 38.7 ms per loop (mean ± std. dev. of 7 runs, 1 loop each)\n"
     ]
    }
   ],
   "source": [
    "%timeit s = possible_translations(G, Word('be','eng',[Tags(['vblex']),Tags(['vblex','pp'])]), 'spa', cutoff=8, n=40)\n",
    "%timeit s = nx.single_source_shortest_path_length(G, Word('be','eng',[Tags(['vblex']),Tags(['vblex','pp'])]),cutoff=8)"
   ]
  },
  {
   "cell_type": "code",
   "execution_count": 2,
   "metadata": {},
   "outputs": [],
   "source": [
    "def evaluation(G, word, candidates, metric, cutoff=4):\n",
    "    result = {}\n",
    "    for translation in candidates:\n",
    "        result[translation] = metric(G, word, translation, cutoff=4)\n",
    "    return result\n",
    "\n",
    "def sorting(result, n):\n",
    "    result = [(x, result[x]) for x in sorted(result, key=result.get, reverse=True)[:n]]\n",
    "    return result\n",
    "\n",
    "def metric(G, word, translation, cutoff, mode='exp'):\n",
    "    coef = 0\n",
    "    if mode in ('exp'):\n",
    "        t = Counter([len(i) for i in nx.all_simple_paths(G, word, translation, cutoff=cutoff)])\n",
    "        if mode == 'exp':\n",
    "            for i in t: \n",
    "                coef += exp(-t[i])\n",
    "            return coef"
   ]
  },
  {
   "cell_type": "code",
   "execution_count": 3,
   "metadata": {},
   "outputs": [],
   "source": [
    "def lemma_search (G, lemma, d_l1, l2, cutoff, n):\n",
    "    lemmas = [i for i in d_l1.lemma(lemma) if i in G.nodes()]\n",
    "    results = {word:{} for word in lemmas}\n",
    "    for word in lemmas:\n",
    "        candidates = possible_translations(G, word, l2, cutoff=cutoff, n=n)\n",
    "        results[word] = evaluation(G, word, candidates, metric, cutoff=cutoff)\n",
    "        del candidates\n",
    "    return results"
   ]
  },
  {
   "cell_type": "code",
   "execution_count": 4,
   "metadata": {},
   "outputs": [],
   "source": [
    "def print_lemma_results(results, n=10):\n",
    "    for i in d:\n",
    "        print ('\\t\\t', i)\n",
    "        words = sorting(d[i], n)\n",
    "        for j in words:\n",
    "            print ('{}\\t{}'.format(j[0], j[1]))\n",
    "        print()"
   ]
  },
  {
   "cell_type": "code",
   "execution_count": 165,
   "metadata": {},
   "outputs": [
    {
     "name": "stdout",
     "output_type": "stream",
     "text": [
      "\t\t eng$star$[n_n-ND]\n",
      "spa$astro$[n_n-m]\t0.6385500076446677\n",
      "spa$cometa$[n-m_n]\t0.4176665095393063\n",
      "spa$cometa$[n-f_n_n-f-sg]\t0.4176665095393063\n",
      "spa$estrella$[n-f_n_n-f-sg]\t0.37461750070570254\n",
      "spa$barrilete$[n-m_n]\t0.36787944117144233\n",
      "\n",
      "\t\t eng$star$[vblex]\n",
      "spa$protagonizar$[vblex]\t1.103638323514327\n",
      "spa$jugar$[vblex_vblex-vbact]\t0.13567074586451522\n",
      "spa$obrar$[vblex]\t0.1353352832366127\n",
      "spa$hacer$[vblex_vblex-inf]\t0.1353352832366127\n",
      "spa$alivianarse$[vblex-pron]\t0.1353352832366127\n",
      "\n",
      "Wall time: 123 ms\n"
     ]
    }
   ],
   "source": [
    "%time print_lemma_results(lemma_search (G, 'star', l2, 'spa', 4, 40), n = 5)"
   ]
  },
  {
   "cell_type": "code",
   "execution_count": 166,
   "metadata": {},
   "outputs": [
    {
     "name": "stdout",
     "output_type": "stream",
     "text": [
      "Wall time: 122 ms\n",
      "Wall time: 84.3 ms\n",
      "Wall time: 78.1 ms\n"
     ]
    }
   ],
   "source": [
    "%time s = lemma_search (G, 'capital', l1, 'eng', 4, 40)\n",
    "%time s = lemma_search (G, 'capital', l1, 'eng', 6, 40)\n",
    "%time s = lemma_search (G, 'capital', l1, 'eng', 8, 40)"
   ]
  },
  {
   "cell_type": "code",
   "execution_count": 167,
   "metadata": {},
   "outputs": [
    {
     "name": "stdout",
     "output_type": "stream",
     "text": [
      "Wall time: 117 ms\n",
      "Wall time: 78.1 ms\n",
      "Wall time: 93.7 ms\n"
     ]
    }
   ],
   "source": [
    "%time s = lemma_search (G, 'casa', l1, 'eng', 4, 40)\n",
    "%time s = lemma_search (G, 'casa', l1, 'eng', 6, 40)\n",
    "%time s = lemma_search (G, 'casa', l1, 'eng', 8, 40)"
   ]
  },
  {
   "cell_type": "markdown",
   "metadata": {},
   "source": [
    "** Evaluate on rus-eng **"
   ]
  },
  {
   "cell_type": "code",
   "execution_count": null,
   "metadata": {},
   "outputs": [
    {
     "name": "stdout",
     "output_type": "stream",
     "text": [
      "Wall time: 4.05 s\n"
     ]
    }
   ],
   "source": [
    "%time l1, l2 = dictionaries('rus', 'eng')\n",
    "%time G = built_from_file('rus-eng')"
   ]
  },
  {
   "cell_type": "code",
   "execution_count": 5,
   "metadata": {},
   "outputs": [],
   "source": [
    "import random\n",
    "def get_evaluation_pairs(G, dictionary, target, n=500):\n",
    "    k = 4\n",
    "    pairs = []\n",
    "    while len(pairs) < n:\n",
    "        candidates = random.sample(dictionary, k*n)\n",
    "        pairs = []\n",
    "        for i in candidates:\n",
    "            if i in G.nodes():\n",
    "                s = FilteredList(list(G.neighbors(i))).lang(target)\n",
    "                if len(s) == 1: pairs.append((i, s[0], n))\n",
    "        print (k*n, len(pairs))\n",
    "        k+=1\n",
    "    return pairs[:n]"
   ]
  },
  {
   "cell_type": "code",
   "execution_count": 104,
   "metadata": {},
   "outputs": [
    {
     "name": "stdout",
     "output_type": "stream",
     "text": [
      "500 105\n",
      "1000 240\n",
      "1500 314\n",
      "2000 441\n",
      "2500 541\n",
      "Wall time: 153 ms\n"
     ]
    }
   ],
   "source": [
    "%time s = get_evaluation_pairs(G, l1, 'eng', n=1000)"
   ]
  },
  {
   "cell_type": "code",
   "execution_count": 6,
   "metadata": {},
   "outputs": [],
   "source": [
    "def node_search(G, node, lang, cutoff):\n",
    "    if node not in G.nodes():\n",
    "        return None\n",
    "    results = {}\n",
    "    #for translation in possible_translations(G, node, lang, cutoff, n = 30):\n",
    "    candidates = possible_translations(G, word, l2, cutoff=cutoff, n=30)\n",
    "    results[word] = evaluation(G, word, candidates, metric, cutoff=cutoff)\n",
    "    return list(sorted(results, key=results.get, reverse=True))[:20]\n",
    "\n",
    "def two_node_search (G, node1, node2, l1, l2, cutoff):\n",
    "    if (node1, node2) in G.edges(): G.remove_edge(node1, node2)\n",
    "    if (node2, node1) in G.edges(): G.remove_edge(node2, node1)\n",
    "    res1 = node_search(G, node1, l2, cutoff)\n",
    "    res2 = node_search(G, node2, l1, cutoff)\n",
    "    coefficient = 0\n",
    "    if node2 in res1: coefficient += 0.5*(len(res1) - res1.index(node2))/len(res1)\n",
    "    if node1 in res2: coefficient += 0.5*(len(res2) - res2.index(node1))/len(res2) \n",
    "    return coefficient\n",
    "\n",
    "def evaluate_graph(G, pairs, l1, l2, cutoff):\n",
    "    result = []\n",
    "    for i in pairs:\n",
    "        result.append(two_node_search (G, i[0], i[1], l1, l2, cutoff))\n",
    "    return result"
   ]
  },
  {
   "cell_type": "code",
   "execution_count": 12,
   "metadata": {},
   "outputs": [
    {
     "name": "stdout",
     "output_type": "stream",
     "text": [
      "Wall time: 1h 14min 23s\n"
     ]
    }
   ],
   "source": [
    "%time result = evaluate_graph(G, pairs2, 'rus', 'eng', 4)"
   ]
  },
  {
   "cell_type": "code",
   "execution_count": 13,
   "metadata": {},
   "outputs": [
    {
     "data": {
      "text/plain": [
       "38.735399926879445"
      ]
     },
     "execution_count": 13,
     "metadata": {},
     "output_type": "execute_result"
    }
   ],
   "source": [
    "sum(result)/10"
   ]
  }
 ],
 "metadata": {
  "kernelspec": {
   "display_name": "Python 3",
   "language": "python",
   "name": "python3"
  },
  "language_info": {
   "codemirror_mode": {
    "name": "ipython",
    "version": 3
   },
   "file_extension": ".py",
   "mimetype": "text/x-python",
   "name": "python",
   "nbconvert_exporter": "python",
   "pygments_lexer": "ipython3",
   "version": "3.6.5"
  }
 },
 "nbformat": 4,
 "nbformat_minor": 2
}
