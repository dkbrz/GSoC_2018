{
 "cells": [
  {
   "cell_type": "markdown",
   "metadata": {},
   "source": [
    "import all functions from file"
   ]
  },
  {
   "cell_type": "code",
   "execution_count": 1,
   "metadata": {},
   "outputs": [],
   "source": [
    "from tool.functions import *"
   ]
  },
  {
   "cell_type": "code",
   "execution_count": 2,
   "metadata": {},
   "outputs": [
    {
     "name": "stdout",
     "output_type": "stream",
     "text": [
      "2018-06-11 22:02:17,226 | INFO : Start\n",
      "2018-06-11 22:13:57,475 | INFO : Finish\n"
     ]
    }
   ],
   "source": [
    "download_all_bidixes()"
   ]
  },
  {
   "cell_type": "markdown",
   "metadata": {},
   "source": [
    "For now I delete ces-ces, ita-ita, eus-eu_bis, hbs_HR-hbs_SR, zh_CN-zh_TW"
   ]
  },
  {
   "cell_type": "code",
   "execution_count": 2,
   "metadata": {},
   "outputs": [
    {
     "name": "stdout",
     "output_type": "stream",
     "text": [
      "2018-06-12 16:41:10,577 | INFO : started\n",
      "2018-06-12 16:44:19,892 | INFO : finished\n",
      "Wall time: 3min 9s\n"
     ]
    }
   ],
   "source": [
    "%time monodix()"
   ]
  },
  {
   "cell_type": "code",
   "execution_count": 2,
   "metadata": {},
   "outputs": [
    {
     "name": "stdout",
     "output_type": "stream",
     "text": [
      "Wall time: 44 ms\n"
     ]
    }
   ],
   "source": [
    "%time get_relevant_languages('spa', 'eng')"
   ]
  },
  {
   "cell_type": "code",
   "execution_count": 1,
   "metadata": {},
   "outputs": [],
   "source": [
    "from tool.functions import load_file, change_encoding, built_from_file"
   ]
  },
  {
   "cell_type": "code",
   "execution_count": 2,
   "metadata": {},
   "outputs": [
    {
     "name": "stdout",
     "output_type": "stream",
     "text": [
      "2018-06-11 22:32:06,560 | INFO : cat-ita started\n",
      "2018-06-11 22:32:39,285 | INFO : eng-cat started\n",
      "2018-06-11 22:37:19,892 | INFO : eng-ita started\n",
      "2018-06-11 22:38:54,490 | INFO : eng-spa started\n",
      "2018-06-11 22:41:22,105 | INFO : fra-cat started\n",
      "2018-06-11 22:45:20,731 | INFO : fra-eng started\n",
      "2018-06-11 22:46:16,861 | INFO : fra-ita started\n",
      "2018-06-11 22:46:48,962 | INFO : fra-spa started\n",
      "2018-06-11 22:48:43,558 | INFO : spa-cat started\n",
      "2018-06-11 22:53:54,753 | INFO : spa-ita started\n",
      "Wall time: 22min 55s\n"
     ]
    }
   ],
   "source": [
    "%time load_file('spa', 'eng')"
   ]
  },
  {
   "cell_type": "code",
   "execution_count": 3,
   "metadata": {},
   "outputs": [
    {
     "name": "stdout",
     "output_type": "stream",
     "text": [
      "Wall time: 296 ms\n"
     ]
    }
   ],
   "source": [
    "%time change_encoding('spa-eng')"
   ]
  },
  {
   "cell_type": "code",
   "execution_count": 2,
   "metadata": {},
   "outputs": [
    {
     "name": "stdout",
     "output_type": "stream",
     "text": [
      "Wall time: 26.9 s\n",
      "Wall time: 6.02 s\n"
     ]
    },
    {
     "data": {
      "text/plain": [
       "'Edges: 538634  Nodes: 285935'"
      ]
     },
     "execution_count": 2,
     "metadata": {},
     "output_type": "execute_result"
    }
   ],
   "source": [
    "%time G = built_from_file('spa-eng')\n",
    "%time l1, l2 = dictionaries('spa', 'eng')\n",
    "'Edges: {}  Nodes: {}'.format(len(G.edges()),len(G.nodes()))"
   ]
  },
  {
   "cell_type": "markdown",
   "metadata": {},
   "source": [
    "** Search **"
   ]
  },
  {
   "cell_type": "code",
   "execution_count": 69,
   "metadata": {},
   "outputs": [
    {
     "name": "stdout",
     "output_type": "stream",
     "text": [
      "2.56 ms ± 156 µs per loop (mean ± std. dev. of 7 runs, 100 loops each)\n",
      "352 ms ± 38.7 ms per loop (mean ± std. dev. of 7 runs, 1 loop each)\n"
     ]
    }
   ],
   "source": [
    "%timeit s = possible_translations(G, Word('be','eng',[Tags(['vblex']),Tags(['vblex','pp'])]), 'spa', cutoff=8, n=40)\n",
    "%timeit s = nx.single_source_shortest_path_length(G, Word('be','eng',[Tags(['vblex']),Tags(['vblex','pp'])]),cutoff=8)"
   ]
  },
  {
   "cell_type": "code",
   "execution_count": 8,
   "metadata": {},
   "outputs": [],
   "source": [
    "def evaluation(G, word, candidates, metric, cutoff=4):\n",
    "    result = {}\n",
    "    for translation in candidates:\n",
    "        result[translation] = metric(G, word, translation, cutoff=4)\n",
    "    return result\n",
    "\n",
    "def sorting(result, n):\n",
    "    result = [(x, result[x]) for x in sorted(result, key=result.get, reverse=True)[:n]]\n",
    "    return result\n",
    "\n",
    "def metric(G, word, translation, cutoff, mode='exp'):\n",
    "    coef = 0\n",
    "    if mode in ('exp'):\n",
    "        t = Counter([len(i) for i in nx.all_simple_paths(G, word, translation, cutoff=cutoff)])\n",
    "        if mode == 'exp':\n",
    "            for i in t: \n",
    "                coef += exp(-t[i])\n",
    "            #print (coef)\n",
    "            return coef"
   ]
  },
  {
   "cell_type": "code",
   "execution_count": 13,
   "metadata": {},
   "outputs": [],
   "source": [
    "def lemma_search (G, lemma, d_l1, l2, cutoff, n):\n",
    "    lemmas = [i for i in d_l1.lemma(lemma) if i in G.nodes()]\n",
    "    results = {word:{} for word in lemmas}\n",
    "    for word in lemmas:\n",
    "        candidates = possible_translations(G, word, l2, cutoff=cutoff, n=n)\n",
    "        results[word] = evaluation(G, word, candidates, metric, cutoff=cutoff)\n",
    "        del candidates\n",
    "    return results"
   ]
  },
  {
   "cell_type": "code",
   "execution_count": 14,
   "metadata": {},
   "outputs": [],
   "source": [
    "def print_lemma_results(results, n=10):\n",
    "    for i in d:\n",
    "        print ('\\t\\t', i)\n",
    "        words = sorting(d[i], n)\n",
    "        for j in words:\n",
    "            print ('{}\\t{}'.format(j[0], j[1]))\n",
    "        print()"
   ]
  },
  {
   "cell_type": "code",
   "execution_count": 165,
   "metadata": {},
   "outputs": [
    {
     "name": "stdout",
     "output_type": "stream",
     "text": [
      "\t\t eng$star$[n_n-ND]\n",
      "spa$astro$[n_n-m]\t0.6385500076446677\n",
      "spa$cometa$[n-m_n]\t0.4176665095393063\n",
      "spa$cometa$[n-f_n_n-f-sg]\t0.4176665095393063\n",
      "spa$estrella$[n-f_n_n-f-sg]\t0.37461750070570254\n",
      "spa$barrilete$[n-m_n]\t0.36787944117144233\n",
      "\n",
      "\t\t eng$star$[vblex]\n",
      "spa$protagonizar$[vblex]\t1.103638323514327\n",
      "spa$jugar$[vblex_vblex-vbact]\t0.13567074586451522\n",
      "spa$obrar$[vblex]\t0.1353352832366127\n",
      "spa$hacer$[vblex_vblex-inf]\t0.1353352832366127\n",
      "spa$alivianarse$[vblex-pron]\t0.1353352832366127\n",
      "\n",
      "Wall time: 123 ms\n"
     ]
    }
   ],
   "source": [
    "%time print_lemma_results(lemma_search (G, 'star', l2, 'spa', 4, 40), n = 5)"
   ]
  },
  {
   "cell_type": "code",
   "execution_count": 166,
   "metadata": {},
   "outputs": [
    {
     "name": "stdout",
     "output_type": "stream",
     "text": [
      "Wall time: 122 ms\n",
      "Wall time: 84.3 ms\n",
      "Wall time: 78.1 ms\n"
     ]
    }
   ],
   "source": [
    "%time s = lemma_search (G, 'capital', l1, 'eng', 4, 40)\n",
    "%time s = lemma_search (G, 'capital', l1, 'eng', 6, 40)\n",
    "%time s = lemma_search (G, 'capital', l1, 'eng', 8, 40)"
   ]
  },
  {
   "cell_type": "code",
   "execution_count": 167,
   "metadata": {},
   "outputs": [
    {
     "name": "stdout",
     "output_type": "stream",
     "text": [
      "Wall time: 117 ms\n",
      "Wall time: 78.1 ms\n",
      "Wall time: 93.7 ms\n"
     ]
    }
   ],
   "source": [
    "%time s = lemma_search (G, 'casa', l1, 'eng', 4, 40)\n",
    "%time s = lemma_search (G, 'casa', l1, 'eng', 6, 40)\n",
    "%time s = lemma_search (G, 'casa', l1, 'eng', 8, 40)"
   ]
  },
  {
   "cell_type": "markdown",
   "metadata": {},
   "source": [
    "** Evaluate on spa-eng **"
   ]
  },
  {
   "cell_type": "code",
   "execution_count": 3,
   "metadata": {},
   "outputs": [
    {
     "name": "stdout",
     "output_type": "stream",
     "text": [
      "Wall time: 4.6 s\n",
      "Wall time: 32.3 s\n"
     ]
    }
   ],
   "source": [
    "%time l1, l2 = dictionaries('spa', 'eng')\n",
    "%time G = built_from_file('spa-eng')"
   ]
  },
  {
   "cell_type": "code",
   "execution_count": 11,
   "metadata": {},
   "outputs": [],
   "source": [
    "import random\n",
    "def get_evaluation_pairs(G, dictionary, target, n=500):\n",
    "    k = 4\n",
    "    pairs = []\n",
    "    while len(pairs) < n:\n",
    "        candidates = random.sample(dictionary, k*n)\n",
    "        pairs = []\n",
    "        for i in candidates:\n",
    "            if i in G.nodes():\n",
    "                s = FilteredList(list(G.neighbors(i))).lang(target)\n",
    "                if len(s) == 1: pairs.append((i, s[0], n))\n",
    "        print (k*n, len(pairs))\n",
    "        k+=1\n",
    "    return pairs[:n]"
   ]
  },
  {
   "cell_type": "code",
   "execution_count": 5,
   "metadata": {},
   "outputs": [
    {
     "name": "stdout",
     "output_type": "stream",
     "text": [
      "4000 950\n",
      "5000 1171\n",
      "Wall time: 174 ms\n"
     ]
    }
   ],
   "source": [
    "%time s = get_evaluation_pairs(G, l1, 'eng', n=1000)"
   ]
  },
  {
   "cell_type": "code",
   "execution_count": 9,
   "metadata": {},
   "outputs": [],
   "source": [
    "def node_search(G, word, lang, cutoff):\n",
    "    if word not in G.nodes():\n",
    "        return None\n",
    "    results = {}\n",
    "    candidates = possible_translations(G, word, lang, cutoff=cutoff, n=30)\n",
    "    #print (word, lang, candidates)\n",
    "    results = evaluation(G, word, candidates, metric, cutoff=cutoff)\n",
    "    #print (results)\n",
    "    return list(sorted(results, key=results.get, reverse=True))[:20]\n",
    "\n",
    "def two_node_search (G, node1, node2, l1, l2, cutoff):\n",
    "    if (node1, node2) in G.edges(): G.remove_edge(node1, node2)\n",
    "    if (node2, node1) in G.edges(): G.remove_edge(node2, node1)\n",
    "    res1 = node_search(G, node1, l2, cutoff)\n",
    "    #print (res1)\n",
    "    res2 = node_search(G, node2, l1, cutoff)\n",
    "    #print (res2)\n",
    "    #print (res1, res2)\n",
    "    coefficient = 0\n",
    "    if node2 in res1: coefficient += 0.5*(len(res1) - res1.index(node2))/len(res1)\n",
    "    if node1 in res2: coefficient += 0.5*(len(res2) - res2.index(node1))/len(res2) \n",
    "    return coefficient\n",
    "\n",
    "def evaluate_graph(G, pairs, l1, l2, cutoff):\n",
    "    result = []\n",
    "    for i in pairs:\n",
    "        result.append(two_node_search (G, i[0], i[1], l1, l2, cutoff))\n",
    "    return result"
   ]
  },
  {
   "cell_type": "code",
   "execution_count": 79,
   "metadata": {},
   "outputs": [
    {
     "name": "stdout",
     "output_type": "stream",
     "text": [
      "spa$teta$[n_n-f] eng [eng$udder$[n], eng$breast$[n_n-ND], eng$mum$[n_n-ND], eng$heart$[n_n-ND], eng$sinus$[n], eng$chest$[n_n-sg]]\n"
     ]
    },
    {
     "data": {
      "text/plain": [
       "[spa$teta$[n_n-f]]"
      ]
     },
     "execution_count": 79,
     "metadata": {},
     "output_type": "execute_result"
    }
   ],
   "source": [
    "node_search(G, s[2][0], 'eng', 6)"
   ]
  },
  {
   "cell_type": "code",
   "execution_count": 75,
   "metadata": {},
   "outputs": [
    {
     "data": {
      "text/plain": [
       "(spa$coherentemente$[adv], eng$consistently$[adv], 100)"
      ]
     },
     "execution_count": 75,
     "metadata": {},
     "output_type": "execute_result"
    }
   ],
   "source": [
    "s[7]"
   ]
  },
  {
   "cell_type": "code",
   "execution_count": 81,
   "metadata": {},
   "outputs": [
    {
     "data": {
      "text/plain": [
       "[eng$consistently$[adv]]"
      ]
     },
     "execution_count": 81,
     "metadata": {},
     "output_type": "execute_result"
    }
   ],
   "source": [
    "possible_translations(G, s[7][0], 'eng', cutoff=4, n=30)"
   ]
  },
  {
   "cell_type": "code",
   "execution_count": 76,
   "metadata": {},
   "outputs": [
    {
     "data": {
      "text/plain": [
       "{spa$coherentemente$[adv]: {eng$consistently$[adv]: 0.1353352832366127}}"
      ]
     },
     "execution_count": 76,
     "metadata": {},
     "output_type": "execute_result"
    }
   ],
   "source": [
    "lemma_search (G, 'coherentemente', l1, 'eng', 4, 40)"
   ]
  },
  {
   "cell_type": "code",
   "execution_count": 98,
   "metadata": {},
   "outputs": [
    {
     "data": {
      "text/plain": [
       "0.6666666666666666"
      ]
     },
     "execution_count": 98,
     "metadata": {},
     "output_type": "execute_result"
    }
   ],
   "source": [
    "two_node_search (G, s[7][0], s[7][1], 'spa', 'eng', 4)"
   ]
  },
  {
   "cell_type": "code",
   "execution_count": 99,
   "metadata": {},
   "outputs": [
    {
     "data": {
      "text/plain": [
       "[(spa$Hoel$[np-ant], eng$Hoel$[np-ant_np-ant-m-sg_np], 100),\n",
       " (spa$lo siento$[adv], eng$I'm sorry$[adv], 100),\n",
       " (spa$teta$[n_n-f], eng$tit$[n], 100),\n",
       " (spa$frenesí$[n_n-m], eng$frenzy$[n], 100),\n",
       " (spa$plástico$[adj_adj-GD], eng$plastic$[adj], 100),\n",
       " (spa$Soderbergh$[np-cog-mf], eng$Soderbergh$[np-cog-sg__np-cog], 100),\n",
       " (spa$estrenar$[vblex], eng$première$[vblex], 100),\n",
       " (spa$coherentemente$[adv], eng$consistently$[adv], 100),\n",
       " (spa$AK-47$[np-al-f], eng$AK-47$[np-al], 100),\n",
       " (spa$Lisbeth$[np-ant], eng$Lisbeth$[np-ant_np-ant-f-sg_np], 100)]"
      ]
     },
     "execution_count": 99,
     "metadata": {},
     "output_type": "execute_result"
    }
   ],
   "source": [
    "s[:10]"
   ]
  },
  {
   "cell_type": "code",
   "execution_count": 15,
   "metadata": {},
   "outputs": [
    {
     "name": "stdout",
     "output_type": "stream",
     "text": [
      "Wall time: 13.6 s\n"
     ]
    },
    {
     "data": {
      "text/plain": [
       "54.020900855680296"
      ]
     },
     "execution_count": 15,
     "metadata": {},
     "output_type": "execute_result"
    }
   ],
   "source": [
    "%time result = evaluate_graph(G, s, 'spa', 'eng', 4)\n",
    "sum(result)/10"
   ]
  },
  {
   "cell_type": "code",
   "execution_count": 16,
   "metadata": {},
   "outputs": [
    {
     "name": "stdout",
     "output_type": "stream",
     "text": [
      "Wall time: 13.7 s\n"
     ]
    },
    {
     "data": {
      "text/plain": [
       "55.000515318015346"
      ]
     },
     "execution_count": 16,
     "metadata": {},
     "output_type": "execute_result"
    }
   ],
   "source": [
    "%time result = evaluate_graph(G, s, 'spa', 'eng', 6)\n",
    "sum(result)/10"
   ]
  },
  {
   "cell_type": "code",
   "execution_count": 17,
   "metadata": {},
   "outputs": [
    {
     "name": "stdout",
     "output_type": "stream",
     "text": [
      "Wall time: 14.2 s\n"
     ]
    },
    {
     "data": {
      "text/plain": [
       "55.19614245231895"
      ]
     },
     "execution_count": 17,
     "metadata": {},
     "output_type": "execute_result"
    }
   ],
   "source": [
    "%time result = evaluate_graph(G, s, 'spa', 'eng', 8)\n",
    "sum(result)/10"
   ]
  },
  {
   "cell_type": "code",
   "execution_count": 18,
   "metadata": {},
   "outputs": [
    {
     "name": "stdout",
     "output_type": "stream",
     "text": [
      "Wall time: 17.9 s\n"
     ]
    },
    {
     "data": {
      "text/plain": [
       "55.27214710362739"
      ]
     },
     "execution_count": 18,
     "metadata": {},
     "output_type": "execute_result"
    }
   ],
   "source": [
    "%time result = evaluate_graph(G, s, 'spa', 'eng', 10)\n",
    "sum(result)/10"
   ]
  },
  {
   "cell_type": "code",
   "execution_count": 19,
   "metadata": {},
   "outputs": [
    {
     "name": "stdout",
     "output_type": "stream",
     "text": [
      "Wall time: 16.1 s\n"
     ]
    },
    {
     "data": {
      "text/plain": [
       "55.292220805510304"
      ]
     },
     "execution_count": 19,
     "metadata": {},
     "output_type": "execute_result"
    }
   ],
   "source": [
    "%time result = evaluate_graph(G, s, 'spa', 'eng', 12)\n",
    "sum(result)/10"
   ]
  },
  {
   "cell_type": "markdown",
   "metadata": {},
   "source": [
    "** Evaluation on rus-ukr **"
   ]
  },
  {
   "cell_type": "code",
   "execution_count": 20,
   "metadata": {},
   "outputs": [],
   "source": [
    "get_relevant_languages('rus', 'ukr')"
   ]
  },
  {
   "cell_type": "code",
   "execution_count": 2,
   "metadata": {},
   "outputs": [
    {
     "name": "stdout",
     "output_type": "stream",
     "text": [
      "2018-06-16 22:28:35,909 | INFO : bel-rus started\n",
      "2018-06-16 22:29:03,539 | INFO : bul-eng started\n",
      "2018-06-16 22:29:13,453 | INFO : bul-rus started\n",
      "2018-06-16 22:29:17,721 | INFO : ces-hbs started\n",
      "2018-06-16 22:29:18,328 | INFO : ces-rus started\n",
      "2018-06-16 22:29:26,349 | INFO : chv-rus started\n",
      "2018-06-16 22:29:27,317 | INFO : chv-tat started\n",
      "2018-06-16 22:29:28,280 | INFO : eng-kaz started\n",
      "2018-06-16 22:30:11,873 | INFO : eng-pol started\n",
      "2018-06-16 22:30:22,155 | INFO : epo-bel started\n",
      "2018-06-16 22:30:24,693 | INFO : epo-bul started\n",
      "ERROR: epo-bul\n",
      "2018-06-16 22:30:26,879 | INFO : epo-ces started\n",
      "2018-06-16 22:30:28,804 | INFO : epo-eng started\n",
      "2018-06-16 22:30:56,654 | INFO : epo-pol started\n",
      "ERROR: epo-pol\n",
      "2018-06-16 22:30:59,037 | INFO : epo-rus started\n",
      "2018-06-16 22:31:30,501 | INFO : hbs-eng started\n",
      "2018-06-16 22:32:02,061 | INFO : hbs-rus started\n",
      "2018-06-16 22:32:12,185 | INFO : isl-eng started\n",
      "2018-06-16 22:32:19,999 | INFO : isl-rus started\n",
      "2018-06-16 22:32:20,935 | INFO : kaz-rus started\n",
      "2018-06-16 22:33:04,452 | INFO : kaz-tat started\n",
      "2018-06-16 22:33:05,890 | INFO : pol-ces started\n",
      "2018-06-16 22:33:11,566 | INFO : pol-epo started\n",
      "2018-06-16 22:33:23,421 | INFO : pol-hbs started\n",
      "2018-06-16 22:33:24,311 | INFO : pol-rus started\n",
      "2018-06-16 22:34:16,760 | INFO : pol-ukr started\n",
      "2018-06-16 22:34:19,994 | INFO : rus-eng started\n",
      "2018-06-16 22:34:27,572 | INFO : rus-ukr started\n",
      "2018-06-16 22:34:45,140 | INFO : tat-eng started\n",
      "2018-06-16 22:35:00,892 | INFO : tat-rus started\n",
      "Wall time: 6min 34s\n"
     ]
    }
   ],
   "source": [
    "%time load_file('rus', 'ukr')"
   ]
  },
  {
   "cell_type": "code",
   "execution_count": 3,
   "metadata": {},
   "outputs": [
    {
     "name": "stdout",
     "output_type": "stream",
     "text": [
      "Wall time: 341 ms\n"
     ]
    }
   ],
   "source": [
    "%time change_encoding('rus-ukr')"
   ]
  },
  {
   "cell_type": "code",
   "execution_count": 4,
   "metadata": {},
   "outputs": [
    {
     "name": "stdout",
     "output_type": "stream",
     "text": [
      "Wall time: 1.06 s\n",
      "Wall time: 34.8 s\n"
     ]
    }
   ],
   "source": [
    "%time l1, l2 = dictionaries('rus', 'ukr')\n",
    "%time G = built_from_file('rus-ukr')"
   ]
  },
  {
   "cell_type": "code",
   "execution_count": 13,
   "metadata": {},
   "outputs": [
    {
     "name": "stdout",
     "output_type": "stream",
     "text": [
      "4000 497\n",
      "5000 631\n",
      "6000 754\n",
      "7000 886\n",
      "8000 1031\n",
      "Wall time: 616 ms\n"
     ]
    }
   ],
   "source": [
    "%time s = get_evaluation_pairs(G, l1, 'ukr', n=1000)"
   ]
  },
  {
   "cell_type": "code",
   "execution_count": 14,
   "metadata": {},
   "outputs": [
    {
     "name": "stdout",
     "output_type": "stream",
     "text": [
      "Wall time: 17.6 s\n"
     ]
    },
    {
     "data": {
      "text/plain": [
       "14.175800792774487"
      ]
     },
     "execution_count": 14,
     "metadata": {},
     "output_type": "execute_result"
    }
   ],
   "source": [
    "%time result = evaluate_graph(G, s, 'rus', 'ukr', 4)\n",
    "sum(result)/10"
   ]
  },
  {
   "cell_type": "code",
   "execution_count": 15,
   "metadata": {},
   "outputs": [
    {
     "name": "stdout",
     "output_type": "stream",
     "text": [
      "Wall time: 33.2 s\n",
      "15.10937769359982\n",
      "Wall time: 39.5 s\n",
      "15.289583153774325\n",
      "Wall time: 39.7 s\n",
      "15.304539835164828\n"
     ]
    }
   ],
   "source": [
    "%time result = evaluate_graph(G, s, 'rus', 'ukr', 6)\n",
    "print(sum(result)/10)\n",
    "%time result = evaluate_graph(G, s, 'rus', 'ukr', 8)\n",
    "print(sum(result)/10)\n",
    "%time result = evaluate_graph(G, s, 'rus', 'ukr', 10)\n",
    "print(sum(result)/10)"
   ]
  },
  {
   "cell_type": "markdown",
   "metadata": {},
   "source": [
    "There are only 3K words in only dictionary that is connected with UKR (pol-ukr)"
   ]
  }
 ],
 "metadata": {
  "kernelspec": {
   "display_name": "Python 3",
   "language": "python",
   "name": "python3"
  },
  "language_info": {
   "codemirror_mode": {
    "name": "ipython",
    "version": 3
   },
   "file_extension": ".py",
   "mimetype": "text/x-python",
   "name": "python",
   "nbconvert_exporter": "python",
   "pygments_lexer": "ipython3",
   "version": "3.6.5"
  }
 },
 "nbformat": 4,
 "nbformat_minor": 2
}
