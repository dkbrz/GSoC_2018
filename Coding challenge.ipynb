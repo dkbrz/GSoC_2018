{
 "cells": [
  {
   "cell_type": "markdown",
   "metadata": {},
   "source": [
    "# GSoC Coding challenge"
   ]
  },
  {
   "cell_type": "markdown",
   "metadata": {},
   "source": [
    "### [Bilingual dictionary enrichment via graph completion](http://wiki.apertium.org/wiki/Ideas_for_Google_Summer_of_Code/Bilingual_dictionary_enrichment_via_graph_completion) \n",
    "### [Proposal](http://wiki.apertium.org/wiki/User:GD/proposal)"
   ]
  },
  {
   "cell_type": "markdown",
   "metadata": {},
   "source": [
    "1. Choose attributes: lemma, language, POS\n",
    "2. Choose id\n",
    "3. Create graph\n",
    "4. Find similarities \\ dissimilarities\n",
    "5. Accuracy"
   ]
  },
  {
   "cell_type": "markdown",
   "metadata": {},
   "source": [
    "## TO DO\n",
    "\n",
    "1. Code automatic extraction (from file names)\n",
    "2. LR - RL differentiation\n",
    "3. "
   ]
  },
  {
   "cell_type": "markdown",
   "metadata": {},
   "source": [
    "For toy-task it is possible to use Networkx (as it is available on Windows), but for general project it is more wisely to use powerful Graph-tool."
   ]
  },
  {
   "cell_type": "code",
   "execution_count": 7,
   "metadata": {
    "collapsed": false
   },
   "outputs": [],
   "source": [
    "import networkx as nx"
   ]
  },
  {
   "cell_type": "code",
   "execution_count": 8,
   "metadata": {
    "collapsed": true
   },
   "outputs": [],
   "source": [
    "import matplotlib.pyplot as plt"
   ]
  },
  {
   "cell_type": "code",
   "execution_count": 9,
   "metadata": {
    "collapsed": true
   },
   "outputs": [],
   "source": [
    "import warnings\n",
    "warnings.filterwarnings(\"ignore\")"
   ]
  },
  {
   "cell_type": "markdown",
   "metadata": {},
   "source": [
    "Let's take 4 strongly connected languages: Spanish, Catalan, French, English. I know French and English as foreign languages and Catalan an Spanish have their own pair so it will be easy to check results."
   ]
  },
  {
   "cell_type": "markdown",
   "metadata": {},
   "source": [
    "1. Spanish - Catalan\n",
    "https://raw.githubusercontent.com/apertium/apertium-spa-cat/e871fb935e5f2d70572b8253431dde148f81f935/apertium-spa-cat.spa-cat.dix\n",
    "2. French - Catalan\n",
    "https://raw.githubusercontent.com/apertium/apertium-fra-cat/e388359e3c5e0753507098b1195079350523cae8/apertium-fra-cat.fra-cat.dix\n",
    "3. English - Catalan\n",
    "https://raw.githubusercontent.com/apertium/apertium-eng-cat/1d7c0dc28a57d5b57c5eb650f4e5b752b2140345/apertium-eng-cat.eng-cat.dix\n",
    "4. English - Spanish\n",
    "https://raw.githubusercontent.com/apertium/apertium-en-es/d0a72e428a23081aaf479d00f30d63053a149cce/apertium-en-es.en-es.dix\n",
    "5. French - Spanish\n",
    "https://raw.githubusercontent.com/apertium/apertium-fr-es/7901047303da621a1695b4a0df9a30e3c8418404/apertium-fr-es.fr-es.dix"
   ]
  },
  {
   "cell_type": "code",
   "execution_count": 24,
   "metadata": {
    "collapsed": true
   },
   "outputs": [],
   "source": [
    "LANG = nx.Graph()"
   ]
  },
  {
   "cell_type": "code",
   "execution_count": 26,
   "metadata": {
    "collapsed": false
   },
   "outputs": [],
   "source": [
    "elist = [('ES', 'CA'), ('FR', 'CA'), ('EN', 'CA'), ('FR', 'ES'), ('EN','ES')]"
   ]
  },
  {
   "cell_type": "code",
   "execution_count": 27,
   "metadata": {
    "collapsed": true
   },
   "outputs": [],
   "source": [
    "LANG.add_edges_from(elist)"
   ]
  },
  {
   "cell_type": "code",
   "execution_count": 28,
   "metadata": {
    "collapsed": false
   },
   "outputs": [
    {
     "data": {
      "text/plain": [
       "['ES', 'CA', 'FR', 'EN']"
      ]
     },
     "execution_count": 28,
     "metadata": {},
     "output_type": "execute_result"
    }
   ],
   "source": [
    "LANG.nodes()"
   ]
  },
  {
   "cell_type": "code",
   "execution_count": 33,
   "metadata": {
    "collapsed": false
   },
   "outputs": [
    {
     "data": {
      "image/png": "[encoded data removed]",
      "text/plain": [
       "<matplotlib.figure.Figure at 0x29877104390>"
      ]
     },
     "metadata": {},
     "output_type": "display_data"
    }
   ],
   "source": [
    "plt.subplot(121)\n",
    "nx.draw_shell(LANG, with_labels = True, font_size = 20, node_color = 'white')\n",
    "plt.show()"
   ]
  },
  {
   "cell_type": "markdown",
   "metadata": {},
   "source": [
    "##  Data"
   ]
  },
  {
   "cell_type": "code",
   "execution_count": 10,
   "metadata": {
    "collapsed": true
   },
   "outputs": [],
   "source": [
    "import xml.etree.ElementTree as ET\n",
    "import requests"
   ]
  },
  {
   "cell_type": "markdown",
   "metadata": {},
   "source": [
    "Class Word for words that have lemma, lang and POS infromation"
   ]
  },
  {
   "cell_type": "code",
   "execution_count": 72,
   "metadata": {
    "collapsed": false
   },
   "outputs": [],
   "source": [
    "class Word:\n",
    "    def __init__(self, lemma, lang, pos):\n",
    "        self.lemma = lemma\n",
    "        self.lang = lang\n",
    "        self.pos = pos\n",
    "    \n",
    "    def __str__(self):\n",
    "        return (str(self.lang)+'_'+str(self.lemma)+'_'+str(self.pos))\n",
    "    \n",
    "    def __eq__(self, other):\n",
    "        return self.lemma == other.lemma and self.lang == other.lang and self.pos == other.pos\n",
    "    \n",
    "    def __hash__(self):\n",
    "        return hash(str(self))"
   ]
  },
  {
   "cell_type": "markdown",
   "metadata": {},
   "source": [
    "List of files to load (4 languages)"
   ]
  },
  {
   "cell_type": "code",
   "execution_count": 33,
   "metadata": {
    "collapsed": true
   },
   "outputs": [],
   "source": [
    "list_of_files = [(('FR','CA'), 'https://raw.githubusercontent.com/apertium/apertium-fra-cat/e388359e3c5e0753507098b1195079350523cae8/apertium-fra-cat.fra-cat.dix'),\n",
    "                (('EN','CA'), 'https://raw.githubusercontent.com/apertium/apertium-eng-cat/1d7c0dc28a57d5b57c5eb650f4e5b752b2140345/apertium-eng-cat.eng-cat.dix'),\n",
    "                (('FR','ES'), 'https://raw.githubusercontent.com/apertium/apertium-fr-es/7901047303da621a1695b4a0df9a30e3c8418404/apertium-fr-es.fr-es.dix'),\n",
    "                (('EN','ES'), 'https://raw.githubusercontent.com/apertium/apertium-en-es/d0a72e428a23081aaf479d00f30d63053a149cce/apertium-en-es.en-es.dix')\n",
    "                ]"
   ]
  },
  {
   "cell_type": "markdown",
   "metadata": {},
   "source": [
    "Set empty dictionary:"
   ]
  },
  {
   "cell_type": "code",
   "execution_count": 53,
   "metadata": {
    "collapsed": true
   },
   "outputs": [],
   "source": [
    "def set_dicts(list_of_files):\n",
    "    total_dict = {}\n",
    "    for i in list_of_files:\n",
    "        if i[0][0] not in total_dict:\n",
    "            total_dict[i[0][0]] = set()\n",
    "        if i[0][1] not in total_dict:\n",
    "            total_dict[i[0][1]] = set()\n",
    "    return total_dict"
   ]
  },
  {
   "cell_type": "code",
   "execution_count": 97,
   "metadata": {
    "collapsed": true
   },
   "outputs": [],
   "source": [
    "total_dict = set_dicts(list_of_files)"
   ]
  },
  {
   "cell_type": "code",
   "execution_count": 55,
   "metadata": {
    "collapsed": false
   },
   "outputs": [
    {
     "data": {
      "text/plain": [
       "{'CA': set(), 'EN': set(), 'ES': set(), 'FR': set()}"
      ]
     },
     "execution_count": 55,
     "metadata": {},
     "output_type": "execute_result"
    }
   ],
   "source": [
    "total_dict"
   ]
  },
  {
   "cell_type": "markdown",
   "metadata": {},
   "source": [
    "### Parse dictionary\n",
    "\n",
    "The simpliest version (take left and right word in bidix)"
   ]
  },
  {
   "cell_type": "code",
   "execution_count": 98,
   "metadata": {
    "collapsed": false
   },
   "outputs": [],
   "source": [
    "def parse_dictionary(tree, l1, l2):\n",
    "    global total_dict, G\n",
    "    for i in tree.find('section').findall('e'):\n",
    "        try:\n",
    "            w1 = i.find('p').find('l')\n",
    "            w2 = i.find('p').find('r')\n",
    "            if w1.text != None and w2.text != None:\n",
    "                w1 = Word(w1.text, l1, w1.find('s').attrib['n'])\n",
    "                if w1 not in total_dict[l1]:\n",
    "                    total_dict[l1].add(w1)\n",
    "                    G.add_node(w1)\n",
    "                w2 = Word(w2.text, l2, w2.find('s').attrib['n'])\n",
    "                if w2 not in total_dict[l2]:\n",
    "                    total_dict[l2].add(w2)\n",
    "                    G.add_node(w2)\n",
    "                G.add_edge(w1,w2)\n",
    "        except:\n",
    "            pass"
   ]
  },
  {
   "cell_type": "markdown",
   "metadata": {},
   "source": [
    "General function that loads data by the information in list_of_files"
   ]
  },
  {
   "cell_type": "code",
   "execution_count": 99,
   "metadata": {
    "collapsed": true
   },
   "outputs": [],
   "source": [
    "def load_dict (list_of_files):\n",
    "    for pair in list_of_files:\n",
    "        link = pair[1]\n",
    "        l1 = pair[0][0]\n",
    "        l2 = pair[0][1]\n",
    "        response = requests.get(link)\n",
    "        parse_dictionary(ET.fromstring(response.content), l1, l2)"
   ]
  },
  {
   "cell_type": "markdown",
   "metadata": {},
   "source": [
    "Create an empty graph"
   ]
  },
  {
   "cell_type": "code",
   "execution_count": 100,
   "metadata": {
    "collapsed": true
   },
   "outputs": [],
   "source": [
    "G = nx.Graph()"
   ]
  },
  {
   "cell_type": "markdown",
   "metadata": {},
   "source": [
    "Run loading function"
   ]
  },
  {
   "cell_type": "code",
   "execution_count": 101,
   "metadata": {
    "collapsed": false
   },
   "outputs": [],
   "source": [
    "load_dict (list_of_files)"
   ]
  },
  {
   "cell_type": "code",
   "execution_count": 102,
   "metadata": {
    "collapsed": false
   },
   "outputs": [
    {
     "data": {
      "text/plain": [
       "162223"
      ]
     },
     "execution_count": 102,
     "metadata": {},
     "output_type": "execute_result"
    }
   ],
   "source": [
    "len(G.nodes())"
   ]
  },
  {
   "cell_type": "code",
   "execution_count": 103,
   "metadata": {
    "collapsed": false
   },
   "outputs": [
    {
     "data": {
      "text/plain": [
       "131437"
      ]
     },
     "execution_count": 103,
     "metadata": {},
     "output_type": "execute_result"
    }
   ],
   "source": [
    "len(G.edges())"
   ]
  },
  {
   "cell_type": "code",
   "execution_count": null,
   "metadata": {
    "collapsed": true
   },
   "outputs": [],
   "source": []
  },
  {
   "cell_type": "code",
   "execution_count": 104,
   "metadata": {
    "collapsed": false
   },
   "outputs": [
    {
     "data": {
      "text/plain": [
       "True"
      ]
     },
     "execution_count": 104,
     "metadata": {},
     "output_type": "execute_result"
    }
   ],
   "source": [
    "Word('lemma', 'FR','n') == Word('lemma','FR','n')"
   ]
  },
  {
   "cell_type": "code",
   "execution_count": 106,
   "metadata": {
    "collapsed": false
   },
   "outputs": [
    {
     "name": "stdout",
     "output_type": "stream",
     "text": [
      "ES_primer_adj\n",
      "ES_más_adj\n",
      "EN_foremost_adj\n",
      "ES_primo_adj\n",
      "CA_primer_adj\n",
      "FR_premier_adj\n",
      "EN_prime_adj\n",
      "ES_primero_adj\n"
     ]
    }
   ],
   "source": [
    "for i in nx.descendants(G, Word('first', 'EN','adj')):\n",
    "    print (i)"
   ]
  },
  {
   "cell_type": "code",
   "execution_count": 107,
   "metadata": {
    "collapsed": true
   },
   "outputs": [],
   "source": [
    "import numpy as np"
   ]
  },
  {
   "cell_type": "code",
   "execution_count": 108,
   "metadata": {
    "collapsed": true
   },
   "outputs": [],
   "source": [
    "def filter_lang(x, target_lang):\n",
    "    if x.lang == target_lang:\n",
    "        return x"
   ]
  },
  {
   "cell_type": "code",
   "execution_count": 109,
   "metadata": {
    "collapsed": true
   },
   "outputs": [],
   "source": [
    "filter_lang = np.vectorize(filter_lang)"
   ]
  },
  {
   "cell_type": "code",
   "execution_count": 181,
   "metadata": {
    "collapsed": false
   },
   "outputs": [
    {
     "data": {
      "text/plain": [
       "array([None, None, None, None,\n",
       "       <__main__.Word object at 0x000001FDB4CD5CC0>, None, None, None],\n",
       "      dtype=object)"
      ]
     },
     "execution_count": 181,
     "metadata": {},
     "output_type": "execute_result"
    }
   ],
   "source": [
    "filter_lang(list(nx.descendants(G, Word('first', 'EN','adj'))), 'CA')"
   ]
  },
  {
   "cell_type": "code",
   "execution_count": 191,
   "metadata": {
    "collapsed": false
   },
   "outputs": [],
   "source": [
    "def get_answers(word, target_lang):\n",
    "    all_w = filter_lang(list(nx.descendants(G, Word('first', 'EN','adj'))), target_lang)\n",
    "    all_w = filter(None, all_w.tolist())\n",
    "    return (list(all_w))\n",
    "    #print (all_w)"
   ]
  },
  {
   "cell_type": "code",
   "execution_count": 192,
   "metadata": {
    "collapsed": false
   },
   "outputs": [
    {
     "data": {
      "text/plain": [
       "[<__main__.Word at 0x1fdb4cd5cc0>]"
      ]
     },
     "execution_count": 192,
     "metadata": {},
     "output_type": "execute_result"
    }
   ],
   "source": [
    "get_answers(Word('first', 'EN','adj'), 'CA')"
   ]
  },
  {
   "cell_type": "code",
   "execution_count": 193,
   "metadata": {
    "collapsed": false
   },
   "outputs": [
    {
     "name": "stdout",
     "output_type": "stream",
     "text": [
      "[<__main__.Word object at 0x000001FDB4CD5CC0>]\n"
     ]
    }
   ],
   "source": [
    "get_answers(Word('first', 'EN','adj'), 'CA')"
   ]
  },
  {
   "cell_type": "code",
   "execution_count": 194,
   "metadata": {
    "collapsed": false
   },
   "outputs": [
    {
     "name": "stdout",
     "output_type": "stream",
     "text": [
      "CA_primer_adj\n"
     ]
    }
   ],
   "source": [
    "for i in get_answers(Word('first', 'EN','adj'), 'CA'):\n",
    "    print (i)"
   ]
  }
 ],
 "metadata": {
  "kernelspec": {
   "display_name": "Python 3",
   "language": "python",
   "name": "python3"
  },
  "language_info": {
   "codemirror_mode": {
    "name": "ipython",
    "version": 3
   },
   "file_extension": ".py",
   "mimetype": "text/x-python",
   "name": "python",
   "nbconvert_exporter": "python",
   "pygments_lexer": "ipython3",
   "version": "3.6.0"
  }
 },
 "nbformat": 4,
 "nbformat_minor": 2
}
