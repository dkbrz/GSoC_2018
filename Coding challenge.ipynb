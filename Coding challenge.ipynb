{
 "cells": [
  {
   "cell_type": "markdown",
   "metadata": {},
   "source": [
    "# GSoC Coding challenge"
   ]
  },
  {
   "cell_type": "markdown",
   "metadata": {},
   "source": [
    "### [Bilingual dictionary enrichment via graph completion](http://wiki.apertium.org/wiki/Ideas_for_Google_Summer_of_Code/Bilingual_dictionary_enrichment_via_graph_completion) \n",
    "### [Proposal](http://wiki.apertium.org/wiki/User:GD/proposal)"
   ]
  },
  {
   "cell_type": "code",
   "execution_count": 3,
   "metadata": {
    "collapsed": false
   },
   "outputs": [],
   "source": [
    "import networkx as nx"
   ]
  },
  {
   "cell_type": "code",
   "execution_count": 9,
   "metadata": {
    "collapsed": true
   },
   "outputs": [],
   "source": [
    "import matplotlib.pyplot as plt"
   ]
  },
  {
   "cell_type": "code",
   "execution_count": 22,
   "metadata": {
    "collapsed": true
   },
   "outputs": [],
   "source": [
    "import warnings\n",
    "warnings.filterwarnings(\"ignore\")"
   ]
  },
  {
   "cell_type": "markdown",
   "metadata": {},
   "source": [
    "Let's take 4 strongly connected languages: Spanish, Catalan, French, English. I know French and English as foreign languages and Catalan an Spanish have their own pair so it will be easy to check results."
   ]
  },
  {
   "cell_type": "markdown",
   "metadata": {},
   "source": [
    "1. Spanish - Catalan\n",
    "https://raw.githubusercontent.com/apertium/apertium-spa-cat/e871fb935e5f2d70572b8253431dde148f81f935/apertium-spa-cat.spa-cat.dix\n",
    "2. French - Catalan\n",
    "https://raw.githubusercontent.com/apertium/apertium-fra-cat/e388359e3c5e0753507098b1195079350523cae8/apertium-fra-cat.fra-cat.dix\n",
    "3. English - Catalan\n",
    "https://raw.githubusercontent.com/apertium/apertium-eng-cat/1d7c0dc28a57d5b57c5eb650f4e5b752b2140345/apertium-eng-cat.eng-cat.dix\n",
    "4. English - Spanish\n",
    "https://raw.githubusercontent.com/apertium/apertium-en-es/d0a72e428a23081aaf479d00f30d63053a149cce/apertium-en-es.en-es.dix\n",
    "5. French - Spanish\n",
    "https://raw.githubusercontent.com/apertium/apertium-fr-es/7901047303da621a1695b4a0df9a30e3c8418404/apertium-fr-es.fr-es.dix"
   ]
  },
  {
   "cell_type": "code",
   "execution_count": 24,
   "metadata": {
    "collapsed": true
   },
   "outputs": [],
   "source": [
    "LANG = nx.Graph()"
   ]
  },
  {
   "cell_type": "code",
   "execution_count": 26,
   "metadata": {
    "collapsed": false
   },
   "outputs": [],
   "source": [
    "elist = [('ES', 'CA'), ('FR', 'CA'), ('EN', 'CA'), ('FR', 'ES'), ('EN','ES')]"
   ]
  },
  {
   "cell_type": "code",
   "execution_count": 27,
   "metadata": {
    "collapsed": true
   },
   "outputs": [],
   "source": [
    "LANG.add_edges_from(elist)"
   ]
  },
  {
   "cell_type": "code",
   "execution_count": 28,
   "metadata": {
    "collapsed": false
   },
   "outputs": [
    {
     "data": {
      "text/plain": [
       "['ES', 'CA', 'FR', 'EN']"
      ]
     },
     "execution_count": 28,
     "metadata": {},
     "output_type": "execute_result"
    }
   ],
   "source": [
    "LANG.nodes()"
   ]
  },
  {
   "cell_type": "code",
   "execution_count": 33,
   "metadata": {
    "collapsed": false
   },
   "outputs": [
    {
     "data": {
      "image/png": "[encoded data removed]",
      "text/plain": [
       "<matplotlib.figure.Figure at 0x29877104390>"
      ]
     },
     "metadata": {},
     "output_type": "display_data"
    }
   ],
   "source": [
    "plt.subplot(121)\n",
    "nx.draw_shell(LANG, with_labels = True, font_size = 20, node_color = 'white')\n",
    "plt.show()"
   ]
  },
  {
   "cell_type": "code",
   "execution_count": 36,
   "metadata": {
    "collapsed": true
   },
   "outputs": [],
   "source": [
    "import xml.etree.ElementTree as ET\n",
    "import requests"
   ]
  },
  {
   "cell_type": "code",
   "execution_count": 39,
   "metadata": {
    "collapsed": false
   },
   "outputs": [],
   "source": [
    "response = requests.get('https://raw.githubusercontent.com/apertium/apertium-spa-cat/e871fb935e5f2d70572b8253431dde148f81f935/apertium-spa-cat.spa-cat.dix')\n",
    "tree = ET.fromstring(response.content)"
   ]
  },
  {
   "cell_type": "code",
   "execution_count": 55,
   "metadata": {
    "collapsed": false
   },
   "outputs": [],
   "source": [
    "all_elements = tree.find('section').findall('e')"
   ]
  },
  {
   "cell_type": "code",
   "execution_count": 67,
   "metadata": {
    "collapsed": true
   },
   "outputs": [],
   "source": [
    "a = 0"
   ]
  },
  {
   "cell_type": "code",
   "execution_count": 68,
   "metadata": {
    "collapsed": false
   },
   "outputs": [
    {
     "name": "stdout",
     "output_type": "stream",
     "text": [
      "36420\n"
     ]
    }
   ],
   "source": [
    "for i in tree.find('section').findall('e'):\n",
    "    try:\n",
    "        i.find('p').find('l').text\n",
    "        a += 1\n",
    "    except:\n",
    "        pass\n",
    "print (a)"
   ]
  },
  {
   "cell_type": "code",
   "execution_count": 82,
   "metadata": {
    "collapsed": false
   },
   "outputs": [],
   "source": [
    "G = nx.Graph()"
   ]
  },
  {
   "cell_type": "code",
   "execution_count": 83,
   "metadata": {
    "collapsed": false
   },
   "outputs": [],
   "source": [
    "G.add_nodes_from([1], lemma='LEMMA', language = 'EN', pos = 'N')"
   ]
  },
  {
   "cell_type": "code",
   "execution_count": 93,
   "metadata": {
    "collapsed": false
   },
   "outputs": [],
   "source": [
    "labels=dict((n,[d['lemma'],d['language']]) for n,d in G.nodes(data=True))"
   ]
  },
  {
   "cell_type": "code",
   "execution_count": 94,
   "metadata": {
    "collapsed": false
   },
   "outputs": [
    {
     "data": {
      "image/png": "[encoded data removed]",
      "text/plain": [
       "<matplotlib.figure.Figure at 0x2987e97f400>"
      ]
     },
     "metadata": {},
     "output_type": "display_data"
    }
   ],
   "source": [
    "plt.subplot(121)\n",
    "nx.draw_shell(G, with_labels = True, font_size = 20, node_color = 'lightblue',labels = labels)\n",
    "plt.show()"
   ]
  }
 ],
 "metadata": {
  "kernelspec": {
   "display_name": "Python 3",
   "language": "python",
   "name": "python3"
  },
  "language_info": {
   "codemirror_mode": {
    "name": "ipython",
    "version": 3
   },
   "file_extension": ".py",
   "mimetype": "text/x-python",
   "name": "python",
   "nbconvert_exporter": "python",
   "pygments_lexer": "ipython3",
   "version": "3.6.0"
  }
 },
 "nbformat": 4,
 "nbformat_minor": 2
}
