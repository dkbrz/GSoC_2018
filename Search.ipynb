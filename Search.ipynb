{
 "cells": [
  {
   "cell_type": "code",
   "execution_count": 1,
   "metadata": {},
   "outputs": [],
   "source": [
    "from tool.functions import *\n",
    "from tool.evaluation import *\n",
    "#from tool.functions import *\n",
    "#import random\n",
    "#from tqdm import tqdm_notebook as tqdm\n",
    "#import numpy as np, scipy.stats as st\n",
    "#from itertools import islice"
   ]
  },
  {
   "cell_type": "code",
   "execution_count": 2,
   "metadata": {},
   "outputs": [
    {
     "data": {
      "text/plain": [
       "<function tool.evaluation.evaluation(G, word, candidates, mode='exp', cutoff=4)>"
      ]
     },
     "execution_count": 2,
     "metadata": {},
     "output_type": "execute_result"
    }
   ],
   "source": [
    "evaluation"
   ]
  },
  {
   "cell_type": "code",
   "execution_count": 2,
   "metadata": {},
   "outputs": [
    {
     "name": "stdout",
     "output_type": "stream",
     "text": [
      "Wall time: 996 ms\n",
      "Wall time: 1.04 s\n",
      "Wall time: 724 ms\n",
      "Wall time: 1min 3s\n",
      "Wall time: 6.03 s\n"
     ]
    }
   ],
   "source": [
    "lang1, lang2, n = 'spa','eng', 10\n",
    "%time get_relevant_languages(lang1, lang2)\n",
    "%time load_file(lang1, lang2, n=n)\n",
    "%time change_encoding('{}-{}'.format(lang1,lang2))\n",
    "%time G = built_from_file('{}-{}'.format(lang1,lang2))\n",
    "%time l1, l2 = dictionaries(lang1, lang2)"
   ]
  },
  {
   "cell_type": "code",
   "execution_count": 3,
   "metadata": {},
   "outputs": [],
   "source": [
    "def evaluation(G, word, candidates, mode='exp', cutoff=4):\n",
    "    result = {}\n",
    "    for translation in candidates:\n",
    "        result[translation] = metric(G, word, translation, cutoff=cutoff, mode=mode)\n",
    "    return result\n",
    "\n",
    "def lemma_search (G, lemma, d_l1, l2, cutoff, n, metric='exp'):\n",
    "    lemmas = [i for i in d_l1.lemma(lemma) if i in G.nodes()]\n",
    "    results = {word:{} for word in lemmas}\n",
    "    for word in lemmas:\n",
    "        candidates = possible_translations(G, word, l2, cutoff=cutoff, n=n)\n",
    "        results[word] = evaluation(G, word, candidates, mode = metric, cutoff=cutoff)\n",
    "        del candidates\n",
    "    return results\n",
    "\n",
    "def metric(G, word, translation, cutoff, mode='exp'):\n",
    "    coef = 0\n",
    "    if mode in ('exp', 'len'):\n",
    "        t = Counter([len(i) for i in nx.all_simple_paths(G, word, translation, cutoff=cutoff)])\n",
    "        if mode == 'exp': \n",
    "            for i in t: \n",
    "                #coef += exp(-t[i])\n",
    "                coef += exp(-i)*t[i]\n",
    "            return coef\n",
    "        if mode == 'len':\n",
    "            for i in t: \n",
    "                coef += t[i]*i\n",
    "            return coef\n",
    "    if mode in ('log'):\n",
    "        for path in nx.all_simple_paths(G, word, translation, cutoff=cutoff):\n",
    "            for key, value in enumerate(path[1:]):\n",
    "                coef -= G[path[key-1]][value]['weight']"
   ]
  },
  {
   "cell_type": "code",
   "execution_count": 25,
   "metadata": {},
   "outputs": [
    {
     "name": "stdout",
     "output_type": "stream",
     "text": [
      "\t\t eng$star$[n_n-ND]\n",
      "spa$estrella$[n-f_n_n-f-sg]\t3.487083686952825\n",
      "spa$astro$[n_n-m]\t0.3445470134576176\n",
      "spa$lucero$[n-m_n]\t0.2963380437905006\n",
      "spa$estelo$[n-m]\t0.2712844579026809\n",
      "spa$sentido$[n-m_n_n-m-ND]\t0.15791432376100678\n",
      "\n",
      "\t\t eng$star$[adj]\n",
      "spa$estelar$[adj_adj-mf]\t0.14032192213801603\n",
      "spa$estupendo$[adj-GD_adj-GD-ND]\t0.006737946999085467\n",
      "spa$magnífico$[adj_adj-GD-ND_adj-GD]\t0.006737946999085467\n",
      "\n",
      "\t\t eng$star$[vblex]\n",
      "spa$protagonizar$[vblex]\t0.5861943804290437\n",
      "spa$jugar$[vblex_vblex-vbact]\t0.49363670887250133\n",
      "spa$tocar$[vblex]\t0.11938484387501619\n",
      "spa$presentar$[vblex]\t0.11074869476740849\n",
      "spa$constar$[vblex]\t0.09727280076923756\n",
      "\n",
      "Wall time: 746 ms\n"
     ]
    }
   ],
   "source": [
    "%time print_lemma_results(lemma_search (G, 'star', l2, 'spa', 4, 40, metric='exp'), n = 5)"
   ]
  },
  {
   "cell_type": "code",
   "execution_count": 24,
   "metadata": {},
   "outputs": [
    {
     "name": "stdout",
     "output_type": "stream",
     "text": [
      "\t\t eng$star$[n_n-ND]\n",
      "spa$estrella$[n-f_n_n-f-sg]\t1637\n",
      "spa$astro$[n_n-m]\t145\n",
      "spa$lucero$[n-m_n]\t138\n",
      "spa$estelo$[n-m]\t129\n",
      "spa$sentido$[n-m_n_n-m-ND]\t98\n",
      "\n",
      "\t\t eng$star$[adj]\n",
      "spa$estelar$[adj_adj-mf]\t51\n",
      "spa$estupendo$[adj-GD_adj-GD-ND]\t5\n",
      "spa$magnífico$[adj_adj-GD-ND_adj-GD]\t5\n",
      "\n",
      "\t\t eng$star$[vblex]\n",
      "spa$jugar$[vblex_vblex-vbact]\t294\n",
      "spa$protagonizar$[vblex]\t158\n",
      "spa$tocar$[vblex]\t79\n",
      "spa$presentar$[vblex]\t63\n",
      "spa$actuar$[vblex]\t60\n",
      "\n",
      "Wall time: 776 ms\n"
     ]
    }
   ],
   "source": [
    "%time print_lemma_results(lemma_search (G, 'star', l2, 'spa', 4, 40, metric='len'), n = 5)"
   ]
  },
  {
   "cell_type": "code",
   "execution_count": 41,
   "metadata": {},
   "outputs": [
    {
     "name": "stdout",
     "output_type": "stream",
     "text": [
      "\t\t eng$include$[n]\n",
      "spa$inclusión$[n_n-f_n-f-sg]\t0.09505449525293999\n",
      "\n",
      "\t\t eng$include$[vblex-ger]\n",
      "spa$implicación$[n-f_n_n-f-ND]\t0.06548126788233244\n",
      "spa$participación$[n-f_n_n-f-ND]\t0.006737946999085467\n",
      "spa$inclusión$[n_n-f_n-f-sg]\t0.006737946999085467\n",
      "\n",
      "\t\t eng$include$[vblex_vblex-pprs]\n",
      "spa$comprender$[vblex]\t1.0936909502681387\n",
      "spa$incluir$[vblex]\t1.0675870152154083\n",
      "spa$coger$[vblex]\t0.5389041357575773\n",
      "spa$tomar$[vblex_vblex-inf]\t0.24550763474911783\n",
      "spa$añadir$[vblex]\t0.1916040587564341\n",
      "spa$llevar$[vblex]\t0.18676431386587083\n",
      "spa$dar$[vblex]\t0.16949201565065547\n",
      "spa$hacer$[vblex_vblex-inf]\t0.14633663187135804\n",
      "spa$agregar$[vblex]\t0.1354821772474528\n",
      "spa$participar$[vblex]\t0.11938484387501619\n",
      "\n",
      "Wall time: 1.44 s\n"
     ]
    }
   ],
   "source": [
    "%time print_lemma_results(lemma_search (G, 'include', l2, 'spa', 4, 40, metric='exp'), n = 10)"
   ]
  },
  {
   "cell_type": "code",
   "execution_count": 43,
   "metadata": {},
   "outputs": [
    {
     "name": "stdout",
     "output_type": "stream",
     "text": [
      "\t\t eng$convergence$[n_n-ND]\n",
      "spa$convergencia$[n_n-f_n-f-ND]\t0.663656474058993\n",
      "spa$acuerdo$[n-m_n_n-m-sg]\t0.0202138409972564\n",
      "spa$confluencia$[n_n-f]\t0.0202138409972564\n",
      "spa$unión$[n_n-f_n-f-ND]\t0.0202138409972564\n",
      "spa$concordia$[n_n-f]\t0.013475893998170934\n",
      "spa$asociación$[n-f_n_n-f-sg]\t0.013475893998170934\n",
      "spa$armonía$[n-f_n_n-f-ND]\t0.006737946999085467\n",
      "spa$complicidad$[n_n-f_n-f-ND]\t0.006737946999085467\n",
      "spa$compromiso$[n-m_n_n-m-ND]\t0.006737946999085467\n",
      "spa$consenso$[n_n-m_n-m-sg]\t0.006737946999085467\n",
      "\n",
      "Wall time: 260 ms\n"
     ]
    }
   ],
   "source": [
    "%time print_lemma_results(lemma_search (G, 'convergence', l2, 'spa', 4, 40, metric='exp'), n = 10)"
   ]
  },
  {
   "cell_type": "code",
   "execution_count": 3,
   "metadata": {},
   "outputs": [],
   "source": [
    "import random\n",
    "def get_evaluation_pairs(G, dictionary, target, n=500):\n",
    "    k = 4\n",
    "    pairs = []\n",
    "    while len(pairs) < n:\n",
    "        candidates = random.sample(dictionary, k*n)\n",
    "        pairs = []\n",
    "        for i in candidates:\n",
    "            if i in G.nodes():\n",
    "                s = FilteredList(list(G.neighbors(i))).lang(target)\n",
    "                if len(s) == 1: pairs.append((i, s[0], n))\n",
    "        print (k*n, len(pairs))\n",
    "        k+=1\n",
    "    return pairs[:n]"
   ]
  },
  {
   "cell_type": "code",
   "execution_count": 4,
   "metadata": {},
   "outputs": [],
   "source": [
    "import random\n",
    "def get_evaluation_pairs2(G, dictionary, target, n=500):\n",
    "    k = 4\n",
    "    pairs = []\n",
    "    while len(pairs) < n:\n",
    "        candidates = random.sample(dictionary, k*n)\n",
    "        pairs = []\n",
    "        for i in candidates:\n",
    "            if i in G.nodes():\n",
    "                ne = list(G.neighbors(i))\n",
    "                s = FilteredList(ne).lang(target)\n",
    "                if len(s) == 1 and len(ne) > 1: pairs.append((i, s[0], n))\n",
    "        print (k*n, len(pairs))\n",
    "        k+=1\n",
    "    return pairs[:n]"
   ]
  },
  {
   "cell_type": "markdown",
   "metadata": {},
   "source": [
    "with alternative ways"
   ]
  },
  {
   "cell_type": "code",
   "execution_count": 6,
   "metadata": {},
   "outputs": [
    {
     "name": "stdout",
     "output_type": "stream",
     "text": [
      "4000 613\n",
      "5000 760\n",
      "6000 907\n",
      "7000 1024\n",
      "Wall time: 503 ms\n"
     ]
    }
   ],
   "source": [
    "%time s = get_evaluation_pairs2(G, l1, 'eng', n=1000)"
   ]
  },
  {
   "cell_type": "code",
   "execution_count": 7,
   "metadata": {},
   "outputs": [
    {
     "name": "stdout",
     "output_type": "stream",
     "text": [
      "Wall time: 1min 20s\n"
     ]
    },
    {
     "data": {
      "text/plain": [
       "66.69916143217807"
      ]
     },
     "execution_count": 7,
     "metadata": {},
     "output_type": "execute_result"
    }
   ],
   "source": [
    "%time result = evaluate(G, s, 'spa', 'eng', 4)\n",
    "sum(result)/10"
   ]
  },
  {
   "cell_type": "code",
   "execution_count": 5,
   "metadata": {},
   "outputs": [],
   "source": [
    "import matplotlib.pyplot as plt"
   ]
  },
  {
   "cell_type": "code",
   "execution_count": 9,
   "metadata": {},
   "outputs": [
    {
     "data": {
      "image/png": "[encoded data removed]",
      "text/plain": [
       "<Figure size 432x288 with 1 Axes>"
      ]
     },
     "metadata": {},
     "output_type": "display_data"
    }
   ],
   "source": [
    "bins = 20\n",
    "plt.hist(result, bins=bins)\n",
    "arr=plt.hist(result,bins=bins)\n",
    "for i in range(bins):\n",
    "    plt.text(arr[1][i],arr[0][i],str(arr[0][i]))\n",
    "plt.show()"
   ]
  },
  {
   "cell_type": "markdown",
   "metadata": {},
   "source": [
    "all"
   ]
  },
  {
   "cell_type": "code",
   "execution_count": 10,
   "metadata": {},
   "outputs": [
    {
     "name": "stdout",
     "output_type": "stream",
     "text": [
      "4000 786\n",
      "5000 999\n",
      "6000 1139\n",
      "Wall time: 399 ms\n"
     ]
    }
   ],
   "source": [
    "%time s = get_evaluation_pairs(G, l1, 'eng', n=1000)"
   ]
  },
  {
   "cell_type": "code",
   "execution_count": 11,
   "metadata": {},
   "outputs": [
    {
     "name": "stdout",
     "output_type": "stream",
     "text": [
      "Wall time: 1min 35s\n"
     ]
    },
    {
     "data": {
      "text/plain": [
       "46.99383776955759"
      ]
     },
     "execution_count": 11,
     "metadata": {},
     "output_type": "execute_result"
    }
   ],
   "source": [
    "%time result = evaluate(G, s, 'spa', 'eng', 4)\n",
    "sum(result)/10"
   ]
  },
  {
   "cell_type": "code",
   "execution_count": 12,
   "metadata": {},
   "outputs": [
    {
     "data": {
      "image/png": "[encoded data removed]",
      "text/plain": [
       "<Figure size 432x288 with 1 Axes>"
      ]
     },
     "metadata": {},
     "output_type": "display_data"
    }
   ],
   "source": [
    "bins = 20\n",
    "plt.hist(result, bins=bins)\n",
    "arr=plt.hist(result,bins=bins)\n",
    "for i in range(bins):\n",
    "    plt.text(arr[1][i],arr[0][i],str(arr[0][i]))\n",
    "plt.show()"
   ]
  },
  {
   "cell_type": "markdown",
   "metadata": {},
   "source": [
    "# RUS - BEL"
   ]
  },
  {
   "cell_type": "markdown",
   "metadata": {},
   "source": [
    "There is only one way through EPO (3k dictionary), so there are almost no chances to translate."
   ]
  },
  {
   "cell_type": "code",
   "execution_count": 20,
   "metadata": {},
   "outputs": [
    {
     "name": "stdout",
     "output_type": "stream",
     "text": [
      "Wall time: 1.19 s\n",
      "Wall time: 459 ms\n",
      "Wall time: 709 ms\n",
      "Wall time: 51.1 s\n",
      "Wall time: 1.57 s\n"
     ]
    }
   ],
   "source": [
    "lang1, lang2, n = 'rus','bel', 10\n",
    "%time get_relevant_languages(lang1, lang2)\n",
    "%time load_file(lang1, lang2, n=n)\n",
    "%time change_encoding('{}-{}'.format(lang1,lang2))\n",
    "%time G = built_from_file('{}-{}'.format(lang1,lang2))\n",
    "%time l1, l2 = dictionaries(lang1, lang2)"
   ]
  },
  {
   "cell_type": "code",
   "execution_count": 22,
   "metadata": {},
   "outputs": [
    {
     "name": "stdout",
     "output_type": "stream",
     "text": [
      "4000 899\n",
      "5000 1150\n",
      "Wall time: 190 ms\n",
      "Wall time: 14.4 s\n"
     ]
    },
    {
     "data": {
      "text/plain": [
       "1.9998641350479587"
      ]
     },
     "execution_count": 22,
     "metadata": {},
     "output_type": "execute_result"
    }
   ],
   "source": [
    "%time s = get_evaluation_pairs2(G, l1, lang2, n=1000)\n",
    "%time result = evaluate(G, s, lang1, lang2, 4)\n",
    "sum(result)/10"
   ]
  },
  {
   "cell_type": "code",
   "execution_count": 28,
   "metadata": {},
   "outputs": [
    {
     "data": {
      "image/png": "[encoded data removed]",
      "text/plain": [
       "<Figure size 432x288 with 1 Axes>"
      ]
     },
     "metadata": {},
     "output_type": "display_data"
    }
   ],
   "source": [
    "bins = 10\n",
    "plt.hist(result, bins=bins)\n",
    "arr=plt.hist(result,bins=bins)\n",
    "for i in range(bins):\n",
    "    plt.text(arr[1][i],arr[0][i],str(arr[0][i]))\n",
    "plt.show()"
   ]
  },
  {
   "cell_type": "code",
   "execution_count": 29,
   "metadata": {},
   "outputs": [
    {
     "name": "stdout",
     "output_type": "stream",
     "text": [
      "4000 2096\n",
      "Wall time: 103 ms\n",
      "Wall time: 7.48 s\n",
      "0.6375126262626261\n"
     ]
    }
   ],
   "source": [
    "%time s = get_evaluation_pairs(G, l1, lang2, n=1000)\n",
    "%time result = evaluate(G, s, lang1, lang2, 4)\n",
    "print(sum(result)/10)"
   ]
  },
  {
   "cell_type": "code",
   "execution_count": 31,
   "metadata": {},
   "outputs": [
    {
     "data": {
      "image/png": "[encoded data removed]",
      "text/plain": [
       "<Figure size 432x288 with 1 Axes>"
      ]
     },
     "metadata": {},
     "output_type": "display_data"
    }
   ],
   "source": [
    "bins = 10\n",
    "plt.hist(result, bins=bins)\n",
    "arr=plt.hist(result,bins=bins)\n",
    "for i in range(bins):\n",
    "    plt.text(arr[1][i],arr[0][i],str(arr[0][i]))\n",
    "plt.show()"
   ]
  },
  {
   "cell_type": "markdown",
   "metadata": {},
   "source": [
    "# TAT-TUR"
   ]
  },
  {
   "cell_type": "code",
   "execution_count": 38,
   "metadata": {},
   "outputs": [
    {
     "name": "stdout",
     "output_type": "stream",
     "text": [
      "Wall time: 1.23 s\n",
      "Wall time: 822 ms\n",
      "Wall time: 411 ms\n",
      "Wall time: 2min 39s\n",
      "Wall time: 1.82 s\n"
     ]
    }
   ],
   "source": [
    "lang1, lang2, n = 'tat','tur', 10\n",
    "%time get_relevant_languages(lang1, lang2)\n",
    "%time load_file(lang1, lang2, n=n)\n",
    "%time change_encoding('{}-{}'.format(lang1,lang2))\n",
    "%time G = built_from_file('{}-{}'.format(lang1,lang2))\n",
    "%time l1, l2 = dictionaries(lang1, lang2)"
   ]
  },
  {
   "cell_type": "code",
   "execution_count": null,
   "metadata": {},
   "outputs": [],
   "source": [
    "%time s = get_evaluation_pairs2(G, l1, lang2, n=1000)\n",
    "%time result = evaluate(G, s, lang1, lang2, 4)\n",
    "sum(result)/10 #43.119560516452935"
   ]
  },
  {
   "cell_type": "code",
   "execution_count": 40,
   "metadata": {},
   "outputs": [
    {
     "data": {
      "image/png": "[encoded data removed]",
      "text/plain": [
       "<Figure size 432x288 with 1 Axes>"
      ]
     },
     "metadata": {},
     "output_type": "display_data"
    }
   ],
   "source": [
    "bins = 10\n",
    "plt.hist(result, bins=bins)\n",
    "arr=plt.hist(result,bins=bins)\n",
    "for i in range(bins):\n",
    "    plt.text(arr[1][i],arr[0][i],str(arr[0][i]))\n",
    "plt.show()"
   ]
  },
  {
   "cell_type": "code",
   "execution_count": null,
   "metadata": {},
   "outputs": [],
   "source": [
    "%time s = get_evaluation_pairs(G, l1, lang2, n=1000)\n",
    "%time result = evaluate(G, s, lang1, lang2, 4)\n",
    "print(sum(result)/10)"
   ]
  },
  {
   "cell_type": "code",
   "execution_count": 42,
   "metadata": {},
   "outputs": [
    {
     "data": {
      "image/png": "[encoded data removed]",
      "text/plain": [
       "<Figure size 432x288 with 1 Axes>"
      ]
     },
     "metadata": {},
     "output_type": "display_data"
    }
   ],
   "source": [
    "# 31.9586443643216\n",
    "bins = 10\n",
    "plt.hist(result, bins=bins)\n",
    "arr=plt.hist(result,bins=bins)\n",
    "for i in range(bins):\n",
    "    plt.text(arr[1][i],arr[0][i],str(arr[0][i]))\n",
    "plt.show()"
   ]
  },
  {
   "cell_type": "markdown",
   "metadata": {},
   "source": [
    "# Weighted graph"
   ]
  },
  {
   "cell_type": "markdown",
   "metadata": {},
   "source": [
    "Get weights from stats"
   ]
  },
  {
   "cell_type": "code",
   "execution_count": 3,
   "metadata": {},
   "outputs": [],
   "source": [
    "from math import log10\n",
    "def make_weights_file():\n",
    "    weights = {}\n",
    "    with open ('./files/stats.csv', 'r', encoding='utf-8') as inp:\n",
    "        for line in inp:\n",
    "            data = line.split('\\t')\n",
    "            coef = 1/log10(10+float(data[2])*float(data[3])*float(data[4]))\n",
    "            if coef < 1:\n",
    "                weights['-'.join(data[:2])] = coef\n",
    "    with open ('./tool/stats_dict.py', 'w', encoding='utf-8') as outp:\n",
    "        outp.write('weights = '+str(weights))"
   ]
  },
  {
   "cell_type": "code",
   "execution_count": 4,
   "metadata": {},
   "outputs": [],
   "source": [
    "make_weights_file()"
   ]
  },
  {
   "cell_type": "code",
   "execution_count": 2,
   "metadata": {},
   "outputs": [],
   "source": [
    "from tool.stats_dict import weights"
   ]
  },
  {
   "cell_type": "code",
   "execution_count": 3,
   "metadata": {},
   "outputs": [],
   "source": [
    "def built_from_file(file, weights):\n",
    "    G = nx.DiGraph()\n",
    "    #second = \n",
    "    for side, word1, word2 in nodes_from_file(file):\n",
    "        pair = '{}-{}'.format(word1.lang, word2.lang)\n",
    "        if pair in weights: w = weights[pair]\n",
    "        else: w = 1\n",
    "        if not side:\n",
    "            G.add_edge(word1, word2, weight=w)\n",
    "            G.add_edge(word2, word1, weight=w)\n",
    "        elif side == 'LR': G.add_edge(word1, word2, weight=w)\n",
    "        elif side == 'RL': G.add_edge(word2, word1, weight=w)\n",
    "        else: pass #print (side)\n",
    "    return G"
   ]
  },
  {
   "cell_type": "code",
   "execution_count": 4,
   "metadata": {},
   "outputs": [
    {
     "name": "stdout",
     "output_type": "stream",
     "text": [
      "Wall time: 2.07 s\n",
      "Wall time: 1.04 s\n",
      "Wall time: 1.42 s\n",
      "Wall time: 2min 27s\n",
      "Wall time: 15.7 s\n"
     ]
    }
   ],
   "source": [
    "lang1, lang2, n = 'eng','spa', 10\n",
    "%time get_relevant_languages(lang1, lang2)\n",
    "%time load_file(lang1, lang2, n=n)\n",
    "%time change_encoding('{}-{}'.format(lang1,lang2))\n",
    "%time G = built_from_file('{}-{}'.format(lang1,lang2), weights)\n",
    "%time l1, l2 = dictionaries(lang1, lang2)"
   ]
  },
  {
   "cell_type": "code",
   "execution_count": 26,
   "metadata": {},
   "outputs": [
    {
     "name": "stdout",
     "output_type": "stream",
     "text": [
      "4000 424\n",
      "5000 518\n",
      "6000 612\n",
      "7000 731\n",
      "8000 864\n",
      "9000 1023\n",
      "Wall time: 1.18 s\n"
     ]
    }
   ],
   "source": [
    "%time s = get_evaluation_pairs2(G, l1, lang2, n=1000)"
   ]
  },
  {
   "cell_type": "code",
   "execution_count": 27,
   "metadata": {},
   "outputs": [
    {
     "data": {
      "text/plain": [
       "(eng$belief$[n_n-ND], spa$creencia$[n_n-f_n-f-ND])"
      ]
     },
     "execution_count": 27,
     "metadata": {},
     "output_type": "execute_result"
    }
   ],
   "source": [
    "u, v = s[0][0], s[0][1]\n",
    "u,v"
   ]
  },
  {
   "cell_type": "code",
   "execution_count": 28,
   "metadata": {},
   "outputs": [
    {
     "data": {
      "text/plain": [
       "AtlasView({cym$cred$[n-f]: {'weight': 0.3290714507517296}, eng$belief$[n_n-ND]: {'weight': 0.3290714507517296}, epo$kredo$[n]: {'weight': 0.3290714507517296}, eus$fede$[n]: {'weight': 0.3290714507517296}, fra$croyance$[n-f_n_n-f-ND]: {'weight': 0.3290714507517296}, arg$creyencia$[n_n-f]: {'weight': 0.3290714507517296}, cat$creença$[n_n-f]: {'weight': 0.3290714507517296}, glg$crenza$[n_n-f]: {'weight': 0.3290714507517296}, ita$fede$[n-f_n]: {'weight': 0.3290714507517296}})"
      ]
     },
     "execution_count": 28,
     "metadata": {},
     "output_type": "execute_result"
    }
   ],
   "source": [
    "G[v]"
   ]
  },
  {
   "cell_type": "code",
   "execution_count": 29,
   "metadata": {},
   "outputs": [
    {
     "data": {
      "text/plain": [
       "0.3290714507517296"
      ]
     },
     "execution_count": 29,
     "metadata": {},
     "output_type": "execute_result"
    }
   ],
   "source": [
    "G[u][v]['weight']"
   ]
  },
  {
   "cell_type": "code",
   "execution_count": null,
   "metadata": {},
   "outputs": [],
   "source": [
    "for path in nx.all_simple_paths(G, u, v, cutoff=5):\n",
    "    print (path)\n",
    "    for key, value in enumerate(path[1:]):\n",
    "        print (G[path[key]])\n",
    "        print (G[path[key]][value]['weight'])"
   ]
  },
  {
   "cell_type": "code",
   "execution_count": 15,
   "metadata": {},
   "outputs": [
    {
     "name": "stdout",
     "output_type": "stream",
     "text": [
      "4000 411\n",
      "5000 516\n",
      "6000 647\n",
      "7000 715\n",
      "8000 877\n",
      "9000 927\n",
      "10000 1025\n",
      "Wall time: 1.09 s\n"
     ]
    },
    {
     "ename": "KeyError",
     "evalue": "arg$intanchible$[adj]",
     "output_type": "error",
     "traceback": [
      "\u001b[1;31m---------------------------------------------------------------------------\u001b[0m",
      "\u001b[1;31mKeyError\u001b[0m                                  Traceback (most recent call last)",
      "\u001b[1;32m<timed exec>\u001b[0m in \u001b[0;36m<module>\u001b[1;34m()\u001b[0m\n",
      "\u001b[1;32m~\\Documents\\GitHub\\GSoC_2018\\tool\\evaluation.py\u001b[0m in \u001b[0;36mevaluate\u001b[1;34m(G, pairs, l1, l2, cutoff, metric)\u001b[0m\n\u001b[0;32m     40\u001b[0m     \u001b[0mresult\u001b[0m \u001b[1;33m=\u001b[0m \u001b[1;33m[\u001b[0m\u001b[1;33m]\u001b[0m\u001b[1;33m\u001b[0m\u001b[0m\n\u001b[0;32m     41\u001b[0m     \u001b[1;32mfor\u001b[0m \u001b[0mi\u001b[0m \u001b[1;32min\u001b[0m \u001b[0mpairs\u001b[0m\u001b[1;33m:\u001b[0m\u001b[1;33m\u001b[0m\u001b[0m\n\u001b[1;32m---> 42\u001b[1;33m         \u001b[0mresult\u001b[0m\u001b[1;33m.\u001b[0m\u001b[0mappend\u001b[0m\u001b[1;33m(\u001b[0m\u001b[0mtwo_node_search\u001b[0m \u001b[1;33m(\u001b[0m\u001b[0mG\u001b[0m\u001b[1;33m,\u001b[0m \u001b[0mi\u001b[0m\u001b[1;33m[\u001b[0m\u001b[1;36m0\u001b[0m\u001b[1;33m]\u001b[0m\u001b[1;33m,\u001b[0m \u001b[0mi\u001b[0m\u001b[1;33m[\u001b[0m\u001b[1;36m1\u001b[0m\u001b[1;33m]\u001b[0m\u001b[1;33m,\u001b[0m \u001b[0ml1\u001b[0m\u001b[1;33m,\u001b[0m \u001b[0ml2\u001b[0m\u001b[1;33m,\u001b[0m \u001b[0mcutoff\u001b[0m\u001b[1;33m,\u001b[0m \u001b[0mmetric\u001b[0m\u001b[1;33m=\u001b[0m\u001b[0mmetric\u001b[0m\u001b[1;33m)\u001b[0m\u001b[1;33m)\u001b[0m\u001b[1;33m\u001b[0m\u001b[0m\n\u001b[0m\u001b[0;32m     43\u001b[0m     \u001b[1;32mreturn\u001b[0m \u001b[0mresult\u001b[0m\u001b[1;33m\u001b[0m\u001b[0m\n\u001b[0;32m     44\u001b[0m \u001b[1;33m\u001b[0m\u001b[0m\n",
      "\u001b[1;32m~\\Documents\\GitHub\\GSoC_2018\\tool\\evaluation.py\u001b[0m in \u001b[0;36mtwo_node_search\u001b[1;34m(G, node1, node2, l1, l2, cutoff, metric)\u001b[0m\n\u001b[0;32m     30\u001b[0m     \u001b[1;32mif\u001b[0m \u001b[1;33m(\u001b[0m\u001b[0mnode1\u001b[0m\u001b[1;33m,\u001b[0m \u001b[0mnode2\u001b[0m\u001b[1;33m)\u001b[0m \u001b[1;32min\u001b[0m \u001b[0mG\u001b[0m\u001b[1;33m.\u001b[0m\u001b[0medges\u001b[0m\u001b[1;33m(\u001b[0m\u001b[1;33m)\u001b[0m\u001b[1;33m:\u001b[0m \u001b[0mG\u001b[0m\u001b[1;33m.\u001b[0m\u001b[0mremove_edge\u001b[0m\u001b[1;33m(\u001b[0m\u001b[0mnode1\u001b[0m\u001b[1;33m,\u001b[0m \u001b[0mnode2\u001b[0m\u001b[1;33m)\u001b[0m\u001b[1;33m\u001b[0m\u001b[0m\n\u001b[0;32m     31\u001b[0m     \u001b[1;32mif\u001b[0m \u001b[1;33m(\u001b[0m\u001b[0mnode2\u001b[0m\u001b[1;33m,\u001b[0m \u001b[0mnode1\u001b[0m\u001b[1;33m)\u001b[0m \u001b[1;32min\u001b[0m \u001b[0mG\u001b[0m\u001b[1;33m.\u001b[0m\u001b[0medges\u001b[0m\u001b[1;33m(\u001b[0m\u001b[1;33m)\u001b[0m\u001b[1;33m:\u001b[0m \u001b[0mG\u001b[0m\u001b[1;33m.\u001b[0m\u001b[0mremove_edge\u001b[0m\u001b[1;33m(\u001b[0m\u001b[0mnode2\u001b[0m\u001b[1;33m,\u001b[0m \u001b[0mnode1\u001b[0m\u001b[1;33m)\u001b[0m\u001b[1;33m\u001b[0m\u001b[0m\n\u001b[1;32m---> 32\u001b[1;33m     \u001b[0mres1\u001b[0m \u001b[1;33m=\u001b[0m \u001b[0mnode_search\u001b[0m\u001b[1;33m(\u001b[0m\u001b[0mG\u001b[0m\u001b[1;33m,\u001b[0m \u001b[0mnode1\u001b[0m\u001b[1;33m,\u001b[0m \u001b[0ml2\u001b[0m\u001b[1;33m,\u001b[0m \u001b[0mcutoff\u001b[0m\u001b[1;33m,\u001b[0m \u001b[0mmetric\u001b[0m\u001b[1;33m=\u001b[0m\u001b[0mmetric\u001b[0m\u001b[1;33m)\u001b[0m\u001b[1;33m\u001b[0m\u001b[0m\n\u001b[0m\u001b[0;32m     33\u001b[0m     \u001b[0mres2\u001b[0m \u001b[1;33m=\u001b[0m \u001b[0mnode_search\u001b[0m\u001b[1;33m(\u001b[0m\u001b[0mG\u001b[0m\u001b[1;33m,\u001b[0m \u001b[0mnode2\u001b[0m\u001b[1;33m,\u001b[0m \u001b[0ml1\u001b[0m\u001b[1;33m,\u001b[0m \u001b[0mcutoff\u001b[0m\u001b[1;33m,\u001b[0m \u001b[0mmetric\u001b[0m\u001b[1;33m=\u001b[0m\u001b[0mmetric\u001b[0m\u001b[1;33m)\u001b[0m\u001b[1;33m\u001b[0m\u001b[0m\n\u001b[0;32m     34\u001b[0m     \u001b[0mcoefficient\u001b[0m \u001b[1;33m=\u001b[0m \u001b[1;36m0\u001b[0m\u001b[1;33m\u001b[0m\u001b[0m\n",
      "\u001b[1;32m~\\Documents\\GitHub\\GSoC_2018\\tool\\evaluation.py\u001b[0m in \u001b[0;36mnode_search\u001b[1;34m(G, node, l2, cutoff, metric)\u001b[0m\n\u001b[0;32m      7\u001b[0m     \u001b[0mresults\u001b[0m \u001b[1;33m=\u001b[0m \u001b[1;33m{\u001b[0m\u001b[1;33m}\u001b[0m\u001b[1;33m\u001b[0m\u001b[0m\n\u001b[0;32m      8\u001b[0m     \u001b[0mcandidates\u001b[0m \u001b[1;33m=\u001b[0m \u001b[0mpossible_translations\u001b[0m\u001b[1;33m(\u001b[0m\u001b[0mG\u001b[0m\u001b[1;33m,\u001b[0m \u001b[0mnode\u001b[0m\u001b[1;33m,\u001b[0m \u001b[0ml2\u001b[0m\u001b[1;33m,\u001b[0m \u001b[0mcutoff\u001b[0m\u001b[1;33m=\u001b[0m\u001b[0mcutoff\u001b[0m\u001b[1;33m,\u001b[0m \u001b[0mn\u001b[0m\u001b[1;33m=\u001b[0m\u001b[1;36m20\u001b[0m\u001b[1;33m)\u001b[0m\u001b[1;33m\u001b[0m\u001b[0m\n\u001b[1;32m----> 9\u001b[1;33m     \u001b[0mresults\u001b[0m \u001b[1;33m=\u001b[0m \u001b[0mevaluation\u001b[0m\u001b[1;33m(\u001b[0m\u001b[0mG\u001b[0m\u001b[1;33m,\u001b[0m \u001b[0mnode\u001b[0m\u001b[1;33m,\u001b[0m \u001b[0mcandidates\u001b[0m\u001b[1;33m,\u001b[0m \u001b[0mmode\u001b[0m\u001b[1;33m=\u001b[0m\u001b[0mmetric\u001b[0m\u001b[1;33m,\u001b[0m \u001b[0mcutoff\u001b[0m\u001b[1;33m=\u001b[0m\u001b[0mcutoff\u001b[0m\u001b[1;33m)\u001b[0m\u001b[1;33m\u001b[0m\u001b[0m\n\u001b[0m\u001b[0;32m     10\u001b[0m     \u001b[1;31m#k = 0\u001b[0m\u001b[1;33m\u001b[0m\u001b[1;33m\u001b[0m\u001b[0m\n\u001b[0;32m     11\u001b[0m     \u001b[1;31m#if len(s) > 100:\u001b[0m\u001b[1;33m\u001b[0m\u001b[1;33m\u001b[0m\u001b[0m\n",
      "\u001b[1;32m~\\Documents\\GitHub\\GSoC_2018\\tool\\evaluation.py\u001b[0m in \u001b[0;36mevaluation\u001b[1;34m(G, word, candidates, mode, cutoff)\u001b[0m\n\u001b[0;32m     46\u001b[0m     \u001b[0mresult\u001b[0m \u001b[1;33m=\u001b[0m \u001b[1;33m{\u001b[0m\u001b[1;33m}\u001b[0m\u001b[1;33m\u001b[0m\u001b[0m\n\u001b[0;32m     47\u001b[0m     \u001b[1;32mfor\u001b[0m \u001b[0mtranslation\u001b[0m \u001b[1;32min\u001b[0m \u001b[0mcandidates\u001b[0m\u001b[1;33m:\u001b[0m\u001b[1;33m\u001b[0m\u001b[0m\n\u001b[1;32m---> 48\u001b[1;33m         \u001b[0mresult\u001b[0m\u001b[1;33m[\u001b[0m\u001b[0mtranslation\u001b[0m\u001b[1;33m]\u001b[0m \u001b[1;33m=\u001b[0m \u001b[0mmetric\u001b[0m\u001b[1;33m(\u001b[0m\u001b[0mG\u001b[0m\u001b[1;33m,\u001b[0m \u001b[0mword\u001b[0m\u001b[1;33m,\u001b[0m \u001b[0mtranslation\u001b[0m\u001b[1;33m,\u001b[0m \u001b[0mcutoff\u001b[0m\u001b[1;33m=\u001b[0m\u001b[0mcutoff\u001b[0m\u001b[1;33m,\u001b[0m \u001b[0mmode\u001b[0m\u001b[1;33m=\u001b[0m\u001b[0mmode\u001b[0m\u001b[1;33m)\u001b[0m\u001b[1;33m\u001b[0m\u001b[0m\n\u001b[0m\u001b[0;32m     49\u001b[0m     \u001b[1;32mreturn\u001b[0m \u001b[0mresult\u001b[0m\u001b[1;33m\u001b[0m\u001b[0m\n\u001b[0;32m     50\u001b[0m \u001b[1;33m\u001b[0m\u001b[0m\n",
      "\u001b[1;32m~\\Documents\\GitHub\\GSoC_2018\\tool\\evaluation.py\u001b[0m in \u001b[0;36mmetric\u001b[1;34m(G, word, translation, cutoff, mode)\u001b[0m\n\u001b[0;32m     74\u001b[0m         \u001b[1;32mfor\u001b[0m \u001b[0mpath\u001b[0m \u001b[1;32min\u001b[0m \u001b[0mnx\u001b[0m\u001b[1;33m.\u001b[0m\u001b[0mall_simple_paths\u001b[0m\u001b[1;33m(\u001b[0m\u001b[0mG\u001b[0m\u001b[1;33m,\u001b[0m \u001b[0mword\u001b[0m\u001b[1;33m,\u001b[0m \u001b[0mtranslation\u001b[0m\u001b[1;33m,\u001b[0m \u001b[0mcutoff\u001b[0m\u001b[1;33m=\u001b[0m\u001b[0mcutoff\u001b[0m\u001b[1;33m)\u001b[0m\u001b[1;33m:\u001b[0m\u001b[1;33m\u001b[0m\u001b[0m\n\u001b[0;32m     75\u001b[0m             \u001b[1;32mfor\u001b[0m \u001b[0mkey\u001b[0m\u001b[1;33m,\u001b[0m \u001b[0mvalue\u001b[0m \u001b[1;32min\u001b[0m \u001b[0menumerate\u001b[0m\u001b[1;33m(\u001b[0m\u001b[0mpath\u001b[0m\u001b[1;33m[\u001b[0m\u001b[1;36m1\u001b[0m\u001b[1;33m:\u001b[0m\u001b[1;33m]\u001b[0m\u001b[1;33m)\u001b[0m\u001b[1;33m:\u001b[0m\u001b[1;33m\u001b[0m\u001b[0m\n\u001b[1;32m---> 76\u001b[1;33m                 \u001b[0mcoef\u001b[0m \u001b[1;33m+=\u001b[0m \u001b[0mG\u001b[0m\u001b[1;33m[\u001b[0m\u001b[0mpath\u001b[0m\u001b[1;33m[\u001b[0m\u001b[0mkey\u001b[0m\u001b[1;33m-\u001b[0m\u001b[1;36m1\u001b[0m\u001b[1;33m]\u001b[0m\u001b[1;33m]\u001b[0m\u001b[1;33m[\u001b[0m\u001b[0mvalue\u001b[0m\u001b[1;33m]\u001b[0m\u001b[1;33m[\u001b[0m\u001b[1;34m'weight'\u001b[0m\u001b[1;33m]\u001b[0m\u001b[1;33m\u001b[0m\u001b[0m\n\u001b[0m",
      "\u001b[1;32m~\\Anaconda3\\lib\\site-packages\\networkx\\classes\\coreviews.py\u001b[0m in \u001b[0;36m__getitem__\u001b[1;34m(self, key)\u001b[0m\n\u001b[0;32m     53\u001b[0m \u001b[1;33m\u001b[0m\u001b[0m\n\u001b[0;32m     54\u001b[0m     \u001b[1;32mdef\u001b[0m \u001b[0m__getitem__\u001b[0m\u001b[1;33m(\u001b[0m\u001b[0mself\u001b[0m\u001b[1;33m,\u001b[0m \u001b[0mkey\u001b[0m\u001b[1;33m)\u001b[0m\u001b[1;33m:\u001b[0m\u001b[1;33m\u001b[0m\u001b[0m\n\u001b[1;32m---> 55\u001b[1;33m         \u001b[1;32mreturn\u001b[0m \u001b[0mself\u001b[0m\u001b[1;33m.\u001b[0m\u001b[0m_atlas\u001b[0m\u001b[1;33m[\u001b[0m\u001b[0mkey\u001b[0m\u001b[1;33m]\u001b[0m\u001b[1;33m\u001b[0m\u001b[0m\n\u001b[0m\u001b[0;32m     56\u001b[0m \u001b[1;33m\u001b[0m\u001b[0m\n\u001b[0;32m     57\u001b[0m     \u001b[1;32mdef\u001b[0m \u001b[0mcopy\u001b[0m\u001b[1;33m(\u001b[0m\u001b[0mself\u001b[0m\u001b[1;33m)\u001b[0m\u001b[1;33m:\u001b[0m\u001b[1;33m\u001b[0m\u001b[0m\n",
      "\u001b[1;31mKeyError\u001b[0m: arg$intanchible$[adj]"
     ]
    },
    {
     "ename": "NameError",
     "evalue": "name 'result' is not defined",
     "output_type": "error",
     "traceback": [
      "\u001b[1;31m---------------------------------------------------------------------------\u001b[0m",
      "\u001b[1;31mNameError\u001b[0m                                 Traceback (most recent call last)",
      "\u001b[1;32m<ipython-input-15-50ed6d6f6d62>\u001b[0m in \u001b[0;36m<module>\u001b[1;34m()\u001b[0m\n\u001b[0;32m      1\u001b[0m \u001b[0mget_ipython\u001b[0m\u001b[1;33m(\u001b[0m\u001b[1;33m)\u001b[0m\u001b[1;33m.\u001b[0m\u001b[0mrun_line_magic\u001b[0m\u001b[1;33m(\u001b[0m\u001b[1;34m'time'\u001b[0m\u001b[1;33m,\u001b[0m \u001b[1;34m's = get_evaluation_pairs2(G, l1, lang2, n=1000)'\u001b[0m\u001b[1;33m)\u001b[0m\u001b[1;33m\u001b[0m\u001b[0m\n\u001b[0;32m      2\u001b[0m \u001b[0mget_ipython\u001b[0m\u001b[1;33m(\u001b[0m\u001b[1;33m)\u001b[0m\u001b[1;33m.\u001b[0m\u001b[0mrun_line_magic\u001b[0m\u001b[1;33m(\u001b[0m\u001b[1;34m'time'\u001b[0m\u001b[1;33m,\u001b[0m \u001b[1;34m\"result = evaluate(G, s, lang1, lang2, 4, metric='log')\"\u001b[0m\u001b[1;33m)\u001b[0m\u001b[1;33m\u001b[0m\u001b[0m\n\u001b[1;32m----> 3\u001b[1;33m \u001b[0msum\u001b[0m\u001b[1;33m(\u001b[0m\u001b[0mresult\u001b[0m\u001b[1;33m)\u001b[0m\u001b[1;33m/\u001b[0m\u001b[1;36m10\u001b[0m\u001b[1;33m\u001b[0m\u001b[0m\n\u001b[0m",
      "\u001b[1;31mNameError\u001b[0m: name 'result' is not defined"
     ]
    }
   ],
   "source": [
    "%time s = get_evaluation_pairs2(G, l1, lang2, n=1000)\n",
    "%time result = evaluate(G, s, lang1, lang2, 4, metric='log')\n",
    "sum(result)/10"
   ]
  },
  {
   "cell_type": "code",
   "execution_count": 18,
   "metadata": {},
   "outputs": [
    {
     "name": "stdout",
     "output_type": "stream",
     "text": [
      "4000 795\n",
      "5000 1024\n",
      "Wall time: 315 ms\n",
      "Wall time: 55.1 s\n",
      "46.26606870189493\n"
     ]
    }
   ],
   "source": [
    "%time s = get_evaluation_pairs(G, l1, lang2, n=1000)\n",
    "%time result = evaluate(G, s, lang1, lang2, 4)\n",
    "print(sum(result)/10)"
   ]
  },
  {
   "cell_type": "code",
   "execution_count": 2,
   "metadata": {},
   "outputs": [
    {
     "ename": "TypeError",
     "evalue": "'<' not supported between instances of 'list' and 'int'",
     "output_type": "error",
     "traceback": [
      "\u001b[1;31m---------------------------------------------------------------------------\u001b[0m",
      "\u001b[1;31mTypeError\u001b[0m                                 Traceback (most recent call last)",
      "\u001b[1;32m<ipython-input-2-d8eb2593d8fd>\u001b[0m in \u001b[0;36m<module>\u001b[1;34m()\u001b[0m\n\u001b[0;32m      1\u001b[0m \u001b[0ml\u001b[0m \u001b[1;33m=\u001b[0m \u001b[1;33m[\u001b[0m\u001b[1;36m1\u001b[0m\u001b[1;33m,\u001b[0m\u001b[1;36m2\u001b[0m\u001b[1;33m,\u001b[0m\u001b[1;36m3\u001b[0m\u001b[1;33m,\u001b[0m\u001b[1;36m4\u001b[0m\u001b[1;33m,\u001b[0m\u001b[1;36m5\u001b[0m\u001b[1;33m,\u001b[0m\u001b[1;36m6\u001b[0m\u001b[1;33m]\u001b[0m\u001b[1;33m\u001b[0m\u001b[0m\n\u001b[1;32m----> 2\u001b[1;33m \u001b[0ml\u001b[0m\u001b[1;33m[\u001b[0m\u001b[0ml\u001b[0m\u001b[1;33m<\u001b[0m\u001b[1;36m4\u001b[0m\u001b[1;33m]\u001b[0m\u001b[1;33m\u001b[0m\u001b[0m\n\u001b[0m",
      "\u001b[1;31mTypeError\u001b[0m: '<' not supported between instances of 'list' and 'int'"
     ]
    }
   ],
   "source": [
    "l = [1,2,3,4,5,6]\n",
    "l[l<4]"
   ]
  },
  {
   "cell_type": "code",
   "execution_count": 11,
   "metadata": {},
   "outputs": [],
   "source": [
    "def pr_re_f1(lang1, lang2, n, cutoff):\n",
    "    logging.info ('start preparations')\n",
    "    lang1, lang2, n = 'eng','spa', 10\n",
    "    get_relevant_languages(lang1, lang2)\n",
    "    load_file(lang1, lang2, n=n)\n",
    "    change_encoding('{}-{}'.format(lang1,lang2))\n",
    "    G = built_from_file('{}-{}'.format(lang1,lang2))\n",
    "    l1, l2 = dictionaries(lang1, lang2)\n",
    "    s = get_evaluation_pairs(G, l1, lang2, n=n)\n",
    "    logging.info ('start evaluation')\n",
    "    result = evaluate(G, s, lang1, lang2, cutoff)\n",
    "    precision = sum(1 for i in result if i > 0.8) / sum(1 for i in result if i > 0)\n",
    "    recall = sum(1 for i in result if i > 0.8) / sum(1 for i in result)\n",
    "    f1 = 2 * precision * recall / (precision + recall)\n",
    "    logging.info ('finish evaluation')\n",
    "    print ('Precision : {}, recall : {}, f1-score : {}'.format(precision, recall, f1))\n",
    "    print (sum(result)/10)"
   ]
  },
  {
   "cell_type": "code",
   "execution_count": 12,
   "metadata": {},
   "outputs": [
    {
     "name": "stdout",
     "output_type": "stream",
     "text": [
      "2018-07-06 09:33:28,726 | INFO : start preparations\n",
      "40 2\n",
      "50 10\n",
      "2018-07-06 09:34:42,329 | INFO : start evaluation\n",
      "2018-07-06 09:34:42,535 | INFO : finish evaluation\n",
      "Precision : 0.6666666666666666, recall : 0.4, f1-score : 0.5\n",
      "0.4649404761904761\n",
      "Wall time: 1min 14s\n"
     ]
    }
   ],
   "source": [
    "%timeit pr_re_f1('eng', 'spa', 1000, 4)"
   ]
  },
  {
   "cell_type": "code",
   "execution_count": 3,
   "metadata": {},
   "outputs": [],
   "source": [
    "def two_node_search (G, node1, node2, l1, l2, cutoff, metric='exp'):\n",
    "    if (node1, node2) in G.edges(): G.remove_edge(node1, node2)\n",
    "    if (node2, node1) in G.edges(): G.remove_edge(node2, node1)\n",
    "    res1 = node_search(G, node1, l2, cutoff, metric=metric)[:10]\n",
    "    res2 = node_search(G, node2, l1, cutoff, metric=metric)[:10]\n",
    "    coefficient = 0\n",
    "    if node2 in res1: coefficient += 0.5*(10 - res1.index(node2))/10\n",
    "    if node1 in res2: coefficient += 0.5*(10 - res2.index(node1))/10\n",
    "    return coefficient\n",
    "\n",
    "def _one_iter(lang1, lang2, G, k, l1, l2, cutoff=4, p=0.8):\n",
    "    a = []\n",
    "    candidates = random.sample(l1, k)\n",
    "    pairs = []\n",
    "    for i in candidates:\n",
    "        if len(pairs) < 1000 and i in G.nodes():\n",
    "            ne = list(G.neighbors(i))\n",
    "            s = FilteredList(ne).lang(lang2)\n",
    "            if len(s) == 1 and len(ne) > 1:\n",
    "                pairs.append((i, s[0]))\n",
    "        elif len(pairs) >= 1000:\n",
    "            break\n",
    "    if len(pairs) == 0:\n",
    "        return 'no one-variant'\n",
    "    pairs2 = pairs[:1000]\n",
    "    result = evaluate(G, pairs2, lang1, lang2, 4)\n",
    "    #del G, l1, l2, pairs\n",
    "    try:\n",
    "        precision = sum(1 for i in result if i >= p) / sum(1 for i in result if i > 0)\n",
    "        recall = sum(1 for i in result if i >= p) / sum(1 for i in result)\n",
    "        f1 = 2 * precision * recall / (precision + recall)\n",
    "        logging.info ('finish evaluation')\n",
    "        print ('Precision : {}, recall : {}, f1-score : {}'.format(precision, recall, f1))\n",
    "        print (sum(result)/10)\n",
    "    except:\n",
    "        print ('error')\n",
    "    del G, l1, l2, pairs\n",
    "\n",
    "def eval_loop(lang1, lang2, n=10, cutoff=4, n_iter=10, p=0.8):\n",
    "    get_relevant_languages(lang1, lang2)\n",
    "    load_file(lang1, lang2, n=n)\n",
    "    change_encoding('{}-{}'.format(lang1,lang2))\n",
    "    G = built_from_file('{}-{}'.format(lang1,lang2))\n",
    "    l1, l2 = dictionaries(lang1, lang2)\n",
    "    k = len(l1)\n",
    "    if k > 10000: k =10000\n",
    "    elif k < 1000: return 'less than 1000'\n",
    "    else: k = len(l1)\n",
    "    a = []\n",
    "    #print ('+',end='\\t')\n",
    "    for _ in tqdm(range(n_iter)):\n",
    "        G = built_from_file('{}-{}'.format(lang1,lang2))\n",
    "        _one_iter(lang1, lang2, G, k, l1, l2, cutoff=cutoff)\n",
    "    #print (a)\n",
    "    #print (st.t.interval(0.95, len(a)-1, loc=np.mean(a), scale=st.sem(a)))    "
   ]
  },
  {
   "cell_type": "code",
   "execution_count": 2,
   "metadata": {},
   "outputs": [
    {
     "data": {
      "application/vnd.jupyter.widget-view+json": {
       "model_id": "e16b44da5b2045b198de136ec12f0151",
       "version_major": 2,
       "version_minor": 0
      },
      "text/plain": [
       "HBox(children=(IntProgress(value=0, max=10), HTML(value='')))"
      ]
     },
     "metadata": {},
     "output_type": "display_data"
    },
    {
     "name": "stdout",
     "output_type": "stream",
     "text": [
      "Precision : 0.9523809523809523, recall : 0.7, f1-score : 0.8069164265129684, \tSum : 70.40000000000005\n",
      "Precision : 0.9635627530364372, recall : 0.714, f1-score : 0.820218265364733, \tSum : 71.62000000000003\n",
      "Precision : 0.963013698630137, recall : 0.703, f1-score : 0.8127167630057803, \tSum : 70.44000000000001\n",
      "Precision : 0.9456233421750663, recall : 0.713, f1-score : 0.8129988597491448, \tSum : 72.17999999999999\n",
      "Precision : 0.9594594594594594, recall : 0.71, f1-score : 0.8160919540229885, \tSum : 71.23500000000013\n",
      "Precision : 0.9661246612466124, recall : 0.713, f1-score : 0.8204833141542002, \tSum : 71.28000000000003\n",
      "Precision : 0.9496021220159151, recall : 0.716, f1-score : 0.8164196123147093, \tSum : 72.25000000000009\n",
      "Precision : 0.9634146341463414, recall : 0.711, f1-score : 0.8181818181818182, \tSum : 71.23500000000004\n",
      "Precision : 0.9463087248322147, recall : 0.705, f1-score : 0.8080229226361031, \tSum : 71.32500000000003\n",
      "Precision : 0.9446693657219973, recall : 0.7, f1-score : 0.80413555427915, \tSum : 70.62000000000008\n",
      "\n",
      "Wall time: 21min 14s\n"
     ]
    }
   ],
   "source": [
    "lang1, lang2, n = 'eng','spa', 10\n",
    "%time eval_loop(lang1, lang2, n=10, cutoff=4, n_iter=10)"
   ]
  }
 ],
 "metadata": {
  "kernelspec": {
   "display_name": "Python 3",
   "language": "python",
   "name": "python3"
  },
  "language_info": {
   "codemirror_mode": {
    "name": "ipython",
    "version": 3
   },
   "file_extension": ".py",
   "mimetype": "text/x-python",
   "name": "python",
   "nbconvert_exporter": "python",
   "pygments_lexer": "ipython3",
   "version": "3.6.5"
  }
 },
 "nbformat": 4,
 "nbformat_minor": 2
}
