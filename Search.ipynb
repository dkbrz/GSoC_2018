{
 "cells": [
  {
   "cell_type": "code",
   "execution_count": 1,
   "metadata": {},
   "outputs": [],
   "source": [
    "from tool.evaluation import *\n",
    "from tool.functions import *\n",
    "import random\n",
    "from tqdm import tqdm_notebook as tqdm\n",
    "import numpy as np, scipy.stats as st\n",
    "from itertools import islice"
   ]
  },
  {
   "cell_type": "code",
   "execution_count": 2,
   "metadata": {},
   "outputs": [
    {
     "name": "stdout",
     "output_type": "stream",
     "text": [
      "Wall time: 943 ms\n",
      "Wall time: 931 ms\n",
      "Wall time: 1.6 s\n",
      "Wall time: 1min 57s\n",
      "Wall time: 7.41 s\n"
     ]
    }
   ],
   "source": [
    "lang1, lang2, n = 'spa','eng', 20\n",
    "%time get_relevant_languages(lang1, lang2)\n",
    "%time load_file(lang1, lang2, n=n)\n",
    "%time change_encoding('{}-{}'.format(lang1,lang2))\n",
    "%time G = built_from_file('{}-{}'.format(lang1,lang2))\n",
    "%time l1, l2 = dictionaries(lang1, lang2)"
   ]
  },
  {
   "cell_type": "code",
   "execution_count": 22,
   "metadata": {},
   "outputs": [],
   "source": [
    "def evaluation(G, word, candidates, mode='exp', cutoff=4):\n",
    "    result = {}\n",
    "    for translation in candidates:\n",
    "        result[translation] = metric(G, word, translation, cutoff=cutoff, mode=mode)\n",
    "    return result\n",
    "\n",
    "def lemma_search (G, lemma, d_l1, l2, cutoff, n, metric='exp'):\n",
    "    lemmas = [i for i in d_l1.lemma(lemma) if i in G.nodes()]\n",
    "    results = {word:{} for word in lemmas}\n",
    "    for word in lemmas:\n",
    "        candidates = possible_translations(G, word, l2, cutoff=cutoff, n=n)\n",
    "        results[word] = evaluation(G, word, candidates, mode = metric, cutoff=cutoff)\n",
    "        del candidates\n",
    "    return results\n",
    "\n",
    "def metric(G, word, translation, cutoff, mode='exp'):\n",
    "    coef = 0\n",
    "    if mode in ('exp', 'len'):\n",
    "        t = Counter([len(i) for i in nx.all_simple_paths(G, word, translation, cutoff=cutoff)])\n",
    "        if mode == 'exp': \n",
    "            for i in t: \n",
    "                #coef += exp(-t[i])\n",
    "                coef += exp(-i)*t[i]\n",
    "            return coef\n",
    "        if mode == 'len':\n",
    "            for i in t: \n",
    "                coef += t[i]*i\n",
    "            return coef"
   ]
  },
  {
   "cell_type": "code",
   "execution_count": 25,
   "metadata": {},
   "outputs": [
    {
     "name": "stdout",
     "output_type": "stream",
     "text": [
      "\t\t eng$star$[n_n-ND]\n",
      "spa$estrella$[n-f_n_n-f-sg]\t3.487083686952825\n",
      "spa$astro$[n_n-m]\t0.3445470134576176\n",
      "spa$lucero$[n-m_n]\t0.2963380437905006\n",
      "spa$estelo$[n-m]\t0.2712844579026809\n",
      "spa$sentido$[n-m_n_n-m-ND]\t0.15791432376100678\n",
      "\n",
      "\t\t eng$star$[adj]\n",
      "spa$estelar$[adj_adj-mf]\t0.14032192213801603\n",
      "spa$estupendo$[adj-GD_adj-GD-ND]\t0.006737946999085467\n",
      "spa$magnífico$[adj_adj-GD-ND_adj-GD]\t0.006737946999085467\n",
      "\n",
      "\t\t eng$star$[vblex]\n",
      "spa$protagonizar$[vblex]\t0.5861943804290437\n",
      "spa$jugar$[vblex_vblex-vbact]\t0.49363670887250133\n",
      "spa$tocar$[vblex]\t0.11938484387501619\n",
      "spa$presentar$[vblex]\t0.11074869476740849\n",
      "spa$constar$[vblex]\t0.09727280076923756\n",
      "\n",
      "Wall time: 746 ms\n"
     ]
    }
   ],
   "source": [
    "%time print_lemma_results(lemma_search (G, 'star', l2, 'spa', 4, 40, metric='exp'), n = 5)"
   ]
  },
  {
   "cell_type": "code",
   "execution_count": 24,
   "metadata": {},
   "outputs": [
    {
     "name": "stdout",
     "output_type": "stream",
     "text": [
      "\t\t eng$star$[n_n-ND]\n",
      "spa$estrella$[n-f_n_n-f-sg]\t1637\n",
      "spa$astro$[n_n-m]\t145\n",
      "spa$lucero$[n-m_n]\t138\n",
      "spa$estelo$[n-m]\t129\n",
      "spa$sentido$[n-m_n_n-m-ND]\t98\n",
      "\n",
      "\t\t eng$star$[adj]\n",
      "spa$estelar$[adj_adj-mf]\t51\n",
      "spa$estupendo$[adj-GD_adj-GD-ND]\t5\n",
      "spa$magnífico$[adj_adj-GD-ND_adj-GD]\t5\n",
      "\n",
      "\t\t eng$star$[vblex]\n",
      "spa$jugar$[vblex_vblex-vbact]\t294\n",
      "spa$protagonizar$[vblex]\t158\n",
      "spa$tocar$[vblex]\t79\n",
      "spa$presentar$[vblex]\t63\n",
      "spa$actuar$[vblex]\t60\n",
      "\n",
      "Wall time: 776 ms\n"
     ]
    }
   ],
   "source": [
    "%time print_lemma_results(lemma_search (G, 'star', l2, 'spa', 4, 40, metric='len'), n = 5)"
   ]
  },
  {
   "cell_type": "code",
   "execution_count": 41,
   "metadata": {},
   "outputs": [
    {
     "name": "stdout",
     "output_type": "stream",
     "text": [
      "\t\t eng$include$[n]\n",
      "spa$inclusión$[n_n-f_n-f-sg]\t0.09505449525293999\n",
      "\n",
      "\t\t eng$include$[vblex-ger]\n",
      "spa$implicación$[n-f_n_n-f-ND]\t0.06548126788233244\n",
      "spa$participación$[n-f_n_n-f-ND]\t0.006737946999085467\n",
      "spa$inclusión$[n_n-f_n-f-sg]\t0.006737946999085467\n",
      "\n",
      "\t\t eng$include$[vblex_vblex-pprs]\n",
      "spa$comprender$[vblex]\t1.0936909502681387\n",
      "spa$incluir$[vblex]\t1.0675870152154083\n",
      "spa$coger$[vblex]\t0.5389041357575773\n",
      "spa$tomar$[vblex_vblex-inf]\t0.24550763474911783\n",
      "spa$añadir$[vblex]\t0.1916040587564341\n",
      "spa$llevar$[vblex]\t0.18676431386587083\n",
      "spa$dar$[vblex]\t0.16949201565065547\n",
      "spa$hacer$[vblex_vblex-inf]\t0.14633663187135804\n",
      "spa$agregar$[vblex]\t0.1354821772474528\n",
      "spa$participar$[vblex]\t0.11938484387501619\n",
      "\n",
      "Wall time: 1.44 s\n"
     ]
    }
   ],
   "source": [
    "%time print_lemma_results(lemma_search (G, 'include', l2, 'spa', 4, 40, metric='exp'), n = 10)"
   ]
  },
  {
   "cell_type": "code",
   "execution_count": 43,
   "metadata": {},
   "outputs": [
    {
     "name": "stdout",
     "output_type": "stream",
     "text": [
      "\t\t eng$convergence$[n_n-ND]\n",
      "spa$convergencia$[n_n-f_n-f-ND]\t0.663656474058993\n",
      "spa$acuerdo$[n-m_n_n-m-sg]\t0.0202138409972564\n",
      "spa$confluencia$[n_n-f]\t0.0202138409972564\n",
      "spa$unión$[n_n-f_n-f-ND]\t0.0202138409972564\n",
      "spa$concordia$[n_n-f]\t0.013475893998170934\n",
      "spa$asociación$[n-f_n_n-f-sg]\t0.013475893998170934\n",
      "spa$armonía$[n-f_n_n-f-ND]\t0.006737946999085467\n",
      "spa$complicidad$[n_n-f_n-f-ND]\t0.006737946999085467\n",
      "spa$compromiso$[n-m_n_n-m-ND]\t0.006737946999085467\n",
      "spa$consenso$[n_n-m_n-m-sg]\t0.006737946999085467\n",
      "\n",
      "Wall time: 260 ms\n"
     ]
    }
   ],
   "source": [
    "%time print_lemma_results(lemma_search (G, 'convergence', l2, 'spa', 4, 40, metric='exp'), n = 10)"
   ]
  },
  {
   "cell_type": "code",
   "execution_count": 44,
   "metadata": {},
   "outputs": [],
   "source": [
    "import random\n",
    "def get_evaluation_pairs(G, dictionary, target, n=500):\n",
    "    k = 4\n",
    "    pairs = []\n",
    "    while len(pairs) < n:\n",
    "        candidates = random.sample(dictionary, k*n)\n",
    "        pairs = []\n",
    "        for i in candidates:\n",
    "            if i in G.nodes():\n",
    "                s = FilteredList(list(G.neighbors(i))).lang(target)\n",
    "                if len(s) == 1: pairs.append((i, s[0], n))\n",
    "        print (k*n, len(pairs))\n",
    "        k+=1\n",
    "    return pairs[:n]"
   ]
  },
  {
   "cell_type": "code",
   "execution_count": 45,
   "metadata": {},
   "outputs": [
    {
     "name": "stdout",
     "output_type": "stream",
     "text": [
      "4000 845\n",
      "5000 1037\n",
      "Wall time: 647 ms\n"
     ]
    }
   ],
   "source": [
    "%time s = get_evaluation_pairs(G, l1, 'eng', n=1000)"
   ]
  },
  {
   "cell_type": "code",
   "execution_count": 47,
   "metadata": {},
   "outputs": [
    {
     "name": "stdout",
     "output_type": "stream",
     "text": [
      "Wall time: 2min 25s\n"
     ]
    },
    {
     "data": {
      "text/plain": [
       "46.37972547103744"
      ]
     },
     "execution_count": 47,
     "metadata": {},
     "output_type": "execute_result"
    }
   ],
   "source": [
    "%time result = evaluate(G, s, 'spa', 'eng', 4)\n",
    "sum(result)/10"
   ]
  },
  {
   "cell_type": "code",
   "execution_count": null,
   "metadata": {},
   "outputs": [],
   "source": [
    "import matplotlib.pyplot as plt"
   ]
  },
  {
   "cell_type": "code",
   "execution_count": null,
   "metadata": {},
   "outputs": [],
   "source": [
    "%time result = evaluate(G, s, 'spa', 'eng', 6)\n",
    "sum(result)/10"
   ]
  },
  {
   "cell_type": "code",
   "execution_count": null,
   "metadata": {},
   "outputs": [],
   "source": [
    "bins = 20\n",
    "plt.hist(result, bins=bins)\n",
    "arr=plt.hist(result,bins=bins)\n",
    "for i in range(bins):\n",
    "    plt.text(arr[1][i],arr[0][i],str(arr[0][i]))\n",
    "plt.show()"
   ]
  }
 ],
 "metadata": {
  "kernelspec": {
   "display_name": "Python 3",
   "language": "python",
   "name": "python3"
  },
  "language_info": {
   "codemirror_mode": {
    "name": "ipython",
    "version": 3
   },
   "file_extension": ".py",
   "mimetype": "text/x-python",
   "name": "python",
   "nbconvert_exporter": "python",
   "pygments_lexer": "ipython3",
   "version": "3.6.5"
  }
 },
 "nbformat": 4,
 "nbformat_minor": 2
}
