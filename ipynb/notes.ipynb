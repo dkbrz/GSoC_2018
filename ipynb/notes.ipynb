{
 "cells": [
  {
   "cell_type": "markdown",
   "metadata": {},
   "source": [
    "** Compression **"
   ]
  },
  {
   "cell_type": "code",
   "execution_count": null,
   "metadata": {},
   "outputs": [],
   "source": [
    "def compress_file(filename):\n",
    "    with open (filename, 'r', encoding='utf-8') as f:\n",
    "        with open (filename+'-short', 'w', encoding='utf-8') as outp:\n",
    "            for side, word1, word2 in nodes_from_file(filename):\n",
    "                string = str(side) + '\\t' + compress(word1).write(mode='bi') + '\\t' + compress(word2).write(mode='bi') + '\\n'\n",
    "                outp.write(string)        "
   ]
  },
  {
   "cell_type": "code",
   "execution_count": null,
   "metadata": {},
   "outputs": [],
   "source": [
    "%time compress_file('spa-eng')"
   ]
  },
  {
   "cell_type": "code",
   "execution_count": null,
   "metadata": {},
   "outputs": [],
   "source": [
    "def compress(word):\n",
    "    s = list(sorted(word.s, key=len))\n",
    "    length = len(s[0]) - 1\n",
    "    if length == -1: print('Alarm!\\t', word)\n",
    "    s2 = []\n",
    "    for key, value in enumerate(s[-1]):\n",
    "        if key > length: s2.append('('+value+')')\n",
    "        else: s2.append(value)\n",
    "    word.s = [Tags(s2)]\n",
    "    return word"
   ]
  },
  {
   "cell_type": "code",
   "execution_count": null,
   "metadata": {},
   "outputs": [],
   "source": [
    "word = Word('capital','spa',[Tags(['n','f']), Tags('n'), Tags(['n','f','sg'])])"
   ]
  },
  {
   "cell_type": "code",
   "execution_count": null,
   "metadata": {},
   "outputs": [],
   "source": [
    "compress(word)"
   ]
  },
  {
   "cell_type": "code",
   "execution_count": null,
   "metadata": {},
   "outputs": [],
   "source": [
    "def get_relevant_languages(source, target):\n",
    "    G = nx.Graph()\n",
    "    with open ('./files/stats.csv', 'r', encoding='utf-8') as f:\n",
    "        for line in f:\n",
    "            data = line.split('\\t')\n",
    "            coef = 1/math.log10(10+float(data[2])*float(data[3])*float(data[4]))\n",
    "            if coef < 1:\n",
    "                G.add_edge(data[0], data[1], weight=coef)\n",
    "    if (source, target) in G.edges():\n",
    "        #print ('There is {}-{} dictionary'.format(source, target))\n",
    "        G.remove_edge(source, target)\n",
    "    medium = set(G.nodes()) - set([source,target])\n",
    "    s_dist, s_path = nx.single_source_dijkstra(G, source)\n",
    "    t_dist, t_path = nx.single_source_dijkstra(G, target)\n",
    "    result = {}\n",
    "    for node in G.nodes():\n",
    "        if node in s_dist and node in t_dist:\n",
    "            result[node] = (s_dist[node]+t_dist[node], s_path[node]+list(reversed(t_path[node]))[1:])\n",
    "    with open ('language_list.csv','w', encoding='utf-8') as f:\n",
    "        for i in sorted(result, key=result.get):\n",
    "            f.write(str(result[i][0])+'\\t'+str(i)+'\\t:\\t'+' '.join(result[i][1])+'\\n')\n"
   ]
  }
 ],
 "metadata": {
  "kernelspec": {
   "display_name": "Python 3",
   "language": "python",
   "name": "python3"
  },
  "language_info": {
   "codemirror_mode": {
    "name": "ipython",
    "version": 3
   },
   "file_extension": ".py",
   "mimetype": "text/x-python",
   "name": "python",
   "nbconvert_exporter": "python",
   "pygments_lexer": "ipython3",
   "version": "3.6.5"
  }
 },
 "nbformat": 4,
 "nbformat_minor": 2
}
