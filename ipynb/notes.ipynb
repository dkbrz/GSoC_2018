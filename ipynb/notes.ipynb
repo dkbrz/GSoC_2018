{
 "cells": [
  {
   "cell_type": "markdown",
   "metadata": {},
   "source": [
    "** Compression **"
   ]
  },
  {
   "cell_type": "code",
   "execution_count": null,
   "metadata": {},
   "outputs": [],
   "source": [
    "def compress_file(filename):\n",
    "    with open (filename, 'r', encoding='utf-8') as f:\n",
    "        with open (filename+'-short', 'w', encoding='utf-8') as outp:\n",
    "            for side, word1, word2 in nodes_from_file(filename):\n",
    "                string = str(side) + '\\t' + compress(word1).write(mode='bi') + '\\t' + compress(word2).write(mode='bi') + '\\n'\n",
    "                outp.write(string)        "
   ]
  },
  {
   "cell_type": "code",
   "execution_count": null,
   "metadata": {},
   "outputs": [],
   "source": [
    "%time compress_file('spa-eng')"
   ]
  },
  {
   "cell_type": "code",
   "execution_count": null,
   "metadata": {},
   "outputs": [],
   "source": [
    "def compress(word):\n",
    "    s = list(sorted(word.s, key=len))\n",
    "    length = len(s[0]) - 1\n",
    "    if length == -1: print('Alarm!\\t', word)\n",
    "    s2 = []\n",
    "    for key, value in enumerate(s[-1]):\n",
    "        if key > length: s2.append('('+value+')')\n",
    "        else: s2.append(value)\n",
    "    word.s = [Tags(s2)]\n",
    "    return word"
   ]
  },
  {
   "cell_type": "code",
   "execution_count": null,
   "metadata": {},
   "outputs": [],
   "source": [
    "word = Word('capital','spa',[Tags(['n','f']), Tags('n'), Tags(['n','f','sg'])])"
   ]
  },
  {
   "cell_type": "code",
   "execution_count": null,
   "metadata": {},
   "outputs": [],
   "source": [
    "compress(word)"
   ]
  },
  {
   "cell_type": "code",
   "execution_count": null,
   "metadata": {},
   "outputs": [],
   "source": [
    "def get_relevant_languages(source, target):\n",
    "    G = nx.Graph()\n",
    "    with open ('./files/stats.csv', 'r', encoding='utf-8') as f:\n",
    "        for line in f:\n",
    "            data = line.split('\\t')\n",
    "            coef = 1/math.log10(10+float(data[2])*float(data[3])*float(data[4]))\n",
    "            if coef < 1:\n",
    "                G.add_edge(data[0], data[1], weight=coef)\n",
    "    if (source, target) in G.edges():\n",
    "        #print ('There is {}-{} dictionary'.format(source, target))\n",
    "        G.remove_edge(source, target)\n",
    "    medium = set(G.nodes()) - set([source,target])\n",
    "    s_dist, s_path = nx.single_source_dijkstra(G, source)\n",
    "    t_dist, t_path = nx.single_source_dijkstra(G, target)\n",
    "    result = {}\n",
    "    for node in G.nodes():\n",
    "        if node in s_dist and node in t_dist:\n",
    "            result[node] = (s_dist[node]+t_dist[node], s_path[node]+list(reversed(t_path[node]))[1:])\n",
    "    with open ('language_list.csv','w', encoding='utf-8') as f:\n",
    "        for i in sorted(result, key=result.get):\n",
    "            f.write(str(result[i][0])+'\\t'+str(i)+'\\t:\\t'+' '.join(result[i][1])+'\\n')\n"
   ]
  },
  {
   "cell_type": "code",
   "execution_count": 1,
   "metadata": {},
   "outputs": [],
   "source": [
    "import random"
   ]
  },
  {
   "cell_type": "code",
   "execution_count": 24,
   "metadata": {},
   "outputs": [
    {
     "data": {
      "text/plain": [
       "[51,\n",
       " 5,\n",
       " 91,\n",
       " 0,\n",
       " 89,\n",
       " 86,\n",
       " 14,\n",
       " 56,\n",
       " 58,\n",
       " 68,\n",
       " 72,\n",
       " 69,\n",
       " 81,\n",
       " 2,\n",
       " 22,\n",
       " 26,\n",
       " 46,\n",
       " 29,\n",
       " 48,\n",
       " 77,\n",
       " 17,\n",
       " 4,\n",
       " 64,\n",
       " 3,\n",
       " 87,\n",
       " 78,\n",
       " 70,\n",
       " 28,\n",
       " 52,\n",
       " 97,\n",
       " 65,\n",
       " 45,\n",
       " 50,\n",
       " 88,\n",
       " 32,\n",
       " 31,\n",
       " 47,\n",
       " 85,\n",
       " 63,\n",
       " 90,\n",
       " 57,\n",
       " 53,\n",
       " 71,\n",
       " 6,\n",
       " 1,\n",
       " 24,\n",
       " 9,\n",
       " 80,\n",
       " 12,\n",
       " 13,\n",
       " 83,\n",
       " 94,\n",
       " 40,\n",
       " 67,\n",
       " 76,\n",
       " 75,\n",
       " 73,\n",
       " 36,\n",
       " 21,\n",
       " 16,\n",
       " 93,\n",
       " 37,\n",
       " 15,\n",
       " 38,\n",
       " 25,\n",
       " 23,\n",
       " 34,\n",
       " 82,\n",
       " 19,\n",
       " 33,\n",
       " 8,\n",
       " 20,\n",
       " 59,\n",
       " 30,\n",
       " 60,\n",
       " 74,\n",
       " 99,\n",
       " 92,\n",
       " 39,\n",
       " 55,\n",
       " 79,\n",
       " 7,\n",
       " 42,\n",
       " 35,\n",
       " 98,\n",
       " 41,\n",
       " 66,\n",
       " 43,\n",
       " 61,\n",
       " 49,\n",
       " 96,\n",
       " 95,\n",
       " 62,\n",
       " 18,\n",
       " 44,\n",
       " 11,\n",
       " 27,\n",
       " 10,\n",
       " 54,\n",
       " 84]"
      ]
     },
     "execution_count": 24,
     "metadata": {},
     "output_type": "execute_result"
    }
   ],
   "source": [
    "s = list(range(100))\n",
    "random.sample(s, 100)"
   ]
  }
 ],
 "metadata": {
  "kernelspec": {
   "display_name": "Python 3",
   "language": "python",
   "name": "python3"
  },
  "language_info": {
   "codemirror_mode": {
    "name": "ipython",
    "version": 3
   },
   "file_extension": ".py",
   "mimetype": "text/x-python",
   "name": "python",
   "nbconvert_exporter": "python",
   "pygments_lexer": "ipython3",
   "version": "3.6.5"
  }
 },
 "nbformat": 4,
 "nbformat_minor": 2
}
